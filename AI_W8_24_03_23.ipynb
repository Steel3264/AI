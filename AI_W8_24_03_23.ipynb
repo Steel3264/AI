{
  "nbformat": 4,
  "nbformat_minor": 0,
  "metadata": {
    "colab": {
      "provenance": [],
      "authorship_tag": "ABX9TyP8exUdV40JcO9HyBtH8qtv",
      "include_colab_link": true
    },
    "kernelspec": {
      "name": "python3",
      "display_name": "Python 3"
    },
    "language_info": {
      "name": "python"
    }
  },
  "cells": [
    {
      "cell_type": "markdown",
      "metadata": {
        "id": "view-in-github",
        "colab_type": "text"
      },
      "source": [
        "<a href=\"https://colab.research.google.com/github/Steel3264/AI/blob/main/AI_W8_24_03_23.ipynb\" target=\"_parent\"><img src=\"https://colab.research.google.com/assets/colab-badge.svg\" alt=\"Open In Colab\"/></a>"
      ]
    },
    {
      "cell_type": "code",
      "execution_count": 32,
      "metadata": {
        "colab": {
          "base_uri": "https://localhost:8080/"
        },
        "id": "PBjs8pH9O21-",
        "outputId": "c599772c-4dc5-4c50-a7bb-fc135ed851d1"
      },
      "outputs": [
        {
          "output_type": "execute_result",
          "data": {
            "text/plain": [
              "1.0"
            ]
          },
          "metadata": {},
          "execution_count": 32
        }
      ],
      "source": [
        "from sklearn import linear_model\n",
        "from sklearn import datasets\n",
        "from sklearn.linear_model import Perceptron\n",
        "from sklearn.model_selection import train_test_split\n",
        "from sklearn.metrics import accuracy_score\n",
        "from sklearn.preprocessing import StandardScaler\n",
        "import pandas as pd\n",
        "\n",
        "x = [[0,0],[1,0],[0,1],[1,1]]\n",
        "y = [0,1,1,1]\n",
        "\n",
        "model = Perceptron()\n",
        "\n",
        "model.fit(x,y)\n",
        "model.score(x,y)\n",
        "\n",
        "x1 = [[1,0],[0,1],[0.6,0],[0.5,0],[0,0.5],[10,-2],[-0.1,1]]\n",
        "\n",
        "y1 = model.predict(x1)\n",
        "model.score(x1,y1)\n"
      ]
    },
    {
      "cell_type": "code",
      "source": [
        "x2 = [[-1,-1],[-1,1],[0.5,-1],[-0.1,1]]\n",
        "y2 = [1,1,0,0]\n",
        "\n",
        "model1 = Perceptron()\n",
        "model1.fit(x2,y2)\n",
        "model1.score(x2,y2)"
      ],
      "metadata": {
        "colab": {
          "base_uri": "https://localhost:8080/"
        },
        "id": "-aBLjG3VWETH",
        "outputId": "5d596721-3630-4fb1-ced2-c352898de4eb"
      },
      "execution_count": 33,
      "outputs": [
        {
          "output_type": "execute_result",
          "data": {
            "text/plain": [
              "1.0"
            ]
          },
          "metadata": {},
          "execution_count": 33
        }
      ]
    },
    {
      "cell_type": "code",
      "source": [
        "iris = datasets.load_iris()\n",
        "x = iris.data\n",
        "y = iris.target\n",
        "\n",
        "x_train, x_test, y_train, y_test = train_test_split(x, y, test_size=0.5)\n",
        "s = StandardScaler()\n",
        "s.fit(x_train)\n",
        "x_train_std = s.transform(x_train)\n",
        "x_test_std = s.transform(x_test)\n",
        "\n",
        "model = Perceptron(max_iter = 40, eta0 = 0.1, random_state = 0)\n",
        "model.fit(x_train, y_train)\n",
        "y_pred = model.predict(x_test)\n",
        "print(y_test)\n",
        "print(y_pred)\n",
        "print(\"Do chinh xac khi chua STD la\", accuracy_score(y_test,y_pred))\n",
        "model = Perceptron(max_iter = 40, eta0 = 0.1, random_state = 0)\n",
        "model.fit(x_train_std, y_train)\n",
        "y_pred = model.predict(x_test_std)\n",
        "print(y_test)\n",
        "print(y_pred)\n",
        "print(\"Do chinh xac da STD la\", accuracy_score(y_test,y_pred))"
      ],
      "metadata": {
        "colab": {
          "base_uri": "https://localhost:8080/"
        },
        "id": "NRg8aC0uWQrA",
        "outputId": "20aa1b41-a523-4b8f-a95a-8a246d67fa80"
      },
      "execution_count": 28,
      "outputs": [
        {
          "output_type": "stream",
          "name": "stdout",
          "text": [
            "[0 2 1 1 0 2 1 2 0 0 0 2 1 1 0 2 2 0 0 0 2 0 0 1 2 1 2 2 2 2 0 1 0 2 1 0 1\n",
            " 2 0 1 1 0 0 2 0 2 0 0 0 2 1 1 2 0 1 2 1 1 2 1 2 0 2 1 2 2 1 2 1 0 1 0 0 2\n",
            " 2]\n",
            "[0 2 0 1 0 2 1 2 0 0 0 2 1 1 0 2 2 0 0 0 2 0 0 1 2 1 2 2 2 1 0 2 0 2 2 0 1\n",
            " 2 0 1 1 0 0 2 0 2 0 0 0 2 1 0 2 0 2 2 2 1 2 1 2 0 2 1 2 2 1 2 1 0 2 0 0 2\n",
            " 2]\n",
            "Do chinh xac khi chua STD la 0.8933333333333333\n",
            "[0 2 1 1 0 2 1 2 0 0 0 2 1 1 0 2 2 0 0 0 2 0 0 1 2 1 2 2 2 2 0 1 0 2 1 0 1\n",
            " 2 0 1 1 0 0 2 0 2 0 0 0 2 1 1 2 0 1 2 1 1 2 1 2 0 2 1 2 2 1 2 1 0 1 0 0 2\n",
            " 2]\n",
            "[0 2 2 2 0 2 2 2 0 0 0 2 2 1 0 2 2 0 0 0 2 0 0 2 2 2 2 2 2 2 0 2 0 2 2 0 2\n",
            " 2 0 2 1 0 0 2 0 2 0 0 0 2 1 1 2 0 2 2 1 1 2 2 2 0 2 2 2 2 2 2 1 0 2 0 0 2\n",
            " 1]\n",
            "Do chinh xac da STD la 0.7866666666666666\n"
          ]
        }
      ]
    },
    {
      "cell_type": "code",
      "source": [
        "url = 'lung_cancer_examples.csv'\n",
        "data = pd.read_csv(url)\n",
        "\n",
        "x = data.loc[:,['Age','Smokes','AreaQ', 'Alkhol']]\n",
        "y = data['Result']\n",
        "\n",
        "x_train, x_test, y_train, y_test = train_test_split(x, y, test_size=0.1)\n",
        "\n",
        "s = StandardScaler()\n",
        "s.fit(x_train)\n",
        "x_train_std = s.transform(x_train)\n",
        "x_test_std = s.transform(x_test)\n",
        "model = Perceptron(max_iter = 80, eta0 = 0.1, random_state = 0)\n",
        "model.fit(x_train, y_train)\n",
        "y_pred = model.predict(x_test)\n",
        "print(pd.DataFrame(y_test).T)\n",
        "print(y_pred)\n",
        "print(\"Do chinh xac khi chua STD la\", accuracy_score(y_test,y_pred))\n",
        "model = Perceptron(max_iter = 80, eta0 = 0.1, random_state = 0)\n",
        "model.fit(x_train_std, y_train)\n",
        "y_pred = model.predict(x_test_std)\n",
        "print(pd.DataFrame(y_test).T)\n",
        "print(y_pred)\n",
        "print(\"Do chinh xac da STD la\", accuracy_score(y_test,y_pred))"
      ],
      "metadata": {
        "colab": {
          "base_uri": "https://localhost:8080/"
        },
        "id": "Hs6O9BscXDaq",
        "outputId": "d17845fb-ac79-49d2-f800-8af2caae2f59"
      },
      "execution_count": 35,
      "outputs": [
        {
          "output_type": "stream",
          "name": "stdout",
          "text": [
            "        17  49  22  4   15  23\n",
            "Result   0   1   0   1   0   0\n",
            "[0 1 0 1 0 1]\n",
            "Do chinh xac khi chua STD la 0.8333333333333334\n",
            "        17  49  22  4   15  23\n",
            "Result   0   1   0   1   0   0\n",
            "[0 1 0 1 0 0]\n",
            "Do chinh xac da STD la 1.0\n"
          ]
        }
      ]
    },
    {
      "cell_type": "code",
      "source": [
        "url = 'pima-indians-diabetes.csv'\n",
        "data = pd.read_csv(url)\n",
        "\n",
        "x = data.loc[:,['6','148','72','35', '33.6','0.627', '50']]\n",
        "y = data['1']\n",
        "\n",
        "x_train, x_test, y_train, y_test = train_test_split(x, y, test_size=0.1)\n",
        "\n",
        "sc = StandardScaler()\n",
        "sc.fit(x_train)\n",
        "x_train_std = sc.transform(x_train)\n",
        "x_test_std = sc.transform(x_test)\n",
        "\n",
        "model = Perceptron(max_iter = 40, eta0 = 0.1, random_state = 0)\n",
        "model.fit(x_train, y_train)\n",
        "y_pred = model.predict(x_test)\n",
        "print(pd.DataFrame(y_test))\n",
        "print(y_pred)\n",
        "print(\"Do chinh xac khi chua STD la\", accuracy_score(y_test,y_pred))\n",
        "model = Perceptron(max_iter = 40, eta0 = 0.1, random_state = 0)\n",
        "model.fit(x_train_std, y_train)\n",
        "y_pred = model.predict(x_test_std)\n",
        "print(pd.DataFrame(y_test).T)\n",
        "print(y_pred)\n",
        "print(\"Do chinh xac da STD la\", accuracy_score(y_test,y_pred))"
      ],
      "metadata": {
        "colab": {
          "base_uri": "https://localhost:8080/"
        },
        "id": "c3Nn7CxuY7rv",
        "outputId": "abeaf7f5-5fdd-436c-d59e-1cec3d052183"
      },
      "execution_count": 40,
      "outputs": [
        {
          "output_type": "stream",
          "name": "stdout",
          "text": [
            "     1\n",
            "433  0\n",
            "280  0\n",
            "471  0\n",
            "132  0\n",
            "179  0\n",
            "..  ..\n",
            "71   1\n",
            "723  0\n",
            "55   1\n",
            "598  0\n",
            "207  0\n",
            "\n",
            "[77 rows x 1 columns]\n",
            "[1 1 1 1 1 1 1 1 1 1 1 1 1 1 1 1 1 1 1 1 1 1 1 1 1 1 1 1 1 1 1 1 1 1 1 1 1\n",
            " 1 1 1 1 1 1 1 1 1 1 1 1 1 1 1 1 1 1 1 1 1 1 1 1 1 1 1 1 1 1 1 1 1 0 1 1 1\n",
            " 1 1 1]\n",
            "Do chinh xac khi chua STD la 0.33766233766233766\n",
            "   433  280  471  132  179  719  113  174  247  40   ...  29   632  26   348  \\\n",
            "1    0    0    0    0    0    0    1    1    0    0  ...    0    0    0    1   \n",
            "\n",
            "   574  71   723  55   598  207  \n",
            "1    0    1    0    1    0    0  \n",
            "\n",
            "[1 rows x 77 columns]\n",
            "[1 1 0 0 0 0 1 1 0 1 0 1 1 0 0 1 0 0 0 1 1 0 1 1 0 0 1 1 0 0 0 1 0 0 0 1 1\n",
            " 0 0 0 1 1 1 0 0 1 0 1 0 1 0 0 0 1 1 0 0 1 1 1 0 0 1 1 0 0 0 1 0 0 0 0 1 0\n",
            " 1 0 0]\n",
            "Do chinh xac da STD la 0.6883116883116883\n"
          ]
        }
      ]
    }
  ]
}