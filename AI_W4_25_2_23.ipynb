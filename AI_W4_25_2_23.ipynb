{
  "nbformat": 4,
  "nbformat_minor": 0,
  "metadata": {
    "colab": {
      "provenance": [],
      "name": "AI_W4_25_2_23.ipynb",
      "authorship_tag": "ABX9TyMtpVaIlwGHH+Z90sMClty6",
      "include_colab_link": true
    },
    "kernelspec": {
      "name": "python3",
      "display_name": "Python 3"
    },
    "language_info": {
      "name": "python"
    }
  },
  "cells": [
    {
      "cell_type": "markdown",
      "metadata": {
        "id": "view-in-github",
        "colab_type": "text"
      },
      "source": [
        "<a href=\"https://colab.research.google.com/github/Steel3264/AI/blob/main/AI_W4_25_2_23.ipynb\" target=\"_parent\"><img src=\"https://colab.research.google.com/assets/colab-badge.svg\" alt=\"Open In Colab\"/></a>"
      ]
    },
    {
      "cell_type": "code",
      "execution_count": 7,
      "metadata": {
        "id": "xZxWZlT9F0o6"
      },
      "outputs": [],
      "source": [
        "# pip install scikit-fuzzy"
      ]
    },
    {
      "cell_type": "code",
      "source": [
        "import numpy as np\n",
        "import skfuzzy as fuzz\n",
        "import matplotlib.pyplot as plt\n",
        "from skfuzzy import control as ctrl\n",
        "x = np.arange(50,120,1)\n",
        "slow = fuzz.trimf(x,[50,50,60])\n",
        "plt.figure()\n",
        "plt.plot(x, slow, '.', linewidth = 1.5, label = 'slow')\n",
        "medium = fuzz.trimf(x,[50,60,70])\n",
        "plt.plot(x, medium, '.', linewidth = 1.5, label = 'medium')\n",
        "medium_fast = fuzz.trimf(x,[60,70,80])\n",
        "plt.plot(x, medium_fast, '.', linewidth = 1.5, label = 'medium_fast')\n",
        "full_speed = fuzz.trimf(x,[70, 80,80])\n",
        "plt.plot(x, full_speed, '.', linewidth = 1.5, label = 'full_speed')\n",
        "\n"
      ],
      "metadata": {
        "colab": {
          "base_uri": "https://localhost:8080/",
          "height": 282
        },
        "id": "B8biGgTvSega",
        "outputId": "4ce49c64-902b-4e3d-fd3e-57b2a1be6ef2"
      },
      "execution_count": 8,
      "outputs": [
        {
          "output_type": "execute_result",
          "data": {
            "text/plain": [
              "[<matplotlib.lines.Line2D at 0x7f1863ed70a0>]"
            ]
          },
          "metadata": {},
          "execution_count": 8
        },
        {
          "output_type": "display_data",
          "data": {
            "text/plain": [
              "<Figure size 432x288 with 1 Axes>"
            ],
            "image/png": "[encoded data removed]"
          },
          "metadata": {
            "needs_background": "light"
          }
        }
      ]
    },
    {
      "cell_type": "code",
      "source": [
        "slow = fuzz.trapmf(x,[50,60,70,80])\n",
        "plt.plot(x, slow, '.', linewidth = 1.5, label = 'slow')\n",
        "medium = fuzz.trapmf(x,[60,70,80,90])\n",
        "plt.plot(x, medium, '.', linewidth = 1.5, label = 'medium')\n",
        "medium_fast = fuzz.trapmf(x,[70,80,90,100])\n",
        "plt.plot(x, medium_fast, '.', linewidth = 1.5, label = 'medium_fast')\n",
        "full_speed = fuzz.trapmf(x,[80, 90,100,110])\n",
        "plt.plot(x, full_speed, '.', linewidth = 1.5, label = 'full_speed')"
      ],
      "metadata": {
        "colab": {
          "base_uri": "https://localhost:8080/",
          "height": 282
        },
        "id": "f_aGalisXiP7",
        "outputId": "2d07e8e0-1984-4e06-f3ce-797a6261d44b"
      },
      "execution_count": 9,
      "outputs": [
        {
          "output_type": "execute_result",
          "data": {
            "text/plain": [
              "[<matplotlib.lines.Line2D at 0x7f1861ddcd60>]"
            ]
          },
          "metadata": {},
          "execution_count": 9
        },
        {
          "output_type": "display_data",
          "data": {
            "text/plain": [
              "<Figure size 432x288 with 1 Axes>"
            ],
            "image/png": "[encoded data removed]"
          },
          "metadata": {
            "needs_background": "light"
          }
        }
      ]
    },
    {
      "cell_type": "code",
      "source": [
        "slow = fuzz.gaussmf(x,50,4)\n",
        "plt.plot(x, slow, '.', linewidth = 1.5, label = 'slow')\n",
        "medium = fuzz.gaussmf(x,60,4)\n",
        "plt.plot(x, medium, '.', linewidth = 1.5, label = 'medium')\n",
        "medium_fast = fuzz.gaussmf(x,70,4)\n",
        "plt.plot(x, medium_fast, '.', linewidth = 1.5, label = 'medium_fast')\n",
        "full_speed = fuzz.gaussmf(x, 80, 4)\n",
        "plt.plot(x, full_speed, '.', linewidth = 1.5, label = 'full_speed')"
      ],
      "metadata": {
        "id": "4jYXzqVJ0b-Y",
        "outputId": "3d14139e-6796-4563-deb6-bfea42d1495f",
        "colab": {
          "base_uri": "https://localhost:8080/",
          "height": 282
        }
      },
      "execution_count": 10,
      "outputs": [
        {
          "output_type": "execute_result",
          "data": {
            "text/plain": [
              "[<matplotlib.lines.Line2D at 0x7f1861d4f5b0>]"
            ]
          },
          "metadata": {},
          "execution_count": 10
        },
        {
          "output_type": "display_data",
          "data": {
            "text/plain": [
              "<Figure size 432x288 with 1 Axes>"
            ],
            "image/png": "[encoded data removed]"
          },
          "metadata": {
            "needs_background": "light"
          }
        }
      ]
    },
    {
      "cell_type": "code",
      "source": [
        "food = ctrl.Antecedent(np.arange(0,11,1), 'food')\n",
        "service = ctrl.Antecedent(np.arange(0,11,1), 'service')\n",
        "tip = ctrl.Consequent(np.arange(10,31,1), 'tip')\n",
        "\n",
        "food['poor'] = fuzz.trimf(food.universe, [0,0,5])\n",
        "food['average'] = fuzz.trimf(food.universe, [0,5,10])\n",
        "food['good'] = fuzz.trimf(food.universe, [5,10,10])\n",
        "service['poor'] = fuzz.trimf(service.universe, [0,0,5])\n",
        "service['average'] = fuzz.trimf(service.universe, [0,5,10])\n",
        "service['good'] = fuzz.trimf(service.universe, [5,10,10])\n",
        "tip['less'] = fuzz.trimf(tip.universe, [0,0,5])\n",
        "tip['medium'] = fuzz.trimf(tip.universe, [0,5,10])\n",
        "tip['much'] = fuzz.trimf(tip.universe, [5,10,10])\n",
        "\n",
        "# food.view()\n",
        "# service.view()\n",
        "# tip.view()\n",
        "# service['average'].view()\n",
        "\n",
        "rule1 = ctrl.Rule(food['poor'] & service['poor'],tip['less'])\n",
        "rule2 = ctrl.Rule(food['poor'] & service['average'],tip['less'])\n",
        "rule3 = ctrl.Rule(food['poor'] & service['good'],tip['medium'])\n",
        "rule4 = ctrl.Rule(food['average'] & service['poor'],tip['less'])\n",
        "rule5 = ctrl.Rule(food['average'] & service['average'],tip['medium'])\n",
        "rule6 = ctrl.Rule(food['average'] & service['good'],tip['much'])\n",
        "rule7 = ctrl.Rule(food['good'] & service['poor'],tip['medium'])\n",
        "rule8 = ctrl.Rule(food['good'] & service['average'],tip['medium'])\n",
        "rule9 = ctrl.Rule(food['good'] & service['good'],tip['much'])\n",
        "\n",
        "tipping_ctrl = ctrl.ControlSystem([rule1,rule2,rule3,rule4,rule5,rule6,rule7,rule8,rule9])\n",
        "tipping = ctrl.ControlSystemSimulation(tipping_ctrl)\n",
        "\n",
        "tipping.input['food'] = 6.8\n",
        "tipping.input['service'] = 9.8\n",
        "tipping.compute()\n",
        "print(tipping.output['tip'])\n",
        "tip.view(sim = tipping)"
      ],
      "metadata": {
        "colab": {
          "base_uri": "https://localhost:8080/",
          "height": 298
        },
        "id": "eGP4SIlcc4xH",
        "outputId": "8606c4be-0bd6-4919-eadf-447a760a6fb6"
      },
      "execution_count": 11,
      "outputs": [
        {
          "output_type": "stream",
          "name": "stdout",
          "text": [
            "10.365098039215686\n"
          ]
        },
        {
          "output_type": "display_data",
          "data": {
            "text/plain": [
              "<Figure size 432x288 with 1 Axes>"
            ],
            "image/png": "[encoded data removed]"
          },
          "metadata": {
            "needs_background": "light"
          }
        }
      ]
    }
  ]
}