{
  "nbformat": 4,
  "nbformat_minor": 0,
  "metadata": {
    "colab": {
      "provenance": [],
      "authorship_tag": "ABX9TyNJeMEDrCyhpFSuh4Wat2ps",
      "include_colab_link": true
    },
    "kernelspec": {
      "name": "python3",
      "display_name": "Python 3"
    },
    "language_info": {
      "name": "python"
    }
  },
  "cells": [
    {
      "cell_type": "markdown",
      "metadata": {
        "id": "view-in-github",
        "colab_type": "text"
      },
      "source": [
        "<a href=\"https://colab.research.google.com/github/Steel3264/AI/blob/main/AI_W7_17_03_23.ipynb\" target=\"_parent\"><img src=\"https://colab.research.google.com/assets/colab-badge.svg\" alt=\"Open In Colab\"/></a>"
      ]
    },
    {
      "cell_type": "code",
      "source": [
        "import pandas as pd \n",
        "url = 'mtcars.csv'\n",
        "data = pd.read_csv(url)\n",
        "data.head()"
      ],
      "metadata": {
        "colab": {
          "base_uri": "https://localhost:8080/",
          "height": 206
        },
        "id": "_eZxcHblLTrx",
        "outputId": "df86f312-b63f-4dbf-fbe9-816ac51bdbff"
      },
      "execution_count": 4,
      "outputs": [
        {
          "output_type": "execute_result",
          "data": {
            "text/plain": [
              "          Unnamed: 0   mpg   disp   hp     wt\n",
              "0          Mazda RX4  21.0  160.0  110  2.620\n",
              "1      Mazda RX4 Wag  21.0  160.0  110  2.875\n",
              "2         Datsun 710  22.8  108.0   93  2.320\n",
              "3     Hornet 4 Drive  21.4  258.0  110  3.215\n",
              "4  Hornet Sportabout  18.7  360.0  175  3.440"
            ],
            "text/html": [
              "\n",
              "  <div id=\"df-77f23ebc-2344-4465-9fb3-cb75075abd93\">\n",
              "    <div class=\"colab-df-container\">\n",
              "      <div>\n",
              "<style scoped>\n",
              "    .dataframe tbody tr th:only-of-type {\n",
              "        vertical-align: middle;\n",
              "    }\n",
              "\n",
              "    .dataframe tbody tr th {\n",
              "        vertical-align: top;\n",
              "    }\n",
              "\n",
              "    .dataframe thead th {\n",
              "        text-align: right;\n",
              "    }\n",
              "</style>\n",
              "<table border=\"1\" class=\"dataframe\">\n",
              "  <thead>\n",
              "    <tr style=\"text-align: right;\">\n",
              "      <th></th>\n",
              "      <th>Unnamed: 0</th>\n",
              "      <th>mpg</th>\n",
              "      <th>disp</th>\n",
              "      <th>hp</th>\n",
              "      <th>wt</th>\n",
              "    </tr>\n",
              "  </thead>\n",
              "  <tbody>\n",
              "    <tr>\n",
              "      <th>0</th>\n",
              "      <td>Mazda RX4</td>\n",
              "      <td>21.0</td>\n",
              "      <td>160.0</td>\n",
              "      <td>110</td>\n",
              "      <td>2.620</td>\n",
              "    </tr>\n",
              "    <tr>\n",
              "      <th>1</th>\n",
              "      <td>Mazda RX4 Wag</td>\n",
              "      <td>21.0</td>\n",
              "      <td>160.0</td>\n",
              "      <td>110</td>\n",
              "      <td>2.875</td>\n",
              "    </tr>\n",
              "    <tr>\n",
              "      <th>2</th>\n",
              "      <td>Datsun 710</td>\n",
              "      <td>22.8</td>\n",
              "      <td>108.0</td>\n",
              "      <td>93</td>\n",
              "      <td>2.320</td>\n",
              "    </tr>\n",
              "    <tr>\n",
              "      <th>3</th>\n",
              "      <td>Hornet 4 Drive</td>\n",
              "      <td>21.4</td>\n",
              "      <td>258.0</td>\n",
              "      <td>110</td>\n",
              "      <td>3.215</td>\n",
              "    </tr>\n",
              "    <tr>\n",
              "      <th>4</th>\n",
              "      <td>Hornet Sportabout</td>\n",
              "      <td>18.7</td>\n",
              "      <td>360.0</td>\n",
              "      <td>175</td>\n",
              "      <td>3.440</td>\n",
              "    </tr>\n",
              "  </tbody>\n",
              "</table>\n",
              "</div>\n",
              "      <button class=\"colab-df-convert\" onclick=\"convertToInteractive('df-77f23ebc-2344-4465-9fb3-cb75075abd93')\"\n",
              "              title=\"Convert this dataframe to an interactive table.\"\n",
              "              style=\"display:none;\">\n",
              "        \n",
              "  <svg xmlns=\"http://www.w3.org/2000/svg\" height=\"24px\"viewBox=\"0 0 24 24\"\n",
              "       width=\"24px\">\n",
              "    <path d=\"M0 0h24v24H0V0z\" fill=\"none\"/>\n",
              "    <path d=\"M18.56 5.44l.94 2.06.94-2.06 2.06-.94-2.06-.94-.94-2.06-.94 2.06-2.06.94zm-11 1L8.5 8.5l.94-2.06 2.06-.94-2.06-.94L8.5 2.5l-.94 2.06-2.06.94zm10 10l.94 2.06.94-2.06 2.06-.94-2.06-.94-.94-2.06-.94 2.06-2.06.94z\"/><path d=\"M17.41 7.96l-1.37-1.37c-.4-.4-.92-.59-1.43-.59-.52 0-1.04.2-1.43.59L10.3 9.45l-7.72 7.72c-.78.78-.78 2.05 0 2.83L4 21.41c.39.39.9.59 1.41.59.51 0 1.02-.2 1.41-.59l7.78-7.78 2.81-2.81c.8-.78.8-2.07 0-2.86zM5.41 20L4 18.59l7.72-7.72 1.47 1.35L5.41 20z\"/>\n",
              "  </svg>\n",
              "      </button>\n",
              "      \n",
              "  <style>\n",
              "    .colab-df-container {\n",
              "      display:flex;\n",
              "      flex-wrap:wrap;\n",
              "      gap: 12px;\n",
              "    }\n",
              "\n",
              "    .colab-df-convert {\n",
              "      background-color: #E8F0FE;\n",
              "      border: none;\n",
              "      border-radius: 50%;\n",
              "      cursor: pointer;\n",
              "      display: none;\n",
              "      fill: #1967D2;\n",
              "      height: 32px;\n",
              "      padding: 0 0 0 0;\n",
              "      width: 32px;\n",
              "    }\n",
              "\n",
              "    .colab-df-convert:hover {\n",
              "      background-color: #E2EBFA;\n",
              "      box-shadow: 0px 1px 2px rgba(60, 64, 67, 0.3), 0px 1px 3px 1px rgba(60, 64, 67, 0.15);\n",
              "      fill: #174EA6;\n",
              "    }\n",
              "\n",
              "    [theme=dark] .colab-df-convert {\n",
              "      background-color: #3B4455;\n",
              "      fill: #D2E3FC;\n",
              "    }\n",
              "\n",
              "    [theme=dark] .colab-df-convert:hover {\n",
              "      background-color: #434B5C;\n",
              "      box-shadow: 0px 1px 3px 1px rgba(0, 0, 0, 0.15);\n",
              "      filter: drop-shadow(0px 1px 2px rgba(0, 0, 0, 0.3));\n",
              "      fill: #FFFFFF;\n",
              "    }\n",
              "  </style>\n",
              "\n",
              "      <script>\n",
              "        const buttonEl =\n",
              "          document.querySelector('#df-77f23ebc-2344-4465-9fb3-cb75075abd93 button.colab-df-convert');\n",
              "        buttonEl.style.display =\n",
              "          google.colab.kernel.accessAllowed ? 'block' : 'none';\n",
              "\n",
              "        async function convertToInteractive(key) {\n",
              "          const element = document.querySelector('#df-77f23ebc-2344-4465-9fb3-cb75075abd93');\n",
              "          const dataTable =\n",
              "            await google.colab.kernel.invokeFunction('convertToInteractive',\n",
              "                                                     [key], {});\n",
              "          if (!dataTable) return;\n",
              "\n",
              "          const docLinkHtml = 'Like what you see? Visit the ' +\n",
              "            '<a target=\"_blank\" href=https://colab.research.google.com/notebooks/data_table.ipynb>data table notebook</a>'\n",
              "            + ' to learn more about interactive tables.';\n",
              "          element.innerHTML = '';\n",
              "          dataTable['output_type'] = 'display_data';\n",
              "          await google.colab.output.renderOutput(dataTable, element);\n",
              "          const docLink = document.createElement('div');\n",
              "          docLink.innerHTML = docLinkHtml;\n",
              "          element.appendChild(docLink);\n",
              "        }\n",
              "      </script>\n",
              "    </div>\n",
              "  </div>\n",
              "  "
            ]
          },
          "metadata": {},
          "execution_count": 4
        }
      ]
    },
    {
      "cell_type": "code",
      "source": [
        "import matplotlib.pyplot as plt \n",
        "data.hist()   # khổ phân bố dữ liệu \n",
        "plt.show()"
      ],
      "metadata": {
        "colab": {
          "base_uri": "https://localhost:8080/",
          "height": 281
        },
        "id": "OfnsRWPtLT3z",
        "outputId": "82d6e624-d866-409e-e8d1-d3462e5f80cf"
      },
      "execution_count": 5,
      "outputs": [
        {
          "output_type": "display_data",
          "data": {
            "text/plain": [
              "<Figure size 432x288 with 4 Axes>"
            ],
            "image/png": "[encoded data removed]"
          },
          "metadata": {
            "needs_background": "light"
          }
        }
      ]
    },
    {
      "cell_type": "code",
      "source": [
        "correlation = data.corr()\n",
        "print(correlation)"
      ],
      "metadata": {
        "colab": {
          "base_uri": "https://localhost:8080/"
        },
        "id": "tGravTTNLvfi",
        "outputId": "ab31b0e2-e108-4709-dce0-7bacff394607"
      },
      "execution_count": 6,
      "outputs": [
        {
          "output_type": "stream",
          "name": "stdout",
          "text": [
            "           mpg      disp        hp        wt\n",
            "mpg   1.000000 -0.847551 -0.776168 -0.867659\n",
            "disp -0.847551  1.000000  0.790949  0.887980\n",
            "hp   -0.776168  0.790949  1.000000  0.658748\n",
            "wt   -0.867659  0.887980  0.658748  1.000000\n"
          ]
        }
      ]
    },
    {
      "cell_type": "code",
      "source": [
        "import seaborn as sns \n",
        "sns.heatmap(correlation, annot=True ) #màu càng đậm giá trị càng thấp "
      ],
      "metadata": {
        "colab": {
          "base_uri": "https://localhost:8080/",
          "height": 286
        },
        "id": "ZI0S7EA1LyLF",
        "outputId": "869f2aa5-9b39-419f-88c2-295350acebd3"
      },
      "execution_count": 7,
      "outputs": [
        {
          "output_type": "execute_result",
          "data": {
            "text/plain": [
              "<Axes: >"
            ]
          },
          "metadata": {},
          "execution_count": 7
        },
        {
          "output_type": "display_data",
          "data": {
            "text/plain": [
              "<Figure size 432x288 with 2 Axes>"
            ],
            "image/png": "[encoded data removed]"
          },
          "metadata": {
            "needs_background": "light"
          }
        }
      ]
    },
    {
      "cell_type": "code",
      "source": [
        "sns.pairplot(data) "
      ],
      "metadata": {
        "colab": {
          "base_uri": "https://localhost:8080/",
          "height": 743
        },
        "id": "8MQymeOZLx_L",
        "outputId": "6b9792d6-e73f-48ce-84ed-381bc6629fa1"
      },
      "execution_count": 8,
      "outputs": [
        {
          "output_type": "execute_result",
          "data": {
            "text/plain": [
              "<seaborn.axisgrid.PairGrid at 0x7f18bb852790>"
            ]
          },
          "metadata": {},
          "execution_count": 8
        },
        {
          "output_type": "display_data",
          "data": {
            "text/plain": [
              "<Figure size 720x720 with 20 Axes>"
            ],
            "image/png": "[encoded data removed]"
          },
          "metadata": {
            "needs_background": "light"
          }
        }
      ]
    },
    {
      "cell_type": "code",
      "source": [
        "from sklearn import linear_model\n",
        "model = linear_model.LinearRegression()\n",
        "model.fit(X=pd.DataFrame(data['wt']), \n",
        "          y=data['mpg'])\n",
        "print('Hệ số intercept là: ', model.intercept_)\n",
        "print('Hệ số coeffient là: ', model.coef_)\n",
        "\n",
        "#pt hồi quy \n",
        " # (mpg = -5,344wt+37,285)\n",
        " #độ chính xác \n",
        "model.score(X=pd.DataFrame(data['wt']), y=data['mpg'])\n",
        "y_pred = model.predict(X = pd.DataFrame(data['wt']))\n",
        "print(y_pred)\n",
        "y_pred = model.predict(X = pd.DataFrame(data['wt']))\n",
        "print(y_pred)\n",
        "\n",
        "\n"
      ],
      "metadata": {
        "colab": {
          "base_uri": "https://localhost:8080/"
        },
        "id": "7ahXqpAZL5JV",
        "outputId": "171a3442-50b8-425f-a32a-196fee6d04cc"
      },
      "execution_count": 19,
      "outputs": [
        {
          "output_type": "stream",
          "name": "stdout",
          "text": [
            "Hệ số intercept là:  37.28512616734204\n",
            "Hệ số coeffient là:  [-5.34447157]\n",
            "[23.28261065 21.9197704  24.88595212 20.10265006 18.90014396 18.79325453\n",
            " 18.20536265 20.23626185 20.45004071 18.90014396 18.90014396 15.53312687\n",
            " 17.3502472  17.08302362  9.22665041  8.29671236  8.71892561 25.52728871\n",
            " 28.65380458 27.47802083 24.11100374 18.47258623 18.92686632 16.76235533\n",
            " 16.73563297 26.94357367 25.847957   29.19894068 20.34315128 22.48093991\n",
            " 18.20536265 22.4274952 ]\n",
            "[23.28261065 21.9197704  24.88595212 20.10265006 18.90014396 18.79325453\n",
            " 18.20536265 20.23626185 20.45004071 18.90014396 18.90014396 15.53312687\n",
            " 17.3502472  17.08302362  9.22665041  8.29671236  8.71892561 25.52728871\n",
            " 28.65380458 27.47802083 24.11100374 18.47258623 18.92686632 16.76235533\n",
            " 16.73563297 26.94357367 25.847957   29.19894068 20.34315128 22.48093991\n",
            " 18.20536265 22.4274952 ]\n"
          ]
        }
      ]
    },
    {
      "cell_type": "code",
      "source": [
        "#Bac 2\n",
        "model = linear_model.LinearRegression()\n",
        "x = pd.DataFrame([data['wt'], data['wt']**2]).T\n",
        "y=data['mpg']\n",
        "model.fit(X,y=data['mpg'])\n",
        "print('Intecept của mô hình: ', model.intercept_)\n",
        "print('Coeffient của mô hình: ', model.coef_)\n",
        "print('Độ chính xác của mô hình: ', model.score(x,y))\n",
        "\n",
        "#pt hồi quy là: \n",
        "# (-13.38wt + 1.17wt^2 + 49.93)"
      ],
      "metadata": {
        "colab": {
          "base_uri": "https://localhost:8080/"
        },
        "id": "o-ZfGM2ML5Dc",
        "outputId": "21572c8c-50a7-4ac4-e0f7-4abd221048f7"
      },
      "execution_count": 23,
      "outputs": [
        {
          "output_type": "stream",
          "name": "stdout",
          "text": [
            "Intecept của mô hình:  49.93081094945181\n",
            "Coeffient của mô hình:  [-13.38033708   1.17108689]\n",
            "Độ chính xác của mô hình:  0.8190613581384094\n"
          ]
        }
      ]
    },
    {
      "cell_type": "code",
      "source": [
        "import numpy as np\n",
        "range = np.arange(1.5, 5.5, 0.1)\n",
        "x_range=pd.DataFrame([range,range**2]).T \n",
        "y_pred = model.predict(X=x_range)\n",
        "data.plot(kind = 'scatter', x='wt', \n",
        "          y = 'mpg', figsize = (9,9), color = 'black',\n",
        "          xlim = (0,7))\n",
        "plt.plot(range, y_pred, color = 'violet')\n"
      ],
      "metadata": {
        "colab": {
          "base_uri": "https://localhost:8080/",
          "height": 661
        },
        "id": "F97GWBVqL5BW",
        "outputId": "fb279b3c-a0b3-479c-9588-488ca0717d06"
      },
      "execution_count": 43,
      "outputs": [
        {
          "output_type": "stream",
          "name": "stderr",
          "text": [
            "/usr/local/lib/python3.9/dist-packages/sklearn/base.py:439: UserWarning: X does not have valid feature names, but LinearRegression was fitted with feature names\n",
            "  warnings.warn(\n",
            "/usr/local/lib/python3.9/dist-packages/pandas/plotting/_matplotlib/core.py:1114: UserWarning: No data for colormapping provided via 'c'. Parameters 'cmap' will be ignored\n",
            "  scatter = ax.scatter(\n"
          ]
        },
        {
          "output_type": "execute_result",
          "data": {
            "text/plain": [
              "[<matplotlib.lines.Line2D at 0x7f18b69e8cd0>]"
            ]
          },
          "metadata": {},
          "execution_count": 43
        },
        {
          "output_type": "display_data",
          "data": {
            "text/plain": [
              "<Figure size 648x648 with 1 Axes>"
            ],
            "image/png": "[encoded data removed]"
          },
          "metadata": {
            "needs_background": "light"
          }
        }
      ]
    },
    {
      "cell_type": "code",
      "source": [
        "#Bac 10\n",
        "model = linear_model.LinearRegression()\n",
        "X = pd.DataFrame([data['wt'], data['wt']**1, data['wt']**2,  data['wt']**3,  data['wt']**4,  data['wt']**5,  data['wt']**6, data['wt']**7, data['wt']**8, data['wt']**9, data['wt']**10]).T\n",
        "y=data['mpg']\n",
        "\n",
        "model.fit(X,y=data['mpg'])\n",
        "print('Intecept của mô hình: ', model.intercept_)\n",
        "print('Coeffient của mô hình: ', model.coef_)\n",
        "print('Độ chính xác của mô hình: ', model.score(X,y))\n",
        "\n",
        "#pt hồi quy là: \n",
        "# (-9.58wt + 0.11wt^2 + 46.19)\n"
      ],
      "metadata": {
        "colab": {
          "base_uri": "https://localhost:8080/"
        },
        "id": "TzufP7quL4_U",
        "outputId": "2bf5b451-0347-40f2-83b7-c9bfec4f81d7"
      },
      "execution_count": 44,
      "outputs": [
        {
          "output_type": "stream",
          "name": "stdout",
          "text": [
            "Intecept của mô hình:  -14921.120810791104\n",
            "Coeffient của mô hình:  [ 3.22906711e+04  3.22906848e+04 -1.20086131e+05  1.26931928e+05\n",
            " -8.46598456e+04  3.73155199e+04 -1.10334755e+04  2.16590405e+03\n",
            " -2.70730545e+02  1.94974162e+01 -6.15515437e-01]\n",
            "Độ chính xác của mô hình:  0.8702106606279609\n"
          ]
        }
      ]
    },
    {
      "cell_type": "code",
      "source": [
        "import numpy as np\n",
        "range = np.arange(1.5, 5.5, 0.1)\n",
        "X_range=pd.DataFrame([range,range**1,range**2,range**3,range**4,range**5,range**6,range**7,range**8,range**9,range**10]).T \n",
        "y_pred = model.predict(X=X_range)\n",
        "data.plot(kind = 'scatter', x='wt', \n",
        "          y = 'mpg', figsize = (9,9), color = 'black',\n",
        "          xlim = (0,7))\n",
        "plt.plot(range, y_pred, color = 'blue')"
      ],
      "metadata": {
        "colab": {
          "base_uri": "https://localhost:8080/",
          "height": 658
        },
        "id": "93qD3mnLV3SE",
        "outputId": "788009bf-ff1e-4192-d92c-5cbf5b39e709"
      },
      "execution_count": 46,
      "outputs": [
        {
          "output_type": "stream",
          "name": "stderr",
          "text": [
            "/usr/local/lib/python3.9/dist-packages/sklearn/base.py:439: UserWarning: X does not have valid feature names, but LinearRegression was fitted with feature names\n",
            "  warnings.warn(\n",
            "/usr/local/lib/python3.9/dist-packages/pandas/plotting/_matplotlib/core.py:1114: UserWarning: No data for colormapping provided via 'c'. Parameters 'cmap' will be ignored\n",
            "  scatter = ax.scatter(\n"
          ]
        },
        {
          "output_type": "execute_result",
          "data": {
            "text/plain": [
              "[<matplotlib.lines.Line2D at 0x7f18b47af790>]"
            ]
          },
          "metadata": {},
          "execution_count": 46
        },
        {
          "output_type": "display_data",
          "data": {
            "text/plain": [
              "<Figure size 648x648 with 1 Axes>"
            ],
            "image/png": "[encoded data removed]"
          },
          "metadata": {
            "needs_background": "light"
          }
        }
      ]
    },
    {
      "cell_type": "code",
      "source": [],
      "metadata": {
        "id": "cSxTyV9hWU0H"
      },
      "execution_count": null,
      "outputs": []
    },
    {
      "cell_type": "code",
      "source": [],
      "metadata": {
        "id": "eesENh3JWUwo"
      },
      "execution_count": null,
      "outputs": []
    },
    {
      "cell_type": "code",
      "source": [],
      "metadata": {
        "id": "nPIuvuBVWUuv"
      },
      "execution_count": null,
      "outputs": []
    },
    {
      "cell_type": "code",
      "source": [],
      "metadata": {
        "id": "iF89Q5rWWUs4"
      },
      "execution_count": null,
      "outputs": []
    },
    {
      "cell_type": "code",
      "source": [],
      "metadata": {
        "id": "06EzNJppWUqs"
      },
      "execution_count": null,
      "outputs": []
    },
    {
      "cell_type": "code",
      "source": [],
      "metadata": {
        "id": "wD5gYYMuWUoc"
      },
      "execution_count": null,
      "outputs": []
    },
    {
      "cell_type": "code",
      "source": [],
      "metadata": {
        "id": "1wXtIjZZWUgm"
      },
      "execution_count": null,
      "outputs": []
    },
    {
      "cell_type": "code",
      "source": [],
      "metadata": {
        "id": "WYwsXMfRWUc-"
      },
      "execution_count": null,
      "outputs": []
    }
  ]
}