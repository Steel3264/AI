{
  "cells": [
    {
      "cell_type": "markdown",
      "metadata": {
        "id": "view-in-github",
        "colab_type": "text"
      },
      "source": [
        "<a href=\"https://colab.research.google.com/github/Steel3264/AI/blob/main/MachineLearning.ipynb\" target=\"_parent\"><img src=\"https://colab.research.google.com/assets/colab-badge.svg\" alt=\"Open In Colab\"/></a>"
      ]
    },
    {
      "cell_type": "code",
      "execution_count": null,
      "id": "c77a6b60-247a-45da-a2df-ce78c8511be6",
      "metadata": {
        "id": "c77a6b60-247a-45da-a2df-ce78c8511be6",
        "outputId": "629fe048-6de2-4829-e273-85f1b892747c"
      },
      "outputs": [
        {
          "data": {
            "text/plain": [
              "5.0"
            ]
          },
          "execution_count": 40,
          "metadata": {},
          "output_type": "execute_result"
        }
      ],
      "source": []
    },
    {
      "cell_type": "code",
      "execution_count": null,
      "id": "664dba3c-a311-46ea-bc3e-a4f249843a0d",
      "metadata": {
        "id": "664dba3c-a311-46ea-bc3e-a4f249843a0d"
      },
      "outputs": [],
      "source": []
    },
    {
      "cell_type": "code",
      "execution_count": null,
      "id": "13ca8cab-84e3-4362-bb46-51b40676f268",
      "metadata": {
        "id": "13ca8cab-84e3-4362-bb46-51b40676f268"
      },
      "outputs": [],
      "source": []
    },
    {
      "cell_type": "code",
      "execution_count": null,
      "id": "a9567e46-3589-4d25-94ca-c4e3892e391b",
      "metadata": {
        "id": "a9567e46-3589-4d25-94ca-c4e3892e391b"
      },
      "outputs": [],
      "source": []
    },
    {
      "cell_type": "code",
      "execution_count": null,
      "id": "f4962484-82a2-49eb-bb6f-b6c5c3013d1a",
      "metadata": {
        "id": "f4962484-82a2-49eb-bb6f-b6c5c3013d1a",
        "outputId": "c4f086ba-8518-430b-a8c9-84f9af579b97"
      },
      "outputs": [
        {
          "data": {
            "text/html": [
              "<div>\n",
              "<style scoped>\n",
              "    .dataframe tbody tr th:only-of-type {\n",
              "        vertical-align: middle;\n",
              "    }\n",
              "\n",
              "    .dataframe tbody tr th {\n",
              "        vertical-align: top;\n",
              "    }\n",
              "\n",
              "    .dataframe thead th {\n",
              "        text-align: right;\n",
              "    }\n",
              "</style>\n",
              "<table border=\"1\" class=\"dataframe\">\n",
              "  <thead>\n",
              "    <tr style=\"text-align: right;\">\n",
              "      <th></th>\n",
              "      <th>PassengerId</th>\n",
              "      <th>Survived</th>\n",
              "      <th>Pclass</th>\n",
              "      <th>Name</th>\n",
              "      <th>Sex</th>\n",
              "      <th>Age</th>\n",
              "      <th>SibSp</th>\n",
              "      <th>Parch</th>\n",
              "      <th>Ticket</th>\n",
              "      <th>Fare</th>\n",
              "      <th>Cabin</th>\n",
              "      <th>Embarked</th>\n",
              "    </tr>\n",
              "  </thead>\n",
              "  <tbody>\n",
              "    <tr>\n",
              "      <th>0</th>\n",
              "      <td>1</td>\n",
              "      <td>0</td>\n",
              "      <td>3</td>\n",
              "      <td>Braund, Mr. Owen Harris</td>\n",
              "      <td>male</td>\n",
              "      <td>22.0</td>\n",
              "      <td>1</td>\n",
              "      <td>0</td>\n",
              "      <td>A/5 21171</td>\n",
              "      <td>7.2500</td>\n",
              "      <td>NaN</td>\n",
              "      <td>S</td>\n",
              "    </tr>\n",
              "    <tr>\n",
              "      <th>1</th>\n",
              "      <td>2</td>\n",
              "      <td>1</td>\n",
              "      <td>1</td>\n",
              "      <td>Cumings, Mrs. John Bradley (Florence Briggs Th...</td>\n",
              "      <td>female</td>\n",
              "      <td>38.0</td>\n",
              "      <td>1</td>\n",
              "      <td>0</td>\n",
              "      <td>PC 17599</td>\n",
              "      <td>71.2833</td>\n",
              "      <td>C85</td>\n",
              "      <td>C</td>\n",
              "    </tr>\n",
              "    <tr>\n",
              "      <th>2</th>\n",
              "      <td>3</td>\n",
              "      <td>1</td>\n",
              "      <td>3</td>\n",
              "      <td>Heikkinen, Miss. Laina</td>\n",
              "      <td>female</td>\n",
              "      <td>26.0</td>\n",
              "      <td>0</td>\n",
              "      <td>0</td>\n",
              "      <td>STON/O2. 3101282</td>\n",
              "      <td>7.9250</td>\n",
              "      <td>NaN</td>\n",
              "      <td>S</td>\n",
              "    </tr>\n",
              "    <tr>\n",
              "      <th>3</th>\n",
              "      <td>4</td>\n",
              "      <td>1</td>\n",
              "      <td>1</td>\n",
              "      <td>Futrelle, Mrs. Jacques Heath (Lily May Peel)</td>\n",
              "      <td>female</td>\n",
              "      <td>35.0</td>\n",
              "      <td>1</td>\n",
              "      <td>0</td>\n",
              "      <td>113803</td>\n",
              "      <td>53.1000</td>\n",
              "      <td>C123</td>\n",
              "      <td>S</td>\n",
              "    </tr>\n",
              "    <tr>\n",
              "      <th>4</th>\n",
              "      <td>5</td>\n",
              "      <td>0</td>\n",
              "      <td>3</td>\n",
              "      <td>Allen, Mr. William Henry</td>\n",
              "      <td>male</td>\n",
              "      <td>35.0</td>\n",
              "      <td>0</td>\n",
              "      <td>0</td>\n",
              "      <td>373450</td>\n",
              "      <td>8.0500</td>\n",
              "      <td>NaN</td>\n",
              "      <td>S</td>\n",
              "    </tr>\n",
              "    <tr>\n",
              "      <th>5</th>\n",
              "      <td>6</td>\n",
              "      <td>0</td>\n",
              "      <td>3</td>\n",
              "      <td>Moran, Mr. James</td>\n",
              "      <td>male</td>\n",
              "      <td>NaN</td>\n",
              "      <td>0</td>\n",
              "      <td>0</td>\n",
              "      <td>330877</td>\n",
              "      <td>8.4583</td>\n",
              "      <td>NaN</td>\n",
              "      <td>Q</td>\n",
              "    </tr>\n",
              "    <tr>\n",
              "      <th>6</th>\n",
              "      <td>7</td>\n",
              "      <td>0</td>\n",
              "      <td>1</td>\n",
              "      <td>McCarthy, Mr. Timothy J</td>\n",
              "      <td>male</td>\n",
              "      <td>54.0</td>\n",
              "      <td>0</td>\n",
              "      <td>0</td>\n",
              "      <td>17463</td>\n",
              "      <td>51.8625</td>\n",
              "      <td>E46</td>\n",
              "      <td>S</td>\n",
              "    </tr>\n",
              "    <tr>\n",
              "      <th>7</th>\n",
              "      <td>8</td>\n",
              "      <td>0</td>\n",
              "      <td>3</td>\n",
              "      <td>Palsson, Master. Gosta Leonard</td>\n",
              "      <td>male</td>\n",
              "      <td>2.0</td>\n",
              "      <td>3</td>\n",
              "      <td>1</td>\n",
              "      <td>349909</td>\n",
              "      <td>21.0750</td>\n",
              "      <td>NaN</td>\n",
              "      <td>S</td>\n",
              "    </tr>\n",
              "    <tr>\n",
              "      <th>8</th>\n",
              "      <td>9</td>\n",
              "      <td>1</td>\n",
              "      <td>3</td>\n",
              "      <td>Johnson, Mrs. Oscar W (Elisabeth Vilhelmina Berg)</td>\n",
              "      <td>female</td>\n",
              "      <td>27.0</td>\n",
              "      <td>0</td>\n",
              "      <td>2</td>\n",
              "      <td>347742</td>\n",
              "      <td>11.1333</td>\n",
              "      <td>NaN</td>\n",
              "      <td>S</td>\n",
              "    </tr>\n",
              "    <tr>\n",
              "      <th>9</th>\n",
              "      <td>10</td>\n",
              "      <td>1</td>\n",
              "      <td>2</td>\n",
              "      <td>Nasser, Mrs. Nicholas (Adele Achem)</td>\n",
              "      <td>female</td>\n",
              "      <td>14.0</td>\n",
              "      <td>1</td>\n",
              "      <td>0</td>\n",
              "      <td>237736</td>\n",
              "      <td>30.0708</td>\n",
              "      <td>NaN</td>\n",
              "      <td>C</td>\n",
              "    </tr>\n",
              "    <tr>\n",
              "      <th>10</th>\n",
              "      <td>11</td>\n",
              "      <td>1</td>\n",
              "      <td>3</td>\n",
              "      <td>Sandstrom, Miss. Marguerite Rut</td>\n",
              "      <td>female</td>\n",
              "      <td>4.0</td>\n",
              "      <td>1</td>\n",
              "      <td>1</td>\n",
              "      <td>PP 9549</td>\n",
              "      <td>16.7000</td>\n",
              "      <td>G6</td>\n",
              "      <td>S</td>\n",
              "    </tr>\n",
              "    <tr>\n",
              "      <th>11</th>\n",
              "      <td>12</td>\n",
              "      <td>1</td>\n",
              "      <td>1</td>\n",
              "      <td>Bonnell, Miss. Elizabeth</td>\n",
              "      <td>female</td>\n",
              "      <td>58.0</td>\n",
              "      <td>0</td>\n",
              "      <td>0</td>\n",
              "      <td>113783</td>\n",
              "      <td>26.5500</td>\n",
              "      <td>C103</td>\n",
              "      <td>S</td>\n",
              "    </tr>\n",
              "    <tr>\n",
              "      <th>12</th>\n",
              "      <td>13</td>\n",
              "      <td>0</td>\n",
              "      <td>3</td>\n",
              "      <td>Saundercock, Mr. William Henry</td>\n",
              "      <td>male</td>\n",
              "      <td>20.0</td>\n",
              "      <td>0</td>\n",
              "      <td>0</td>\n",
              "      <td>A/5. 2151</td>\n",
              "      <td>8.0500</td>\n",
              "      <td>NaN</td>\n",
              "      <td>S</td>\n",
              "    </tr>\n",
              "    <tr>\n",
              "      <th>13</th>\n",
              "      <td>14</td>\n",
              "      <td>0</td>\n",
              "      <td>3</td>\n",
              "      <td>Andersson, Mr. Anders Johan</td>\n",
              "      <td>male</td>\n",
              "      <td>39.0</td>\n",
              "      <td>1</td>\n",
              "      <td>5</td>\n",
              "      <td>347082</td>\n",
              "      <td>31.2750</td>\n",
              "      <td>NaN</td>\n",
              "      <td>S</td>\n",
              "    </tr>\n",
              "    <tr>\n",
              "      <th>14</th>\n",
              "      <td>15</td>\n",
              "      <td>0</td>\n",
              "      <td>3</td>\n",
              "      <td>Vestrom, Miss. Hulda Amanda Adolfina</td>\n",
              "      <td>female</td>\n",
              "      <td>14.0</td>\n",
              "      <td>0</td>\n",
              "      <td>0</td>\n",
              "      <td>350406</td>\n",
              "      <td>7.8542</td>\n",
              "      <td>NaN</td>\n",
              "      <td>S</td>\n",
              "    </tr>\n",
              "    <tr>\n",
              "      <th>15</th>\n",
              "      <td>16</td>\n",
              "      <td>1</td>\n",
              "      <td>2</td>\n",
              "      <td>Hewlett, Mrs. (Mary D Kingcome)</td>\n",
              "      <td>female</td>\n",
              "      <td>55.0</td>\n",
              "      <td>0</td>\n",
              "      <td>0</td>\n",
              "      <td>248706</td>\n",
              "      <td>16.0000</td>\n",
              "      <td>NaN</td>\n",
              "      <td>S</td>\n",
              "    </tr>\n",
              "    <tr>\n",
              "      <th>16</th>\n",
              "      <td>17</td>\n",
              "      <td>0</td>\n",
              "      <td>3</td>\n",
              "      <td>Rice, Master. Eugene</td>\n",
              "      <td>male</td>\n",
              "      <td>2.0</td>\n",
              "      <td>4</td>\n",
              "      <td>1</td>\n",
              "      <td>382652</td>\n",
              "      <td>29.1250</td>\n",
              "      <td>NaN</td>\n",
              "      <td>Q</td>\n",
              "    </tr>\n",
              "    <tr>\n",
              "      <th>17</th>\n",
              "      <td>18</td>\n",
              "      <td>1</td>\n",
              "      <td>2</td>\n",
              "      <td>Williams, Mr. Charles Eugene</td>\n",
              "      <td>male</td>\n",
              "      <td>NaN</td>\n",
              "      <td>0</td>\n",
              "      <td>0</td>\n",
              "      <td>244373</td>\n",
              "      <td>13.0000</td>\n",
              "      <td>NaN</td>\n",
              "      <td>S</td>\n",
              "    </tr>\n",
              "    <tr>\n",
              "      <th>18</th>\n",
              "      <td>19</td>\n",
              "      <td>0</td>\n",
              "      <td>3</td>\n",
              "      <td>Vander Planke, Mrs. Julius (Emelia Maria Vande...</td>\n",
              "      <td>female</td>\n",
              "      <td>31.0</td>\n",
              "      <td>1</td>\n",
              "      <td>0</td>\n",
              "      <td>345763</td>\n",
              "      <td>18.0000</td>\n",
              "      <td>NaN</td>\n",
              "      <td>S</td>\n",
              "    </tr>\n",
              "    <tr>\n",
              "      <th>19</th>\n",
              "      <td>20</td>\n",
              "      <td>1</td>\n",
              "      <td>3</td>\n",
              "      <td>Masselmani, Mrs. Fatima</td>\n",
              "      <td>female</td>\n",
              "      <td>NaN</td>\n",
              "      <td>0</td>\n",
              "      <td>0</td>\n",
              "      <td>2649</td>\n",
              "      <td>7.2250</td>\n",
              "      <td>NaN</td>\n",
              "      <td>C</td>\n",
              "    </tr>\n",
              "    <tr>\n",
              "      <th>20</th>\n",
              "      <td>21</td>\n",
              "      <td>0</td>\n",
              "      <td>2</td>\n",
              "      <td>Fynney, Mr. Joseph J</td>\n",
              "      <td>male</td>\n",
              "      <td>35.0</td>\n",
              "      <td>0</td>\n",
              "      <td>0</td>\n",
              "      <td>239865</td>\n",
              "      <td>26.0000</td>\n",
              "      <td>NaN</td>\n",
              "      <td>S</td>\n",
              "    </tr>\n",
              "    <tr>\n",
              "      <th>21</th>\n",
              "      <td>22</td>\n",
              "      <td>1</td>\n",
              "      <td>2</td>\n",
              "      <td>Beesley, Mr. Lawrence</td>\n",
              "      <td>male</td>\n",
              "      <td>34.0</td>\n",
              "      <td>0</td>\n",
              "      <td>0</td>\n",
              "      <td>248698</td>\n",
              "      <td>13.0000</td>\n",
              "      <td>D56</td>\n",
              "      <td>S</td>\n",
              "    </tr>\n",
              "    <tr>\n",
              "      <th>22</th>\n",
              "      <td>23</td>\n",
              "      <td>1</td>\n",
              "      <td>3</td>\n",
              "      <td>McGowan, Miss. Anna \"Annie\"</td>\n",
              "      <td>female</td>\n",
              "      <td>15.0</td>\n",
              "      <td>0</td>\n",
              "      <td>0</td>\n",
              "      <td>330923</td>\n",
              "      <td>8.0292</td>\n",
              "      <td>NaN</td>\n",
              "      <td>Q</td>\n",
              "    </tr>\n",
              "    <tr>\n",
              "      <th>23</th>\n",
              "      <td>24</td>\n",
              "      <td>1</td>\n",
              "      <td>1</td>\n",
              "      <td>Sloper, Mr. William Thompson</td>\n",
              "      <td>male</td>\n",
              "      <td>28.0</td>\n",
              "      <td>0</td>\n",
              "      <td>0</td>\n",
              "      <td>113788</td>\n",
              "      <td>35.5000</td>\n",
              "      <td>A6</td>\n",
              "      <td>S</td>\n",
              "    </tr>\n",
              "  </tbody>\n",
              "</table>\n",
              "</div>"
            ],
            "text/plain": [
              "    PassengerId  Survived  Pclass  \\\n",
              "0             1         0       3   \n",
              "1             2         1       1   \n",
              "2             3         1       3   \n",
              "3             4         1       1   \n",
              "4             5         0       3   \n",
              "5             6         0       3   \n",
              "6             7         0       1   \n",
              "7             8         0       3   \n",
              "8             9         1       3   \n",
              "9            10         1       2   \n",
              "10           11         1       3   \n",
              "11           12         1       1   \n",
              "12           13         0       3   \n",
              "13           14         0       3   \n",
              "14           15         0       3   \n",
              "15           16         1       2   \n",
              "16           17         0       3   \n",
              "17           18         1       2   \n",
              "18           19         0       3   \n",
              "19           20         1       3   \n",
              "20           21         0       2   \n",
              "21           22         1       2   \n",
              "22           23         1       3   \n",
              "23           24         1       1   \n",
              "\n",
              "                                                 Name     Sex   Age  SibSp  \\\n",
              "0                             Braund, Mr. Owen Harris    male  22.0      1   \n",
              "1   Cumings, Mrs. John Bradley (Florence Briggs Th...  female  38.0      1   \n",
              "2                              Heikkinen, Miss. Laina  female  26.0      0   \n",
              "3        Futrelle, Mrs. Jacques Heath (Lily May Peel)  female  35.0      1   \n",
              "4                            Allen, Mr. William Henry    male  35.0      0   \n",
              "5                                    Moran, Mr. James    male   NaN      0   \n",
              "6                             McCarthy, Mr. Timothy J    male  54.0      0   \n",
              "7                      Palsson, Master. Gosta Leonard    male   2.0      3   \n",
              "8   Johnson, Mrs. Oscar W (Elisabeth Vilhelmina Berg)  female  27.0      0   \n",
              "9                 Nasser, Mrs. Nicholas (Adele Achem)  female  14.0      1   \n",
              "10                    Sandstrom, Miss. Marguerite Rut  female   4.0      1   \n",
              "11                           Bonnell, Miss. Elizabeth  female  58.0      0   \n",
              "12                     Saundercock, Mr. William Henry    male  20.0      0   \n",
              "13                        Andersson, Mr. Anders Johan    male  39.0      1   \n",
              "14               Vestrom, Miss. Hulda Amanda Adolfina  female  14.0      0   \n",
              "15                   Hewlett, Mrs. (Mary D Kingcome)   female  55.0      0   \n",
              "16                               Rice, Master. Eugene    male   2.0      4   \n",
              "17                       Williams, Mr. Charles Eugene    male   NaN      0   \n",
              "18  Vander Planke, Mrs. Julius (Emelia Maria Vande...  female  31.0      1   \n",
              "19                            Masselmani, Mrs. Fatima  female   NaN      0   \n",
              "20                               Fynney, Mr. Joseph J    male  35.0      0   \n",
              "21                              Beesley, Mr. Lawrence    male  34.0      0   \n",
              "22                        McGowan, Miss. Anna \"Annie\"  female  15.0      0   \n",
              "23                       Sloper, Mr. William Thompson    male  28.0      0   \n",
              "\n",
              "    Parch            Ticket     Fare Cabin Embarked  \n",
              "0       0         A/5 21171   7.2500   NaN        S  \n",
              "1       0          PC 17599  71.2833   C85        C  \n",
              "2       0  STON/O2. 3101282   7.9250   NaN        S  \n",
              "3       0            113803  53.1000  C123        S  \n",
              "4       0            373450   8.0500   NaN        S  \n",
              "5       0            330877   8.4583   NaN        Q  \n",
              "6       0             17463  51.8625   E46        S  \n",
              "7       1            349909  21.0750   NaN        S  \n",
              "8       2            347742  11.1333   NaN        S  \n",
              "9       0            237736  30.0708   NaN        C  \n",
              "10      1           PP 9549  16.7000    G6        S  \n",
              "11      0            113783  26.5500  C103        S  \n",
              "12      0         A/5. 2151   8.0500   NaN        S  \n",
              "13      5            347082  31.2750   NaN        S  \n",
              "14      0            350406   7.8542   NaN        S  \n",
              "15      0            248706  16.0000   NaN        S  \n",
              "16      1            382652  29.1250   NaN        Q  \n",
              "17      0            244373  13.0000   NaN        S  \n",
              "18      0            345763  18.0000   NaN        S  \n",
              "19      0              2649   7.2250   NaN        C  \n",
              "20      0            239865  26.0000   NaN        S  \n",
              "21      0            248698  13.0000   D56        S  \n",
              "22      0            330923   8.0292   NaN        Q  \n",
              "23      0            113788  35.5000    A6        S  "
            ]
          },
          "execution_count": 1,
          "metadata": {},
          "output_type": "execute_result"
        }
      ],
      "source": [
        "      # Load library\n",
        "import pandas as pd\n",
        "# Create URL\n",
        "url = \"titanic.csv\"\n",
        "# Load data as a dataframe\n",
        "dataframe = pd.read_csv(url)\n",
        "# Show first 5 rows\n",
        "dataframe.head(24)      "
      ]
    },
    {
      "cell_type": "code",
      "execution_count": null,
      "id": "e95200af-7f90-4e36-b805-3baaca9500c8",
      "metadata": {
        "id": "e95200af-7f90-4e36-b805-3baaca9500c8",
        "outputId": "2a5f3080-bdbc-4516-e19a-308d44843ba0"
      },
      "outputs": [
        {
          "data": {
            "text/plain": [
              "Name        Cường\n",
              "Age            20\n",
              "Nickname       gà\n",
              "Name: 0, dtype: object"
            ]
          },
          "execution_count": 4,
          "metadata": {},
          "output_type": "execute_result"
        }
      ],
      "source": [
        "import pandas as pd\n",
        "# Create DataFrame\n",
        "dataframe = pd.DataFrame()\n",
        "# Add columns\n",
        "dataframe['Name'] = ['Cường', 'Steven']\n",
        "dataframe['Age'] = [20, 25]\n",
        "dataframe['Nickname'] = [\"gà\", False]\n",
        "# Show DataFrame\n",
        "dataframe\n",
        "dataframe.iloc[0]"
      ]
    },
    {
      "cell_type": "code",
      "execution_count": null,
      "id": "5e247a69-70b3-47fc-a2ce-64e6bdd23221",
      "metadata": {
        "id": "5e247a69-70b3-47fc-a2ce-64e6bdd23221",
        "outputId": "35c9644c-2ddc-4959-bcd6-98073b19ce67"
      },
      "outputs": [
        {
          "data": {
            "text/plain": [
              "array([[0.        ],\n",
              "       [0.28571429],\n",
              "       [0.35714286],\n",
              "       [0.42857143],\n",
              "       [1.        ]])"
            ]
          },
          "execution_count": 3,
          "metadata": {},
          "output_type": "execute_result"
        }
      ],
      "source": [
        "# Load libraries\n",
        "import numpy as np\n",
        "from sklearn import preprocessing\n",
        "# Create feature\n",
        "feature = np.array([[-500.5],\n",
        " [-100.1],\n",
        " [0],\n",
        " [100.1],\n",
        " [900.9]])\n",
        "# Create scaler\n",
        "minmax_scale = preprocessing.MinMaxScaler(feature_range=(0, 1))\n",
        "# Scale feature\n",
        "scaled_feature = minmax_scale.fit_transform(feature)\n",
        "# Show feature\n",
        "scaled_feature\n"
      ]
    },
    {
      "cell_type": "code",
      "execution_count": null,
      "id": "808119eb-6a7c-4080-a32a-8626ceb1cd21",
      "metadata": {
        "id": "808119eb-6a7c-4080-a32a-8626ceb1cd21",
        "outputId": "9718a308-7767-4181-d3dd-9edcdb2d463b"
      },
      "outputs": [
        {
          "data": {
            "text/plain": [
              "array([[2., 3., 4., 6., 9.],\n",
              "       [2., 3., 4., 6., 9.],\n",
              "       [2., 3., 4., 6., 9.]])"
            ]
          },
          "execution_count": 7,
          "metadata": {},
          "output_type": "execute_result"
        }
      ],
      "source": [
        "# Load libraries\n",
        "import numpy as np\n",
        "from sklearn.preprocessing import PolynomialFeatures\n",
        "# Create feature matrix\n",
        "features = np.array([[2, 3],\n",
        " [2, 3],[2, 3]])\n",
        "# Create PolynomialFeatures object\n",
        "polynomial_interaction = PolynomialFeatures(degree=2, include_bias=False)\n",
        "# Create polynomial features\n",
        "polynomial_interaction.fit_transform(features)"
      ]
    },
    {
      "cell_type": "code",
      "execution_count": null,
      "id": "ada1302b-7f45-4ff8-a48d-b96e1cf5f9a9",
      "metadata": {
        "id": "ada1302b-7f45-4ff8-a48d-b96e1cf5f9a9",
        "outputId": "ad75dae6-40dd-4455-e19f-a930205eef19"
      },
      "outputs": [
        {
          "data": {
            "text/html": [
              "<div>\n",
              "<style scoped>\n",
              "    .dataframe tbody tr th:only-of-type {\n",
              "        vertical-align: middle;\n",
              "    }\n",
              "\n",
              "    .dataframe tbody tr th {\n",
              "        vertical-align: top;\n",
              "    }\n",
              "\n",
              "    .dataframe thead th {\n",
              "        text-align: right;\n",
              "    }\n",
              "</style>\n",
              "<table border=\"1\" class=\"dataframe\">\n",
              "  <thead>\n",
              "    <tr style=\"text-align: right;\">\n",
              "      <th></th>\n",
              "      <th>sieu_nhan_1</th>\n",
              "      <th>sieu_nhan_2</th>\n",
              "    </tr>\n",
              "  </thead>\n",
              "  <tbody>\n",
              "    <tr>\n",
              "      <th>0</th>\n",
              "      <td>15</td>\n",
              "      <td>14</td>\n",
              "    </tr>\n",
              "    <tr>\n",
              "      <th>1</th>\n",
              "      <td>12</td>\n",
              "      <td>13</td>\n",
              "    </tr>\n",
              "    <tr>\n",
              "      <th>2</th>\n",
              "      <td>12</td>\n",
              "      <td>13</td>\n",
              "    </tr>\n",
              "  </tbody>\n",
              "</table>\n",
              "</div>"
            ],
            "text/plain": [
              "   sieu_nhan_1  sieu_nhan_2\n",
              "0           15           14\n",
              "1           12           13\n",
              "2           12           13"
            ]
          },
          "execution_count": 18,
          "metadata": {},
          "output_type": "execute_result"
        }
      ],
      "source": [
        "import numpy as np\n",
        "import pandas as pd\n",
        "from sklearn.preprocessing import FunctionTransformer\n",
        "features = np.array([[5, 4],\n",
        " [2, 3],\n",
        " [2, 3]])\n",
        "# Define a simple function\n",
        "def add_ten(x):\n",
        " return x + 10\n",
        "# Create transformer\n",
        "ten_transformer = FunctionTransformer(add_ten)\n",
        "# Transform feature matrix\n",
        "ten_transformer.transform(features)\n",
        "df = pd.DataFrame(features, columns=[\"sieu_nhan_1\", \"sieu_nhan_2\"])\n",
        "# Apply function\n",
        "df.apply(add_ten)"
      ]
    },
    {
      "cell_type": "code",
      "execution_count": null,
      "id": "a0a2c6e1-d927-450a-93fc-cba8e6fba645",
      "metadata": {
        "id": "a0a2c6e1-d927-450a-93fc-cba8e6fba645",
        "outputId": "6e3be2db-8bc6-4d46-91ad-3a17d9e06f94"
      },
      "outputs": [
        {
          "data": {
            "text/plain": [
              "array([-1,  1,  1,  1,  1,  1,  1,  1,  1,  1])"
            ]
          },
          "execution_count": 20,
          "metadata": {},
          "output_type": "execute_result"
        }
      ],
      "source": [
        "import numpy as np\n",
        "from sklearn.covariance import EllipticEnvelope\n",
        "from sklearn.datasets import make_blobs\n",
        "# Create simulated data\n",
        "features, _ = make_blobs(n_samples = 10,\n",
        " n_features = 2,\n",
        " centers = 1,\n",
        " random_state = 1)\n",
        "# Replace the first observation's values with extreme values\n",
        "features[0,0] = 10000\n",
        "features[0,1] = 10000\n",
        "outlier_detector = EllipticEnvelope(contamination=.1)\n",
        "# Fit detector\n",
        "outlier_detector.fit(features)\n",
        "# Predict outliers\n",
        "outlier_detector.predict(features)"
      ]
    },
    {
      "cell_type": "code",
      "execution_count": null,
      "id": "b75c835b-e858-4795-9206-20cc4829fab8",
      "metadata": {
        "id": "b75c835b-e858-4795-9206-20cc4829fab8",
        "outputId": "f26ab455-41d5-4983-b681-125d6653352d"
      },
      "outputs": [
        {
          "data": {
            "text/html": [
              "<div>\n",
              "<style scoped>\n",
              "    .dataframe tbody tr th:only-of-type {\n",
              "        vertical-align: middle;\n",
              "    }\n",
              "\n",
              "    .dataframe tbody tr th {\n",
              "        vertical-align: top;\n",
              "    }\n",
              "\n",
              "    .dataframe thead th {\n",
              "        text-align: right;\n",
              "    }\n",
              "</style>\n",
              "<table border=\"1\" class=\"dataframe\">\n",
              "  <thead>\n",
              "    <tr style=\"text-align: right;\">\n",
              "      <th></th>\n",
              "      <th>Price</th>\n",
              "      <th>Bathrooms</th>\n",
              "      <th>Square_Feet</th>\n",
              "      <th>Outlier</th>\n",
              "      <th>Log_Of_Square_Feet</th>\n",
              "    </tr>\n",
              "  </thead>\n",
              "  <tbody>\n",
              "    <tr>\n",
              "      <th>0</th>\n",
              "      <td>534433</td>\n",
              "      <td>2.0</td>\n",
              "      <td>1500</td>\n",
              "      <td>0</td>\n",
              "      <td>7.313220</td>\n",
              "    </tr>\n",
              "    <tr>\n",
              "      <th>1</th>\n",
              "      <td>392333</td>\n",
              "      <td>3.5</td>\n",
              "      <td>2500</td>\n",
              "      <td>0</td>\n",
              "      <td>7.824046</td>\n",
              "    </tr>\n",
              "    <tr>\n",
              "      <th>2</th>\n",
              "      <td>293222</td>\n",
              "      <td>2.0</td>\n",
              "      <td>1500</td>\n",
              "      <td>0</td>\n",
              "      <td>7.313220</td>\n",
              "    </tr>\n",
              "    <tr>\n",
              "      <th>3</th>\n",
              "      <td>4322032</td>\n",
              "      <td>116.0</td>\n",
              "      <td>48000</td>\n",
              "      <td>1</td>\n",
              "      <td>10.778956</td>\n",
              "    </tr>\n",
              "  </tbody>\n",
              "</table>\n",
              "</div>"
            ],
            "text/plain": [
              "     Price  Bathrooms  Square_Feet  Outlier  Log_Of_Square_Feet\n",
              "0   534433        2.0         1500        0            7.313220\n",
              "1   392333        3.5         2500        0            7.824046\n",
              "2   293222        2.0         1500        0            7.313220\n",
              "3  4322032      116.0        48000        1           10.778956"
            ]
          },
          "execution_count": 4,
          "metadata": {},
          "output_type": "execute_result"
        }
      ],
      "source": [
        "# Load library\n",
        "import pandas as pd\n",
        "# Create DataFrame\n",
        "houses = pd.DataFrame()\n",
        "houses['Price'] = [534433, 392333, 293222, 4322032]\n",
        "houses['Bathrooms'] = [2, 3.5, 2, 116]\n",
        "houses['Square_Feet'] = [1500, 2500, 1500, 48000]\n",
        "# Filter observations\n",
        "houses[houses['Bathrooms'] < 20]\n",
        "# Load library\n",
        "import numpy as np\n",
        "# Create feature based on boolean condition\n",
        "houses[\"Outlier\"] = np.where(houses[\"Bathrooms\"] < 20, 0, 1)\n",
        "# Show data\n",
        "houses\n",
        "# Log feature\n",
        "houses[\"Log_Of_Square_Feet\"] = [np.log(x) for x in houses[\"Square_Feet\"]]\n",
        "# Show data\n",
        "houses\n"
      ]
    },
    {
      "cell_type": "code",
      "execution_count": null,
      "id": "a9ee4b38-b567-4485-9b3d-b601dfda457e",
      "metadata": {
        "id": "a9ee4b38-b567-4485-9b3d-b601dfda457e",
        "outputId": "5c2f8407-5392-4995-f716-aa689a97adf9"
      },
      "outputs": [
        {
          "data": {
            "text/plain": [
              "array([[0, 0, 1],\n",
              "       [1, 0, 0],\n",
              "       [0, 0, 1],\n",
              "       [0, 1, 0],\n",
              "       [0, 0, 1]])"
            ]
          },
          "execution_count": 13,
          "metadata": {},
          "output_type": "execute_result"
        }
      ],
      "source": [
        "import numpy as np\n",
        "from sklearn.preprocessing import LabelBinarizer, MultiLabelBinarizer\n",
        "# Create feature\n",
        "feature = np.array([[\"Texas\"],\n",
        " [\"California\"],\n",
        " [\"Texas\"],\n",
        " [\"Delaware\"],\n",
        " [\"Texas\"]])\n",
        "# Create one-hot encoder\n",
        "one_hot = LabelBinarizer()\n",
        "# One-hot encode feature\n",
        "one_hot.fit_transform(feature)"
      ]
    },
    {
      "cell_type": "code",
      "execution_count": null,
      "id": "26add25b-f605-4740-86f8-2df347b4f846",
      "metadata": {
        "id": "26add25b-f605-4740-86f8-2df347b4f846",
        "outputId": "ea6ca842-11d1-4b69-c87d-c924f3523298"
      },
      "outputs": [
        {
          "data": {
            "text/html": [
              "<div>\n",
              "<style scoped>\n",
              "    .dataframe tbody tr th:only-of-type {\n",
              "        vertical-align: middle;\n",
              "    }\n",
              "\n",
              "    .dataframe tbody tr th {\n",
              "        vertical-align: top;\n",
              "    }\n",
              "\n",
              "    .dataframe thead th {\n",
              "        text-align: right;\n",
              "    }\n",
              "</style>\n",
              "<table border=\"1\" class=\"dataframe\">\n",
              "  <thead>\n",
              "    <tr style=\"text-align: right;\">\n",
              "      <th></th>\n",
              "      <th>California</th>\n",
              "      <th>Delaware</th>\n",
              "      <th>Texas</th>\n",
              "    </tr>\n",
              "  </thead>\n",
              "  <tbody>\n",
              "    <tr>\n",
              "      <th>0</th>\n",
              "      <td>0</td>\n",
              "      <td>0</td>\n",
              "      <td>1</td>\n",
              "    </tr>\n",
              "    <tr>\n",
              "      <th>1</th>\n",
              "      <td>1</td>\n",
              "      <td>0</td>\n",
              "      <td>0</td>\n",
              "    </tr>\n",
              "    <tr>\n",
              "      <th>2</th>\n",
              "      <td>0</td>\n",
              "      <td>0</td>\n",
              "      <td>1</td>\n",
              "    </tr>\n",
              "    <tr>\n",
              "      <th>3</th>\n",
              "      <td>0</td>\n",
              "      <td>1</td>\n",
              "      <td>0</td>\n",
              "    </tr>\n",
              "    <tr>\n",
              "      <th>4</th>\n",
              "      <td>0</td>\n",
              "      <td>0</td>\n",
              "      <td>1</td>\n",
              "    </tr>\n",
              "  </tbody>\n",
              "</table>\n",
              "</div>"
            ],
            "text/plain": [
              "   California  Delaware  Texas\n",
              "0           0         0      1\n",
              "1           1         0      0\n",
              "2           0         0      1\n",
              "3           0         1      0\n",
              "4           0         0      1"
            ]
          },
          "execution_count": 7,
          "metadata": {},
          "output_type": "execute_result"
        }
      ],
      "source": [
        "\n",
        "one_hot.classes_\n",
        "one_hot.inverse_transform(one_hot.transform(feature))\n",
        "import pandas as pd\n",
        "# Create dummy variables from f\n",
        "pd.get_dummies(feature[:,0])\n"
      ]
    },
    {
      "cell_type": "code",
      "execution_count": null,
      "id": "5bb0e4b8-76a3-4638-895e-195168315719",
      "metadata": {
        "id": "5bb0e4b8-76a3-4638-895e-195168315719",
        "outputId": "03fbd494-0c07-43a7-c51d-b5ab64c1ec86"
      },
      "outputs": [
        {
          "data": {
            "text/plain": [
              "array([[0, 0, 0, 1, 1],\n",
              "       [1, 1, 0, 0, 0],\n",
              "       [0, 0, 0, 1, 1],\n",
              "       [0, 0, 1, 1, 0],\n",
              "       [1, 0, 0, 0, 1]])"
            ]
          },
          "execution_count": 6,
          "metadata": {},
          "output_type": "execute_result"
        }
      ],
      "source": [
        "multiclass_feature = [(\"Texas\", \"Florida\"),\n",
        " (\"California\", \"Alabama\"),\n",
        " (\"Texas\", \"Florida\"),\n",
        " (\"Delware\", \"Florida\"),\n",
        " (\"Texas\", \"Alabama\")]\n",
        "# Create multiclass one-hot encoder\n",
        "one_hot_multiclass = MultiLabelBinarizer()\n",
        "# One-hot encode multiclass feature\n",
        "one_hot_multiclass.fit_transform(multiclass_feature)"
      ]
    },
    {
      "cell_type": "code",
      "execution_count": null,
      "id": "c88bd16e-b96c-4ac2-b9f3-2407ac83b219",
      "metadata": {
        "id": "c88bd16e-b96c-4ac2-b9f3-2407ac83b219",
        "outputId": "78c0f3f5-2343-40cd-c34b-2b0dff4271c9"
      },
      "outputs": [
        {
          "data": {
            "text/plain": [
              "0    1\n",
              "1    1\n",
              "2    2\n",
              "3    2\n",
              "4    3\n",
              "Name: Score, dtype: int64"
            ]
          },
          "execution_count": 19,
          "metadata": {},
          "output_type": "execute_result"
        }
      ],
      "source": [
        "# Load library\n",
        "import pandas as pd\n",
        "# Create features\n",
        "dataframe = pd.DataFrame({\"Score\": [\"Low\", \"Low\", \"Medium\", \"Medium\", \"High\"]})\n",
        "# Create mapper\n",
        "scale_mapper = {\"Low\":1,\n",
        " \"Medium\":2,\n",
        " \"High\":3}\n",
        "# Replace feature values with scale\n",
        "dataframe[\"Score\"].replace(scale_mapper)\n",
        "scale_mapper = {\"Low\":1,\n",
        " \"Medium\":2,\n",
        " \"Barely More Than Medium\": 2.1,\n",
        " \"High\":3}\n",
        "dataframe[\"Score\"].replace(scale_mapper)"
      ]
    },
    {
      "cell_type": "code",
      "execution_count": null,
      "id": "6ddda4e8-ae56-4cae-b912-f283a4fc559b",
      "metadata": {
        "id": "6ddda4e8-ae56-4cae-b912-f283a4fc559b",
        "outputId": "f9afe409-6ee6-4797-dd7f-2ae8e33861cd"
      },
      "outputs": [
        {
          "data": {
            "text/plain": [
              "0    1.0\n",
              "1    1.0\n",
              "2    2.9\n",
              "3    2.9\n",
              "4    3.0\n",
              "Name: Score, dtype: float64"
            ]
          },
          "execution_count": 34,
          "metadata": {},
          "output_type": "execute_result"
        }
      ],
      "source": [
        "scale_mapper = {\"Low\":1,\n",
        "    \"Medium\":2.9,\n",
        " \"Barely More Than Medium\": 2.1,\n",
        " \"High\":3}\n",
        "dataframe[\"Score\"].replace(scale_mapper)\n"
      ]
    },
    {
      "cell_type": "code",
      "execution_count": null,
      "id": "41e538d5-d0ee-41b7-9d3c-c81ef3a8e498",
      "metadata": {
        "id": "41e538d5-d0ee-41b7-9d3c-c81ef3a8e498",
        "outputId": "96ca608e-6384-4716-9814-56fbd367316a"
      },
      "outputs": [
        {
          "data": {
            "text/plain": [
              "array([[4., 2., 0.],\n",
              "       [3., 4., 0.],\n",
              "       [0., 1., 2.],\n",
              "       [0., 2., 2.]])"
            ]
          },
          "execution_count": 29,
          "metadata": {},
          "output_type": "execute_result"
        }
      ],
      "source": [
        "# Import library\n",
        "from sklearn.feature_extraction import DictVectorizer\n",
        "# Create dictionary\n",
        "data_dict = [{\"Red\": 2, \"Blue\": 4},\n",
        " {\"Red\": 4, \"Blue\": 3},\n",
        " {\"Red\": 1, \"Yellow\": 2},\n",
        " {\"Red\": 2, \"Yellow\": 2}]\n",
        "# Create dictionary vectorizer\n",
        "dictvectorizer = DictVectorizer(sparse=False)\n",
        "# Convert dictionary to feature matrix\n",
        "features = dictvectorizer.fit_transform(data_dict)\n",
        "# View feature matrix\n",
        "features"
      ]
    },
    {
      "cell_type": "code",
      "execution_count": null,
      "id": "5af9ea05-cc4b-4d08-8110-696e2f3091f6",
      "metadata": {
        "id": "5af9ea05-cc4b-4d08-8110-696e2f3091f6",
        "outputId": "437151bd-36fb-4169-9cea-36207f802913"
      },
      "outputs": [
        {
          "data": {
            "text/plain": [
              "['Blue', 'Red', 'Yellow']"
            ]
          },
          "execution_count": 36,
          "metadata": {},
          "output_type": "execute_result"
        }
      ],
      "source": [
        "# Get feature names\n",
        "feature_names = dictvectorizer.get_feature_names()\n",
        "# View feature names\n",
        "feature_names"
      ]
    },
    {
      "cell_type": "code",
      "execution_count": null,
      "id": "087814c9-0f48-46db-ab10-50399f18b7b6",
      "metadata": {
        "id": "087814c9-0f48-46db-ab10-50399f18b7b6",
        "outputId": "f8951848-5b05-42e4-d1d2-a7a80bb8fd25"
      },
      "outputs": [
        {
          "data": {
            "text/html": [
              "<div>\n",
              "<style scoped>\n",
              "    .dataframe tbody tr th:only-of-type {\n",
              "        vertical-align: middle;\n",
              "    }\n",
              "\n",
              "    .dataframe tbody tr th {\n",
              "        vertical-align: top;\n",
              "    }\n",
              "\n",
              "    .dataframe thead th {\n",
              "        text-align: right;\n",
              "    }\n",
              "</style>\n",
              "<table border=\"1\" class=\"dataframe\">\n",
              "  <thead>\n",
              "    <tr style=\"text-align: right;\">\n",
              "      <th></th>\n",
              "      <th>Blue</th>\n",
              "      <th>Red</th>\n",
              "      <th>Yellow</th>\n",
              "    </tr>\n",
              "  </thead>\n",
              "  <tbody>\n",
              "    <tr>\n",
              "      <th>0</th>\n",
              "      <td>4.0</td>\n",
              "      <td>2.0</td>\n",
              "      <td>0.0</td>\n",
              "    </tr>\n",
              "    <tr>\n",
              "      <th>1</th>\n",
              "      <td>3.0</td>\n",
              "      <td>4.0</td>\n",
              "      <td>0.0</td>\n",
              "    </tr>\n",
              "    <tr>\n",
              "      <th>2</th>\n",
              "      <td>0.0</td>\n",
              "      <td>1.0</td>\n",
              "      <td>2.0</td>\n",
              "    </tr>\n",
              "    <tr>\n",
              "      <th>3</th>\n",
              "      <td>0.0</td>\n",
              "      <td>2.0</td>\n",
              "      <td>2.0</td>\n",
              "    </tr>\n",
              "  </tbody>\n",
              "</table>\n",
              "</div>"
            ],
            "text/plain": [
              "   Blue  Red  Yellow\n",
              "0   4.0  2.0     0.0\n",
              "1   3.0  4.0     0.0\n",
              "2   0.0  1.0     2.0\n",
              "3   0.0  2.0     2.0"
            ]
          },
          "execution_count": 31,
          "metadata": {},
          "output_type": "execute_result"
        }
      ],
      "source": [
        "\n",
        "# Import library\n",
        "import pandas as pd\n",
        "# Create dataframe from features\n",
        "pd.DataFrame(features, columns=feature_names)"
      ]
    },
    {
      "cell_type": "code",
      "execution_count": null,
      "id": "55926c05-1863-4914-be67-1e747fdcacf6",
      "metadata": {
        "id": "55926c05-1863-4914-be67-1e747fdcacf6",
        "outputId": "6d1bd1a5-877a-4f19-b78a-1c6fa3ea331b"
      },
      "outputs": [
        {
          "data": {
            "text/plain": [
              "array([[ 4.,  2.,  0.],\n",
              "       [ 3.,  4.,  0.],\n",
              "       [ 0.,  1., 20.],\n",
              "       [ 0.,  2.,  2.]])"
            ]
          },
          "execution_count": 38,
          "metadata": {},
          "output_type": "execute_result"
        }
      ],
      "source": [
        "# Create word counts dictionaries for four documents\n",
        "doc_1_word_count = {\"Red\": 2, \"Blue\": 4}\n",
        "doc_2_word_count = {\"Red\": 4, \"Blue\": 3}\n",
        "doc_3_word_count = {\"Red\": 1, \"Yellow\": 20}\n",
        "doc_4_word_count = {\"Red\": 2, \"Yellow\": 2}\n",
        "# Create list\n",
        "doc_word_counts = [doc_1_word_count,\n",
        " doc_2_word_count,\n",
        " doc_3_word_count,\n",
        " doc_4_word_count]\n",
        "# Convert list of word count dictionaries into feature matrix\n",
        "dictvectorizer.fit_transform(doc_word_counts)"
      ]
    },
    {
      "cell_type": "code",
      "execution_count": null,
      "id": "b10c1b1f-6588-4650-9b9a-ddaf21a46411",
      "metadata": {
        "id": "b10c1b1f-6588-4650-9b9a-ddaf21a46411",
        "outputId": "e699797e-648a-49dd-a7fc-3f53ba6df6fa"
      },
      "outputs": [
        {
          "data": {
            "text/plain": [
              "array([[ 0.  ,  0.87,  1.31],\n",
              "       [ 1.  , -0.67, -0.22],\n",
              "       [ 0.  ,  2.1 ,  1.45],\n",
              "       [ 1.  ,  1.18,  1.33],\n",
              "       [ 0.  ,  1.22,  1.27],\n",
              "       [ 1.  , -0.21, -1.19]])"
            ]
          },
          "execution_count": 37,
          "metadata": {},
          "output_type": "execute_result"
        }
      ],
      "source": [
        "import numpy as np\n",
        "from sklearn.neighbors import KNeighborsClassifier\n",
        "# Create feature matrix with categorical feature\n",
        "X = np.array([[0, 2.10, 1.45],\n",
        " [1, 1.18, 1.33],\n",
        " [0, 1.22, 1.27],\n",
        " [1, -0.21, -1.19]])\n",
        "# Create feature matrix with missing values in the categorical feature\n",
        "X_with_nan = np.array([[np.nan, 0.87, 1.31],\n",
        " [np.nan, -0.67, -0.22]])\n",
        "# Train KNN learner\n",
        "clf = KNeighborsClassifier(3, weights='distance')\n",
        "trained_model = clf.fit(X[:,1:], X[:,0])\n",
        "# Predict missing values' class\n",
        "imputed_values = trained_model.predict(X_with_nan[:,1:])\n",
        "# Join column of predicted class with their other features\n",
        "X_with_imputed = np.hstack((imputed_values.reshape(-1,1), X_with_nan[:,1:]))\n",
        "# Join two feature matrices\n",
        "np.vstack((X_with_imputed, X))"
      ]
    },
    {
      "cell_type": "code",
      "execution_count": null,
      "id": "bd401dbd-8036-4485-bf13-1b26faa44ec9",
      "metadata": {
        "id": "bd401dbd-8036-4485-bf13-1b26faa44ec9"
      },
      "outputs": [],
      "source": [
        "from sklearn import datasets\n",
        "from sklearn import metrics\n",
        "from sklearn.model_selection import KFold, cross_val_score\n",
        "from sklearn.pipeline import make_pipeline\n",
        "from sklearn.linear_model import LogisticRegression\n",
        "from sklearn.preprocessing import StandardScaler\n",
        "digits = datasets.load_digits()\n",
        "# Create features matrix\n",
        "features = digits.data\n",
        "# Create target vector\n",
        "target = digits.target\n",
        "# Create standardizer\n",
        "standardizer = StandardScaler()\n",
        "# Create logistic regression object\n",
        "logit = LogisticRegression()\n",
        "# Create a pipeline that standardizes, then runs logistic regression\n",
        "pipeline = make_pipeline(standardizer, logit)\n",
        "# Create k-Fold cross-validation\n",
        "kf = KFold(n_splits=10, shuffle=True, random_state=1)\n",
        "# Conduct k-fold cross-validation\n",
        "cv_results = cross_val_score(pipeline, # Pipeline\n",
        " features, # Feature matrix\n",
        "target, # Target vector\n",
        "cv=kf, # Cross-validation technique\n",
        " scoring=\"accuracy\", # Loss function\n",
        " n_jobs=-1) # Use all CPU scores\n",
        "# Calculate mean\n",
        "cv_results.mean()\n",
        "# View score for all 10 folds\n",
        "cv_results\n",
        "# Import library\n",
        "from sklearn.model_selection import train_test_split\n",
        "# Create training and test sets\n",
        "features_train, features_test, target_train, target_test = train_test_split(\n",
        " features, target, test_size=0.1, random_state=1)\n",
        "# Fit standardizer to training set\n",
        "standardizer.fit(features_train)\n",
        "# Apply to both training and test sets\n",
        "features_train_std = standardizer.transform(features_train)\n",
        "features_test_std = standardizer.transform(features_test)\n",
        "# Create a pipeline\n",
        "pipeline = make_pipeline(standardizer, logit)\n",
        "# Do k-fold cross-validation\n",
        "cv_results = cross_val_score(pipeline, # Pipeline\n",
        " features, # Feature matrix\n",
        "target, # Target vector\n",
        "cv=kf, # Cross-validation technique\n",
        " scoring=\"accuracy\", # Loss function\n",
        " n_jobs=-1) # Use all CPU scores"
      ]
    },
    {
      "cell_type": "code",
      "execution_count": null,
      "id": "d3c7d41f-6aa6-4b8b-ac6e-9bd89e43cb48",
      "metadata": {
        "id": "d3c7d41f-6aa6-4b8b-ac6e-9bd89e43cb48",
        "outputId": "72b03d65-d7c3-4f19-def9-f48fd0ac9434"
      },
      "outputs": [
        {
          "name": "stderr",
          "output_type": "stream",
          "text": [
            "C:\\ProgramData\\Anaconda3\\lib\\site-packages\\sklearn\\utils\\deprecation.py:87: FutureWarning: Function load_boston is deprecated; `load_boston` is deprecated in 1.0 and will be removed in 1.2.\n",
            "\n",
            "    The Boston housing prices dataset has an ethical problem. You can refer to\n",
            "    the documentation of this function for further details.\n",
            "\n",
            "    The scikit-learn maintainers therefore strongly discourage the use of this\n",
            "    dataset unless the purpose of the code is to study and educate about\n",
            "    ethical issues in data science and machine learning.\n",
            "\n",
            "    In this special case, you can fetch the dataset from the original\n",
            "    source::\n",
            "\n",
            "        import pandas as pd\n",
            "        import numpy as np\n",
            "\n",
            "\n",
            "        data_url = \"http://lib.stat.cmu.edu/datasets/boston\"\n",
            "        raw_df = pd.read_csv(data_url, sep=\"\\s+\", skiprows=22, header=None)\n",
            "        data = np.hstack([raw_df.values[::2, :], raw_df.values[1::2, :2]])\n",
            "        target = raw_df.values[1::2, 2]\n",
            "\n",
            "    Alternative datasets include the California housing dataset (i.e.\n",
            "    :func:`~sklearn.datasets.fetch_california_housing`) and the Ames housing\n",
            "    dataset. You can load the datasets as follows::\n",
            "\n",
            "        from sklearn.datasets import fetch_california_housing\n",
            "        housing = fetch_california_housing()\n",
            "\n",
            "    for the California housing dataset and::\n",
            "\n",
            "        from sklearn.datasets import fetch_openml\n",
            "        housing = fetch_openml(name=\"house_prices\", as_frame=True)\n",
            "\n",
            "    for the Ames housing dataset.\n",
            "    \n",
            "  warnings.warn(msg, category=FutureWarning)\n"
          ]
        },
        {
          "data": {
            "text/plain": [
              "-0.001119359203955339"
            ]
          },
          "execution_count": 76,
          "metadata": {},
          "output_type": "execute_result"
        }
      ],
      "source": [
        "# Load libraries\n",
        "import pandas as pd\n",
        "import numpy as np\n",
        "from sklearn.datasets import load_boston\n",
        "from sklearn.dummy import DummyRegressor\n",
        "from sklearn.model_selection import train_test_split\n",
        "# Load data\n",
        "boston = load_boston()\n",
        "# Create features\n",
        "features, target = boston.data, boston.target\n",
        "# Make test and training split\n",
        "features_train, features_test, target_train, target_test = train_test_split(\n",
        " features, target, random_state=0)\n",
        "# Create a dummy regressor\n",
        "dummy = DummyRegressor(strategy='mean')\n",
        "# \"Train\" dummy regressor\n",
        "dummy.fit(features_train, target_train)\n",
        "# Get R-squared score\n",
        "dummy.score(features_test, target_test)"
      ]
    },
    {
      "cell_type": "code",
      "execution_count": null,
      "id": "2600ce9e-1e4b-4441-8fed-6e2fd4d55943",
      "metadata": {
        "id": "2600ce9e-1e4b-4441-8fed-6e2fd4d55943",
        "outputId": "85bd2ee1-3a12-469d-bebc-270766287b1f"
      },
      "outputs": [
        {
          "data": {
            "text/plain": [
              "0.6354638433202129"
            ]
          },
          "execution_count": 18,
          "metadata": {},
          "output_type": "execute_result"
        }
      ],
      "source": [
        "# Load library\n",
        "from sklearn.linear_model import LinearRegression\n",
        "# Train simple linear regression model\n",
        "ols = LinearRegression()\n",
        "ols.fit(features_train, target_train)\n",
        "# Get R-squared score\n",
        "ols.score(features_test, target_test)\n"
      ]
    },
    {
      "cell_type": "code",
      "execution_count": null,
      "id": "a4373a22-2ef5-4c6d-9ba3-a0bc35db9bac",
      "metadata": {
        "id": "a4373a22-2ef5-4c6d-9ba3-a0bc35db9bac",
        "outputId": "12c4211d-7816-414a-fea3-667629d01986"
      },
      "outputs": [
        {
          "data": {
            "text/plain": [
              "-0.06510502029325727"
            ]
          },
          "execution_count": 19,
          "metadata": {},
          "output_type": "execute_result"
        }
      ],
      "source": [
        "# Create dummy regressor that predicts 20's for everything\n",
        "clf = DummyRegressor(strategy='constant', constant=20)\n",
        "clf.fit(features_train, target_train)\n",
        "# Evaluate score\n",
        "clf.score(features_test, target_test)"
      ]
    },
    {
      "cell_type": "code",
      "execution_count": null,
      "id": "46b620b4-4069-41bb-86e2-1c17441e1364",
      "metadata": {
        "id": "46b620b4-4069-41bb-86e2-1c17441e1364",
        "outputId": "42a59047-1950-436a-94b8-ba533969585a"
      },
      "outputs": [
        {
          "data": {
            "text/plain": [
              "0.42105263157894735"
            ]
          },
          "execution_count": 20,
          "metadata": {},
          "output_type": "execute_result"
        }
      ],
      "source": [
        "# Load libraries\n",
        "from sklearn.datasets import load_iris\n",
        "from sklearn.dummy import DummyClassifier\n",
        "from sklearn.model_selection import train_test_split\n",
        "# Load data\n",
        "iris = load_iris()\n",
        "# Create target vector and feature matrix\n",
        "features, target = iris.data, iris.target\n",
        "# Split into training and test set\n",
        "features_train, features_test, target_train, target_test = train_test_split(\n",
        "features, target, random_state=0)\n",
        "# Create dummy classifier\n",
        "dummy = DummyClassifier(strategy='uniform', random_state=1)\n",
        "# \"Train\" model\n",
        "dummy.fit(features_train, target_train)\n",
        "# Get accuracy score\n",
        "dummy.score(features_test, target_test)"
      ]
    },
    {
      "cell_type": "code",
      "execution_count": null,
      "id": "ff82e4de-c1c7-4ee5-b864-bb3d9ce01524",
      "metadata": {
        "id": "ff82e4de-c1c7-4ee5-b864-bb3d9ce01524",
        "outputId": "77ca416f-49d0-4a93-d709-e0f041f277ba"
      },
      "outputs": [
        {
          "data": {
            "text/plain": [
              "0.9736842105263158"
            ]
          },
          "execution_count": 21,
          "metadata": {},
          "output_type": "execute_result"
        }
      ],
      "source": [
        "# Load library\n",
        "from sklearn.ensemble import RandomForestClassifier\n",
        "# Create classifier\n",
        "classifier = RandomForestClassifier()\n",
        "# Train model\n",
        "classifier.fit(features_train, target_train)\n",
        "# Get accuracy score\n",
        "classifier.score(features_test, target_test)"
      ]
    },
    {
      "cell_type": "code",
      "execution_count": null,
      "id": "71a6d62e-9269-4023-be2c-f804b0af4dfb",
      "metadata": {
        "id": "71a6d62e-9269-4023-be2c-f804b0af4dfb",
        "outputId": "846270c9-869e-47df-90f6-e3fe13f4317e"
      },
      "outputs": [
        {
          "data": {
            "text/plain": [
              "array([0.9555, 0.95  , 0.9585, 0.9555, 0.956 ])"
            ]
          },
          "execution_count": 22,
          "metadata": {},
          "output_type": "execute_result"
        }
      ],
      "source": [
        "# Load libraries\n",
        "from sklearn.model_selection import cross_val_score\n",
        "from sklearn.linear_model import LogisticRegression\n",
        "from sklearn.datasets import make_classification\n",
        "# Generate features matrix and target vector\n",
        "X, y = make_classification(n_samples = 10000,\n",
        " n_features = 3,\n",
        " n_informative = 3,\n",
        " n_redundant = 0,\n",
        " n_classes = 2,\n",
        " random_state = 1)\n",
        "# Create logistic regression\n",
        "logit = LogisticRegression()\n",
        "# Cross-validate model using accuracy\n",
        "cross_val_score(logit, X, y, scoring=\"accuracy\")\n"
      ]
    },
    {
      "cell_type": "code",
      "execution_count": null,
      "id": "901e9cb9-4381-47f8-b476-c80ac4b500b6",
      "metadata": {
        "id": "901e9cb9-4381-47f8-b476-c80ac4b500b6",
        "outputId": "75cb7119-2dda-4cae-f75f-ca3adac6821d"
      },
      "outputs": [
        {
          "data": {
            "text/plain": [
              "array([0.95963673, 0.94820717, 0.9635996 , 0.96149949, 0.96060606])"
            ]
          },
          "execution_count": 23,
          "metadata": {},
          "output_type": "execute_result"
        }
      ],
      "source": [
        "# Cross-validate model using precision\n",
        "cross_val_score(logit, X, y, scoring=\"precision\")"
      ]
    },
    {
      "cell_type": "code",
      "execution_count": null,
      "id": "e9e436a2-c07d-4146-aeda-8228e3b7a40b",
      "metadata": {
        "id": "e9e436a2-c07d-4146-aeda-8228e3b7a40b",
        "outputId": "d059454d-57d7-4424-ec9a-bd3ea221e433"
      },
      "outputs": [
        {
          "data": {
            "text/plain": [
              "array([0.951, 0.952, 0.953, 0.949, 0.951])"
            ]
          },
          "execution_count": 24,
          "metadata": {},
          "output_type": "execute_result"
        }
      ],
      "source": [
        "# Cross-validate model using recall\n",
        "cross_val_score(logit, X, y, scoring=\"recall\")"
      ]
    },
    {
      "cell_type": "code",
      "execution_count": null,
      "id": "ddb8f13f-4b1d-484a-a1bd-ae3e47e77498",
      "metadata": {
        "id": "ddb8f13f-4b1d-484a-a1bd-ae3e47e77498",
        "outputId": "958d9a8c-9315-4dc1-daa2-c448dee4f685"
      },
      "outputs": [
        {
          "data": {
            "text/plain": [
              "array([0.95529884, 0.9500998 , 0.95827049, 0.95520886, 0.95577889])"
            ]
          },
          "execution_count": 25,
          "metadata": {},
          "output_type": "execute_result"
        }
      ],
      "source": [
        "# Cross-validate model using f1\n",
        "cross_val_score(logit, X, y, scoring=\"f1\")"
      ]
    },
    {
      "cell_type": "code",
      "execution_count": null,
      "id": "24af2c92-b327-44b6-8457-58d02b713e81",
      "metadata": {
        "id": "24af2c92-b327-44b6-8457-58d02b713e81",
        "outputId": "f2a982b6-eafa-4409-e791-99f425042fbf"
      },
      "outputs": [
        {
          "data": {
            "text/plain": [
              "0.947"
            ]
          },
          "execution_count": 27,
          "metadata": {},
          "output_type": "execute_result"
        }
      ],
      "source": [
        "# Load library\n",
        "from sklearn.model_selection import train_test_split\n",
        "from sklearn.metrics import accuracy_score\n",
        "# Create training and test split\n",
        "X_train, X_test, y_train, y_test = train_test_split(X,\n",
        " y,\n",
        "test_size=0.1,\n",
        "random_state=1)\n",
        "# Predict values for training target vector\n",
        "y_hat = logit.fit(X_train, y_train).predict(X_test)\n",
        "# Calculate accuracy\n",
        "accuracy_score(y_test, y_hat)"
      ]
    },
    {
      "cell_type": "code",
      "execution_count": null,
      "id": "15a0af74-aac7-4211-913c-b01e0d959ea4",
      "metadata": {
        "id": "15a0af74-aac7-4211-913c-b01e0d959ea4",
        "outputId": "cb8aafdc-fb39-4a6f-90ba-5d307f71d056"
      },
      "outputs": [
        {
          "data": {
            "image/png": "[encoded data removed]",
            "text/plain": [
              "<Figure size 640x480 with 1 Axes>"
            ]
          },
          "metadata": {},
          "output_type": "display_data"
        }
      ],
      "source": [
        "# Load libraries\n",
        "import matplotlib.pyplot as plt\n",
        "from sklearn.datasets import make_classification\n",
        "from sklearn.linear_model import LogisticRegression\n",
        "from sklearn.metrics import roc_curve, roc_auc_score\n",
        "from sklearn.model_selection import train_test_split\n",
        "# Create feature matrix and target vector\n",
        "features, target = make_classification(n_samples=10000,\n",
        " n_features=10,\n",
        "n_classes=2,\n",
        "n_informative=3,\n",
        "random_state=3)\n",
        "# Split into training and test sets\n",
        "features_train, features_test, target_train, target_test = train_test_split(\n",
        " features, target, test_size=0.1, random_state=1)\n",
        "# Create classifier\n",
        "logit = LogisticRegression()\n",
        "# Train model\n",
        "logit.fit(features_train, target_train)\n",
        "# Get predicted probabilities\n",
        "target_probabilities = logit.predict_proba(features_test)[:,1]\n",
        "# Create true and false positive rates\n",
        "false_positive_rate, true_positive_rate, threshold = roc_curve(target_test,\n",
        " target_probabilities)\n",
        "# Plot ROC curve\n",
        "plt.title(\"Receiver Operating Characteristic\")\n",
        "plt.plot(false_positive_rate, true_positive_rate)\n",
        "plt.plot([0, 1], ls=\"--\")\n",
        "plt.plot([0, 0], [1, 0] , c=\".7\"), plt.plot([1, 1] , c=\".7\")\n",
        "plt.ylabel(\"True Positive Rate\")\n",
        "plt.xlabel(\"False Positive Rate\")\n",
        "plt.show()"
      ]
    },
    {
      "cell_type": "code",
      "execution_count": null,
      "id": "114d7f8e-7147-4c81-a2d8-c4e79e969a83",
      "metadata": {
        "id": "114d7f8e-7147-4c81-a2d8-c4e79e969a83",
        "outputId": "dafc68f4-61ce-48e9-a069-5c60f74a92e9"
      },
      "outputs": [
        {
          "data": {
            "text/plain": [
              "array([[0.86891533, 0.13108467]])"
            ]
          },
          "execution_count": 30,
          "metadata": {},
          "output_type": "execute_result"
        }
      ],
      "source": [
        "# Get predicted probabilities\n",
        "logit.predict_proba(features_test)[0:1]"
      ]
    },
    {
      "cell_type": "code",
      "execution_count": null,
      "id": "39ea5238-b4b7-4146-84cb-9247da90917f",
      "metadata": {
        "id": "39ea5238-b4b7-4146-84cb-9247da90917f",
        "outputId": "e18ffdde-8ffa-49be-e220-1c73a827b124"
      },
      "outputs": [
        {
          "name": "stdout",
          "output_type": "stream",
          "text": [
            "Threshold: 0.5331715230155317\n",
            "True Positive Rate: 0.810204081632653\n",
            "False Positive Rate: 0.14901960784313725\n",
            "Threshold: 0.818913387665929\n",
            "True Positive Rate: 0.5448979591836735\n",
            "False Positive Rate: 0.047058823529411764\n"
          ]
        },
        {
          "data": {
            "text/plain": [
              "0.9073389355742297"
            ]
          },
          "execution_count": 43,
          "metadata": {},
          "output_type": "execute_result"
        }
      ],
      "source": [
        "logit.classes_\n",
        "print(\"Threshold:\", threshold[116])\n",
        "print(\"True Positive Rate:\", true_positive_rate[116])\n",
        "print(\"False Positive Rate:\", false_positive_rate[116])\n",
        "print(\"Threshold:\", threshold[45])\n",
        "print(\"True Positive Rate:\", true_positive_rate[45])\n",
        "print(\"False Positive Rate:\", false_positive_rate[45])\n",
        "# Calculate area under curve\n",
        "roc_auc_score(target_test, target_probabilities)"
      ]
    },
    {
      "cell_type": "code",
      "execution_count": null,
      "id": "df22a7fd-0e74-43f1-b41b-d235053aa6b7",
      "metadata": {
        "id": "df22a7fd-0e74-43f1-b41b-d235053aa6b7",
        "outputId": "32395761-ff75-436d-fb18-1e0bca189bc5"
      },
      "outputs": [
        {
          "data": {
            "text/plain": [
              "array([0.841 , 0.829 , 0.8265, 0.8155, 0.82  ])"
            ]
          },
          "execution_count": 44,
          "metadata": {},
          "output_type": "execute_result"
        }
      ],
      "source": [
        "# Load libraries\n",
        "from sklearn.model_selection import cross_val_score\n",
        "from sklearn.linear_model import LogisticRegression\n",
        "from sklearn.datasets import make_classification\n",
        "# Generate features matrix and target vector\n",
        "features, target = make_classification(n_samples = 10000,\n",
        " n_features = 3,\n",
        " n_informative = 3,\n",
        " n_redundant = 0,\n",
        " n_classes = 3,\n",
        " random_state = 1)\n",
        "# Create logistic regression\n",
        "logit = LogisticRegression()\n",
        "# Cross-validate model using accuracy\n",
        "cross_val_score(logit, features, target, scoring='accuracy')"
      ]
    },
    {
      "cell_type": "code",
      "execution_count": null,
      "id": "34babe73-866b-4c9f-b8c1-f44311cb9ac3",
      "metadata": {
        "id": "34babe73-866b-4c9f-b8c1-f44311cb9ac3",
        "outputId": "9906b72e-e106-45c3-d186-86817bad9619"
      },
      "outputs": [
        {
          "data": {
            "text/plain": [
              "array([0.84061272, 0.82895312, 0.82625661, 0.81515121, 0.81992692])"
            ]
          },
          "execution_count": 45,
          "metadata": {},
          "output_type": "execute_result"
        }
      ],
      "source": [
        "# Cross-validate model using macro averaged F1 score\n",
        "cross_val_score(logit, features, target, scoring='f1_macro')"
      ]
    },
    {
      "cell_type": "code",
      "execution_count": null,
      "id": "f9ca496b-8931-4206-bf09-d113282586ce",
      "metadata": {
        "id": "f9ca496b-8931-4206-bf09-d113282586ce",
        "outputId": "ad88dca8-b31f-451c-8db9-86bbb71d1734"
      },
      "outputs": [
        {
          "name": "stderr",
          "output_type": "stream",
          "text": [
            "C:\\ProgramData\\Anaconda3\\lib\\site-packages\\sklearn\\linear_model\\_logistic.py:814: ConvergenceWarning: lbfgs failed to converge (status=1):\n",
            "STOP: TOTAL NO. of ITERATIONS REACHED LIMIT.\n",
            "\n",
            "Increase the number of iterations (max_iter) or scale the data as shown in:\n",
            "    https://scikit-learn.org/stable/modules/preprocessing.html\n",
            "Please also refer to the documentation for alternative solver options:\n",
            "    https://scikit-learn.org/stable/modules/linear_model.html#logistic-regression\n",
            "  n_iter_i = _check_optimize_result(\n"
          ]
        },
        {
          "data": {
            "image/png": "[encoded data removed]",
            "text/plain": [
              "<Figure size 640x480 with 1 Axes>"
            ]
          },
          "metadata": {},
          "output_type": "display_data"
        }
      ],
      "source": [
        "# Load libraries\n",
        "import matplotlib.pyplot as plt\n",
        "import seaborn as sns\n",
        "from sklearn import datasets\n",
        "from sklearn.linear_model import LogisticRegression\n",
        "from sklearn.model_selection import train_test_split\n",
        "from sklearn.metrics import confusion_matrix\n",
        "import pandas as pd\n",
        "# Load data\n",
        "iris = datasets.load_iris()\n",
        "# Create feature matrix\n",
        "features = iris.data\n",
        "# Create target vector\n",
        "target = iris.target\n",
        "# Create list of target class names\n",
        "class_names = iris.target_names\n",
        "# Create training and test set\n",
        "features_train, features_test, target_train, target_test = train_test_split(\n",
        " features, target, random_state=1)\n",
        "# Create logistic regression\n",
        "classifier = LogisticRegression()\n",
        "# Train model and make predictions\n",
        "target_predicted = classifier.fit(features_train,\n",
        " target_train).predict(features_test)\n",
        "# Create confusion matrix\n",
        "matrix = confusion_matrix(target_test, target_predicted)\n",
        "# Create pandas dataframe\n",
        "dataframe = pd.DataFrame(matrix, index=class_names, columns=class_names)\n",
        "# Create heatmap\n",
        "sns.heatmap(dataframe, annot=True, cbar=None, cmap=\"Blues\")\n",
        "plt.title(\"Confusion Matrix\"), plt.tight_layout()\n",
        "plt.ylabel(\"True Class\"), plt.xlabel(\"Predicted Class\")\n",
        "plt.show()"
      ]
    },
    {
      "cell_type": "code",
      "execution_count": null,
      "id": "2ab5c5d5-a485-4eec-885b-1cba48163262",
      "metadata": {
        "id": "2ab5c5d5-a485-4eec-885b-1cba48163262",
        "outputId": "5a2f6403-0e49-4d0c-e77a-3d227cd00d1e"
      },
      "outputs": [
        {
          "data": {
            "text/plain": [
              "array([0.8622399 , 0.85838075, 0.74723548, 0.91354743, 0.84469331])"
            ]
          },
          "execution_count": 54,
          "metadata": {},
          "output_type": "execute_result"
        }
      ],
      "source": [
        "# Load libraries\n",
        "from sklearn.datasets import make_regression\n",
        "from sklearn.model_selection import cross_val_score\n",
        "from sklearn.linear_model import LinearRegression\n",
        "# Generate features matrix, target vector\n",
        "features, target = make_regression(n_samples = 100,\n",
        " n_features = 3,\n",
        " n_informative = 3,\n",
        " n_targets = 1,\n",
        " noise = 50,\n",
        " coef = False,\n",
        " random_state = 1)\n",
        "# Create a linear regression object\n",
        "ols = LinearRegression()\n",
        "# Cross-validate the linear regression using (negative) MSE\n",
        "cross_val_score(ols, features, target, scoring='neg_mean_squared_error')"
      ]
    },
    {
      "cell_type": "code",
      "execution_count": null,
      "id": "2eb4a887-e780-44a0-be71-9677bd282a14",
      "metadata": {
        "id": "2eb4a887-e780-44a0-be71-9677bd282a14",
        "outputId": "ea812068-4cd2-47d7-f496-53a7dacff4da"
      },
      "outputs": [
        {
          "data": {
            "text/plain": [
              "array([0.8622399 , 0.85838075, 0.74723548, 0.91354743, 0.84469331])"
            ]
          },
          "execution_count": 55,
          "metadata": {},
          "output_type": "execute_result"
        }
      ],
      "source": [
        "# Cross-validate the linear regression using R-squared\n",
        "cross_val_score(ols, features, target, scoring='r2')\n"
      ]
    },
    {
      "cell_type": "code",
      "execution_count": null,
      "id": "72872ec4-4d12-4ded-99f0-7494524c42bd",
      "metadata": {
        "id": "72872ec4-4d12-4ded-99f0-7494524c42bd",
        "outputId": "82ad077c-bbb2-4f26-8493-5bdb41c2b06a"
      },
      "outputs": [
        {
          "data": {
            "text/plain": [
              "0.8916265564072141"
            ]
          },
          "execution_count": 57,
          "metadata": {},
          "output_type": "execute_result"
        }
      ],
      "source": [
        "import numpy as np\n",
        "from sklearn.metrics import silhouette_score\n",
        "from sklearn import datasets\n",
        "from sklearn.cluster import KMeans\n",
        "from sklearn.datasets import make_blobs\n",
        "# Generate feature matrix\n",
        "features, _ = make_blobs(n_samples = 1000,\n",
        " n_features = 10,\n",
        " centers = 2,\n",
        " cluster_std = 0.5,\n",
        " shuffle = True,\n",
        " random_state = 1)\n",
        "# Cluster data using k-means to predict classes\n",
        "model = KMeans(n_clusters=2, random_state=1).fit(features)\n",
        "# Get predicted classes\n",
        "target_predicted = model.labels_\n",
        "# Evaluate model\n",
        "silhouette_score(features, target_predicted)"
      ]
    },
    {
      "cell_type": "code",
      "execution_count": null,
      "id": "89b2ea3a-affe-49d1-9bf3-958dbc01cf27",
      "metadata": {
        "id": "89b2ea3a-affe-49d1-9bf3-958dbc01cf27",
        "outputId": "61acedba-2d4d-4cef-ac09-6ac559e754fa"
      },
      "outputs": [
        {
          "data": {
            "text/plain": [
              "0.9997906102882058"
            ]
          },
          "execution_count": 58,
          "metadata": {},
          "output_type": "execute_result"
        }
      ],
      "source": [
        "# Load libraries\n",
        "from sklearn.metrics import make_scorer, r2_score\n",
        "from sklearn.model_selection import train_test_split\n",
        "from sklearn.linear_model import Ridge\n",
        "from sklearn.datasets import make_regression\n",
        "# Generate features matrix and target vector\n",
        "features, target = make_regression(n_samples = 100,\n",
        " n_features = 3,\n",
        " random_state = 1)\n",
        "# Create training set and test set\n",
        "features_train, features_test, target_train, target_test = train_test_split(\n",
        " features, target, test_size=0.10, random_state=1)\n",
        "# Create custom metric\n",
        "def custom_metric(target_test, target_predicted):\n",
        " # Calculate r-squared score\n",
        " r2 = r2_score(target_test, target_predicted)\n",
        " # Return r-squared score\n",
        " return r2\n",
        "# Make scorer and define that higher scores are better\n",
        "score = make_scorer(custom_metric, greater_is_better=True)\n",
        "# Create ridge regression object\n",
        "classifier = Ridge()\n",
        "# Train ridge regression model\n",
        "model = classifier.fit(features_train, target_train)\n",
        "# Apply custom scorer\n",
        "score(model, features_test, target_test)\n"
      ]
    },
    {
      "cell_type": "code",
      "execution_count": null,
      "id": "929e1603-1e2f-4572-9027-058ce08daf89",
      "metadata": {
        "id": "929e1603-1e2f-4572-9027-058ce08daf89",
        "outputId": "adc8b7ce-5bbd-4af8-deae-6a66bbee7c70"
      },
      "outputs": [
        {
          "data": {
            "text/plain": [
              "0.9997906102882058"
            ]
          },
          "execution_count": 59,
          "metadata": {},
          "output_type": "execute_result"
        }
      ],
      "source": [
        "# Predict values\n",
        "target_predicted = model.predict(features_test)\n",
        "# Calculate r-squared score\n",
        "r2_score(target_test, target_predicted)\n"
      ]
    },
    {
      "cell_type": "code",
      "execution_count": null,
      "id": "59f6c995-e42f-4fb7-9cf9-771d2ca342ad",
      "metadata": {
        "id": "59f6c995-e42f-4fb7-9cf9-771d2ca342ad",
        "outputId": "c370b108-cf75-41f3-a1c2-f5b066eccdc1"
      },
      "outputs": [
        {
          "data": {
            "image/png": "[encoded data removed]",
            "text/plain": [
              "<Figure size 640x480 with 1 Axes>"
            ]
          },
          "metadata": {},
          "output_type": "display_data"
        }
      ],
      "source": [
        "# Load libraries\n",
        "import numpy as np\n",
        "import matplotlib.pyplot as plt\n",
        "from sklearn.ensemble import RandomForestClassifier\n",
        "from sklearn.datasets import load_digits\n",
        "from sklearn.model_selection import learning_curve\n",
        "# Load data\n",
        "digits = load_digits()\n",
        "# Create feature matrix and target vector\n",
        "features, target = digits.data, digits.target\n",
        "# Create CV training and test scores for various training set sizes\n",
        "train_sizes, train_scores, test_scores = learning_curve(# Classifier\n",
        " RandomForestClassifier(),\n",
        "# Feature matrix\n",
        "features,\n",
        "# Target vector\n",
        "target,\n",
        "# Number of folds\n",
        "cv=10,\n",
        "# Performance metric\n",
        "scoring='accuracy',\n",
        "# Use all computer cores\n",
        "n_jobs=-1,\n",
        "# Sizes of 50\n",
        "# training set\n",
        " train_sizes=np.linspace(0.01,1.0,50))\n",
        "# Create means and standard deviations of training set scores\n",
        "train_mean = np.mean(train_scores, axis=1)\n",
        "train_std = np.std(train_scores, axis=1)\n",
        "# Create means and standard deviations of test set scores\n",
        "test_mean = np.mean(test_scores, axis=1)\n",
        "test_std = np.std(test_scores, axis=1)\n",
        "# Draw lines\n",
        "plt.plot(train_sizes, train_mean, '--', color=\"#111111\", label=\"Training score\")\n",
        "plt.plot(train_sizes, test_mean, color=\"#111111\", label=\"Cross-validation score\")\n",
        "# Draw bands\n",
        "plt.fill_between(train_sizes, train_mean - train_std,\n",
        " train_mean + train_std, color=\"#DDDDDD\")\n",
        "plt.fill_between(train_sizes, test_mean - test_std,\n",
        " test_mean + test_std, color=\"#DDDDDD\")\n",
        "# Create plot\n",
        "plt.title(\"Learning Curve\")\n",
        "plt.xlabel(\"Training Set Size\"), plt.ylabel(\"Accuracy Score\"),\n",
        "plt.legend(loc=\"best\")\n",
        "plt.tight_layout()\n",
        "plt.show()"
      ]
    },
    {
      "cell_type": "code",
      "execution_count": null,
      "id": "06a7893f-9298-4c35-bcc8-eb355ea0ffa0",
      "metadata": {
        "id": "06a7893f-9298-4c35-bcc8-eb355ea0ffa0",
        "outputId": "bcab2d3e-868b-4035-8c2c-fba3b7fe4d87"
      },
      "outputs": [
        {
          "name": "stderr",
          "output_type": "stream",
          "text": [
            "C:\\ProgramData\\Anaconda3\\lib\\site-packages\\sklearn\\linear_model\\_logistic.py:814: ConvergenceWarning: lbfgs failed to converge (status=1):\n",
            "STOP: TOTAL NO. of ITERATIONS REACHED LIMIT.\n",
            "\n",
            "Increase the number of iterations (max_iter) or scale the data as shown in:\n",
            "    https://scikit-learn.org/stable/modules/preprocessing.html\n",
            "Please also refer to the documentation for alternative solver options:\n",
            "    https://scikit-learn.org/stable/modules/linear_model.html#logistic-regression\n",
            "  n_iter_i = _check_optimize_result(\n"
          ]
        },
        {
          "name": "stdout",
          "output_type": "stream",
          "text": [
            "              precision    recall  f1-score   support\n",
            "\n",
            "      setosa       1.00      1.00      1.00        13\n",
            "  versicolor       1.00      0.94      0.97        16\n",
            "   virginica       0.90      1.00      0.95         9\n",
            "\n",
            "    accuracy                           0.97        38\n",
            "   macro avg       0.97      0.98      0.97        38\n",
            "weighted avg       0.98      0.97      0.97        38\n",
            "\n"
          ]
        }
      ],
      "source": [
        "# Load libraries\n",
        "from sklearn import datasets\n",
        "from sklearn.linear_model import LogisticRegression\n",
        "from sklearn.model_selection import train_test_split\n",
        "from sklearn.metrics import classification_report\n",
        "# Load data\n",
        "iris = datasets.load_iris()\n",
        "# Create feature matrix\n",
        "features = iris.data\n",
        "# Create target vector\n",
        "target = iris.target\n",
        "# Create list of target class names\n",
        "class_names = iris.target_names\n",
        "# Create training and test set\n",
        "features_train, features_test, target_train, target_test = train_test_split(\n",
        " features, target, random_state=1)\n",
        "# Create logistic regression\n",
        "classifier = LogisticRegression()\n",
        "# Train model and make predictions\n",
        "model = classifier.fit(features_train, target_train)\n",
        "target_predicted = model.predict(features_test)\n",
        "# Create a classification report\n",
        "print(classification_report(target_test,\n",
        " target_predicted,\n",
        "target_names=class_names))"
      ]
    },
    {
      "cell_type": "code",
      "execution_count": null,
      "id": "6d191cc3-1d1c-4cad-a5ca-61a653d706ed",
      "metadata": {
        "id": "6d191cc3-1d1c-4cad-a5ca-61a653d706ed",
        "outputId": "4bd4cadd-9949-4a65-a37d-95e97815fe34"
      },
      "outputs": [
        {
          "data": {
            "image/png": "[encoded data removed]",
            "text/plain": [
              "<Figure size 640x480 with 1 Axes>"
            ]
          },
          "metadata": {},
          "output_type": "display_data"
        }
      ],
      "source": [
        "# Load libraries\n",
        "import matplotlib.pyplot as plt\n",
        "import numpy as np\n",
        "from sklearn.datasets import load_digits\n",
        "from sklearn.ensemble import RandomForestClassifier\n",
        "from sklearn.model_selection import validation_curve\n",
        "# Load data\n",
        "digits = load_digits()\n",
        "# Create feature matrix and target vector\n",
        "features, target = digits.data, digits.target\n",
        "# Create range of values for parameter\n",
        "param_range = np.arange(1, 250, 2)\n",
        "# Calculate accuracy on training and test set using range of parameter values\n",
        "train_scores, test_scores = validation_curve(\n",
        " # Classifier\n",
        " RandomForestClassifier(),\n",
        " # Feature matrix\n",
        " features,\n",
        " # Target vector\n",
        " target,\n",
        " # Hyperparameter to examine\n",
        " param_name=\"n_estimators\",\n",
        " # Range of hyperparameter's values\n",
        " param_range=param_range,\n",
        " # Number of folds\n",
        " cv=3,\n",
        " # Performance metric\n",
        " scoring=\"accuracy\",\n",
        " # Use all computer cores\n",
        " n_jobs=-1)\n",
        "# Calculate mean and standard deviation for training set scores\n",
        "train_mean = np.mean(train_scores, axis=1)\n",
        "train_std = np.std(train_scores, axis=1)\n",
        "# Calculate mean and standard deviation for test set scores\n",
        "test_mean = np.mean(test_scores, axis=1)\n",
        "test_std = np.std(test_scores, axis=1)\n",
        "# Plot mean accuracy scores for training and test sets\n",
        "plt.plot(param_range, train_mean, label=\"Training score\", color=\"black\")\n",
        "plt.plot(param_range, test_mean, label=\"Cross-validation score\", color=\"dimgrey\")\n",
        "# Plot accurancy bands for training and test sets\n",
        "plt.fill_between(param_range, train_mean - train_std,\n",
        " train_mean + train_std, color=\"gray\")\n",
        "plt.fill_between(param_range, test_mean - test_std,\n",
        " test_mean + test_std, color=\"gainsboro\")\n",
        "# Create plot\n",
        "plt.title(\"Validation Curve With Random Forest\")\n",
        "plt.xlabel(\"Number Of Trees\")\n",
        "plt.ylabel(\"Accuracy Score\")\n",
        "plt.tight_layout()\n",
        "plt.legend(loc=\"best\")\n",
        "plt.show()"
      ]
    },
    {
      "cell_type": "code",
      "execution_count": null,
      "id": "e2a61468-9a07-4487-91de-c795772a120b",
      "metadata": {
        "id": "e2a61468-9a07-4487-91de-c795772a120b"
      },
      "outputs": [],
      "source": []
    },
    {
      "cell_type": "code",
      "execution_count": null,
      "id": "72a693bf-bf06-4e08-bbea-58953f03b264",
      "metadata": {
        "id": "72a693bf-bf06-4e08-bbea-58953f03b264",
        "outputId": "a7e274de-a7a6-41eb-b011-16d129298187"
      },
      "outputs": [
        {
          "name": "stdout",
          "output_type": "stream",
          "text": [
            "Original number of features: 64\n",
            "Reduced number of features: 54\n"
          ]
        }
      ],
      "source": [
        "#Chap9\n",
        "#9.1\n",
        "# Load libraries\n",
        "from sklearn.preprocessing import StandardScaler\n",
        "from sklearn.decomposition import PCA\n",
        "from sklearn import datasets\n",
        "# Load the data\n",
        "digits = datasets.load_digits()\n",
        "# Standardize the feature matrix\n",
        "features = StandardScaler().fit_transform(digits.data)\n",
        "# Create a PCA that will retain 99% of variance\n",
        "pca = PCA(n_components=0.99, whiten=True)\n",
        "# Conduct PCA\n",
        "features_pca = pca.fit_transform(features)\n",
        "# Show results\n",
        "print(\"Original number of features:\", features.shape[1])\n",
        "print(\"Reduced number of features:\", features_pca.shape[1])"
      ]
    },
    {
      "cell_type": "code",
      "execution_count": null,
      "id": "6529b56a-085b-4191-a4c9-2fc5bc341db7",
      "metadata": {
        "id": "6529b56a-085b-4191-a4c9-2fc5bc341db7",
        "outputId": "1c3d5140-cf23-4d87-f15f-3399ff802ff4"
      },
      "outputs": [
        {
          "name": "stdout",
          "output_type": "stream",
          "text": [
            "Original number of features: 2\n",
            "Reduced number of features: 1\n"
          ]
        }
      ],
      "source": [
        "#9.2\n",
        "# Load libraries\n",
        "from sklearn.decomposition import PCA, KernelPCA\n",
        "from sklearn.datasets import make_circles\n",
        "# Create linearly inseparable data\n",
        "features, _ = make_circles(n_samples=1000, random_state=1, noise=0.1, factor=0.1)\n",
        "# Apply kernal PCA with radius basis function (RBF) kernel\n",
        "kpca = KernelPCA(kernel=\"rbf\", gamma=15, n_components=1)\n",
        "features_kpca = kpca.fit_transform(features)\n",
        "print(\"Original number of features:\", features.shape[1])\n",
        "print(\"Reduced number of features:\", features_kpca.shape[1])"
      ]
    },
    {
      "cell_type": "code",
      "execution_count": null,
      "id": "4708a8db-fa79-4ab2-9aa3-2ac0e9cfe5aa",
      "metadata": {
        "id": "4708a8db-fa79-4ab2-9aa3-2ac0e9cfe5aa",
        "outputId": "3ad1e12e-9656-4a9e-f0b4-2826e1dd3da8"
      },
      "outputs": [
        {
          "name": "stdout",
          "output_type": "stream",
          "text": [
            "Original number of features: 4\n",
            "Reduced number of features: 1\n"
          ]
        },
        {
          "data": {
            "text/plain": [
              "array([0.9912126])"
            ]
          },
          "execution_count": 7,
          "metadata": {},
          "output_type": "execute_result"
        }
      ],
      "source": [
        "#9.3\n",
        "# Load libraries\n",
        "from sklearn import datasets\n",
        "from sklearn.discriminant_analysis import LinearDiscriminantAnalysis\n",
        "# Load Iris flower dataset:\n",
        "iris = datasets.load_iris()\n",
        "features = iris.data\n",
        "target = iris.target\n",
        "# Create and run an LDA, then use it to transform the features\n",
        "lda = LinearDiscriminantAnalysis(n_components=1)\n",
        "features_lda = lda.fit(features, target).transform(features)\n",
        "# Print the number of features\n",
        "print(\"Original number of features:\", features.shape[1])\n",
        "print(\"Reduced number of features:\", features_lda.shape[1])\n",
        "lda.explained_variance_ratio_\n",
        "lda.explained_variance_ratio_\n"
      ]
    },
    {
      "cell_type": "code",
      "execution_count": 1,
      "id": "262259fa-841f-445b-aa4f-37b19b0fcafb",
      "metadata": {
        "colab": {
          "base_uri": "https://localhost:8080/",
          "height": 130
        },
        "id": "262259fa-841f-445b-aa4f-37b19b0fcafb",
        "outputId": "b07430c7-dfe7-4a86-8fba-c3cad97c43ae"
      },
      "outputs": [
        {
          "output_type": "error",
          "ename": "IndentationError",
          "evalue": "ignored",
          "traceback": [
            "\u001b[0;36m  File \u001b[0;32m\"<ipython-input-1-d0ec3292c5be>\"\u001b[0;36m, line \u001b[0;32m16\u001b[0m\n\u001b[0;31m    total_variance += explained_variance\u001b[0m\n\u001b[0m    ^\u001b[0m\n\u001b[0;31mIndentationError\u001b[0m\u001b[0;31m:\u001b[0m expected an indented block after 'for' statement on line 14\n"
          ]
        }
      ],
      "source": [
        "lda.explained_variance_ratio_\n",
        "# Create and run LDA\n",
        "lda = LinearDiscriminantAnalysis(n_components=None)\n",
        "features_lda = lda.fit(features, target)\n",
        "# Create array of explained variance ratios\n",
        "lda_var_ratios = lda.explained_variance_ratio_\n",
        "# Create function\n",
        "def select_n_components(var_ratio, goal_var: float) -> int:\n",
        " # Set initial variance explained so far\n",
        " total_variance = 0.0\n",
        " # Set initial number of features\n",
        " n_components = 0\n",
        " # For the explained variance of each feature:\n",
        " for explained_variance in var_ratio:\n",
        " # Add the explained variance to the total\n",
        " total_variance += explained_variance\n",
        " # Add one to the number of components\n",
        " n_components += 1\n",
        " # If we reach our goal level of explained variance\n",
        " if total_variance >= goal_var:\n",
        " # End the loop\n",
        " break\n",
        " # Return the number of components\n",
        " return n_components\n",
        "# Run function\n",
        "select_n_components(lda_var_ratios, 0.95)"
      ]
    },
    {
      "cell_type": "code",
      "execution_count": null,
      "id": "22b5df6c-4901-4df7-9f44-a0aca419f5af",
      "metadata": {
        "id": "22b5df6c-4901-4df7-9f44-a0aca419f5af",
        "outputId": "1adf8356-9d00-4775-ae84-47af5a715c95"
      },
      "outputs": [
        {
          "name": "stderr",
          "output_type": "stream",
          "text": [
            "C:\\ProgramData\\Anaconda3\\lib\\site-packages\\sklearn\\decomposition\\_nmf.py:289: FutureWarning: The 'init' value, when 'init=None' and n_components is less than n_samples and n_features, will be changed from 'nndsvd' to 'nndsvda' in 1.1 (renaming of 0.26).\n",
            "  warnings.warn(\n"
          ]
        },
        {
          "name": "stdout",
          "output_type": "stream",
          "text": [
            "Original number of features: 64\n",
            "Reduced number of features: 10\n"
          ]
        },
        {
          "name": "stderr",
          "output_type": "stream",
          "text": [
            "C:\\ProgramData\\Anaconda3\\lib\\site-packages\\sklearn\\decomposition\\_nmf.py:1637: ConvergenceWarning: Maximum number of iterations 200 reached. Increase it to improve convergence.\n",
            "  warnings.warn(\n"
          ]
        }
      ],
      "source": [
        "#9.4\n",
        "# Load libraries\n",
        "from sklearn.decomposition import NMF\n",
        "from sklearn import datasets\n",
        "# Load the data\n",
        "digits = datasets.load_digits()\n",
        "# Load feature matrix\n",
        "features = digits.data\n",
        "# Create, fit, and apply NMF\n",
        "nmf = NMF(n_components=10, random_state=1)\n",
        "features_nmf = nmf.fit_transform(features)\n",
        "# Show results\n",
        "print(\"Original number of features:\", features.shape[1])\n",
        "print(\"Reduced number of features:\", features_nmf.shape[1])"
      ]
    },
    {
      "cell_type": "code",
      "execution_count": null,
      "id": "c93fe1d4-2335-4c37-ae71-6155fc5c28f0",
      "metadata": {
        "id": "c93fe1d4-2335-4c37-ae71-6155fc5c28f0",
        "outputId": "15f3a379-a9fa-4f65-a6d8-701868a46533"
      },
      "outputs": [
        {
          "name": "stdout",
          "output_type": "stream",
          "text": [
            "Original number of features: 64\n",
            "Reduced number of features: 10\n"
          ]
        }
      ],
      "source": [
        "#9.5\n",
        "# Load libraries\n",
        "from sklearn.preprocessing import StandardScaler\n",
        "from sklearn.decomposition import TruncatedSVD\n",
        "from scipy.sparse import csr_matrix\n",
        "from sklearn import datasets\n",
        "import numpy as np\n",
        "# Load the data\n",
        "digits = datasets.load_digits()\n",
        "# Standardize feature matrix\n",
        "features = StandardScaler().fit_transform(digits.data)\n",
        "# Make sparse matrix\n",
        "features_sparse = csr_matrix(features)\n",
        "# Create a TSVD\n",
        "tsvd = TruncatedSVD(n_components=10)\n",
        "# Conduct TSVD on sparse matrix\n",
        "features_sparse_tsvd = tsvd.fit(features_sparse).transform(features_sparse)\n",
        "# Show results\n",
        "print(\"Original number of features:\", features_sparse.shape[1])\n",
        "print(\"Reduced number of features:\", features_sparse_tsvd.shape[1])"
      ]
    },
    {
      "cell_type": "code",
      "execution_count": null,
      "id": "63314bcf-3e30-45d0-af71-7458c4ee7c7e",
      "metadata": {
        "id": "63314bcf-3e30-45d0-af71-7458c4ee7c7e",
        "outputId": "16bfb1ce-bcb0-459a-c879-5cc379f6480d"
      },
      "outputs": [
        {
          "data": {
            "text/plain": [
              "0.30039385392099494"
            ]
          },
          "execution_count": 15,
          "metadata": {},
          "output_type": "execute_result"
        }
      ],
      "source": [
        "# Sum of first three components' explained variance ratios\n",
        "tsvd.explained_variance_ratio_[0:3].sum()"
      ]
    },
    {
      "cell_type": "code",
      "execution_count": null,
      "id": "c8c495cb-f749-4491-a168-52f79e5740b6",
      "metadata": {
        "id": "c8c495cb-f749-4491-a168-52f79e5740b6",
        "outputId": "4b68918e-8793-4654-8e3b-aba9d3dae90c"
      },
      "outputs": [
        {
          "ename": "IndentationError",
          "evalue": "expected an indented block (3611767959.py, line 15)",
          "output_type": "error",
          "traceback": [
            "\u001b[1;36m  File \u001b[1;32m\"C:\\Users\\LEGION\\AppData\\Local\\Temp\\ipykernel_20852\\3611767959.py\"\u001b[1;36m, line \u001b[1;32m15\u001b[0m\n\u001b[1;33m    total_variance += explained_variance\u001b[0m\n\u001b[1;37m    ^\u001b[0m\n\u001b[1;31mIndentationError\u001b[0m\u001b[1;31m:\u001b[0m expected an indented block\n"
          ]
        }
      ],
      "source": [
        "# Create and run an TSVD with one less than number of features\n",
        "tsvd = TruncatedSVD(n_components=features_sparse.shape[1]-1)\n",
        "features_tsvd = tsvd.fit(features)\n",
        "# List of explained variances\n",
        "tsvd_var_ratios = tsvd.explained_variance_ratio_\n",
        "# Create a function\n",
        "def select_n_components(var_ratio, goal_var):\n",
        "# Set initial variance explained so far\n",
        " total_variance = 0.0\n",
        " # Set initial number of features\n",
        " n_components = 0\n",
        " # For the explained variance of each feature:\n",
        " for explained_variance in var_ratio:\n",
        " # Add the explained variance to the total\n",
        " total_variance += explained_variance\n",
        " # Add one to the number of components\n",
        " n_components += 1\n",
        " # If we reach our goal level of explained variance\n",
        " if total_variance >= goal_var:\n",
        " # End the loop\n",
        " break\n",
        " # Return the number of components\n",
        " return n_components\n",
        "# Run function\n",
        "select_n_components(tsvd_var_ratios, 0.95)"
      ]
    },
    {
      "cell_type": "code",
      "execution_count": null,
      "id": "564b6c83-2d68-4bd0-af16-d28333afadba",
      "metadata": {
        "id": "564b6c83-2d68-4bd0-af16-d28333afadba",
        "outputId": "28ce33b3-db1a-446c-8e08-50c68e74424e"
      },
      "outputs": [
        {
          "data": {
            "text/plain": [
              "array([[5.1, 1.4, 0.2],\n",
              "       [4.9, 1.4, 0.2],\n",
              "       [4.7, 1.3, 0.2]])"
            ]
          },
          "execution_count": 17,
          "metadata": {},
          "output_type": "execute_result"
        }
      ],
      "source": [
        "#Chap10\n",
        "#10.1\n",
        "# Load libraries\n",
        "from sklearn import datasets\n",
        "from sklearn.feature_selection import VarianceThreshold\n",
        "# import some data to play with\n",
        "iris = datasets.load_iris()\n",
        "# Create features and target\n",
        "features = iris.data\n",
        "target = iris.target\n",
        "# Create thresholder\n",
        "thresholder = VarianceThreshold(threshold=.5)\n",
        "# Create high variance feature matrix\n",
        "features_high_variance = thresholder.fit_transform(features)\n",
        "# View high variance feature matrix\n",
        "features_high_variance[0:3]\n"
      ]
    },
    {
      "cell_type": "code",
      "execution_count": null,
      "id": "2cd03a5c-913d-4503-a2c1-e9e12a6e7e15",
      "metadata": {
        "id": "2cd03a5c-913d-4503-a2c1-e9e12a6e7e15",
        "outputId": "418ecad0-6088-4313-8dd0-67962637889a"
      },
      "outputs": [
        {
          "data": {
            "text/plain": [
              "array([0.68112222, 0.18871289, 3.09550267, 0.57713289])"
            ]
          },
          "execution_count": 18,
          "metadata": {},
          "output_type": "execute_result"
        }
      ],
      "source": [
        "# View variances\n",
        "thresholder.fit(features).variances_"
      ]
    },
    {
      "cell_type": "code",
      "execution_count": null,
      "id": "73315b5e-6309-4414-aacf-0559d2cce0a3",
      "metadata": {
        "id": "73315b5e-6309-4414-aacf-0559d2cce0a3",
        "outputId": "db32f1bd-e546-414a-a9d9-774aa2b5bc34"
      },
      "outputs": [
        {
          "data": {
            "text/plain": [
              "array([1., 1., 1., 1.])"
            ]
          },
          "execution_count": 19,
          "metadata": {},
          "output_type": "execute_result"
        }
      ],
      "source": [
        "# Load library\n",
        "from sklearn.preprocessing import StandardScaler\n",
        "# Standardize feature matrix\n",
        "scaler = StandardScaler()\n",
        "features_std = scaler.fit_transform(features)\n",
        "# Caculate variance of each feature\n",
        "selector = VarianceThreshold()\n",
        "selector.fit(features_std).variances_"
      ]
    },
    {
      "cell_type": "code",
      "execution_count": null,
      "id": "1052ab0c-eafa-4794-bd4d-175172ede0bc",
      "metadata": {
        "id": "1052ab0c-eafa-4794-bd4d-175172ede0bc",
        "outputId": "ee9ec559-ac88-4d84-9db8-a823503164b9"
      },
      "outputs": [
        {
          "data": {
            "text/plain": [
              "array([[0],\n",
              "       [1],\n",
              "       [0],\n",
              "       [1],\n",
              "       [0]])"
            ]
          },
          "execution_count": 20,
          "metadata": {},
          "output_type": "execute_result"
        }
      ],
      "source": [
        "#10.2\n",
        "# Load library\n",
        "from sklearn.feature_selection import VarianceThreshold\n",
        "# Create feature matrix with:\n",
        "# Feature 0: 80% class 0\n",
        "# Feature 1: 80% class 1\n",
        "# Feature 2: 60% class 0, 40% class 1\n",
        "features = [[0, 1, 0],\n",
        " [0, 1, 1],[0, 1, 0],\n",
        " [0, 1, 1],\n",
        " [1, 0, 0]]\n",
        "# Run threshold by variance\n",
        "thresholder = VarianceThreshold(threshold=(.75 * (1 - .75)))\n",
        "thresholder.fit_transform(features)"
      ]
    },
    {
      "cell_type": "code",
      "execution_count": null,
      "id": "426c97f4-859d-4147-be88-c013acd7de3d",
      "metadata": {
        "id": "426c97f4-859d-4147-be88-c013acd7de3d",
        "outputId": "55dbfbb0-169c-49bf-8a47-7cf41b37e162"
      },
      "outputs": [
        {
          "name": "stderr",
          "output_type": "stream",
          "text": [
            "C:\\Users\\LEGION\\AppData\\Local\\Temp\\ipykernel_20852\\1697140853.py:20: DeprecationWarning: `np.bool` is a deprecated alias for the builtin `bool`. To silence this warning, use `bool` by itself. Doing this will not modify any behavior and is safe. If you specifically wanted the numpy scalar type, use `np.bool_` here.\n",
            "Deprecated in NumPy 1.20; for more details and guidance: https://numpy.org/devdocs/release/1.20.0-notes.html#deprecations\n",
            "  k=1).astype(np.bool))\n"
          ]
        },
        {
          "data": {
            "text/html": [
              "<div>\n",
              "<style scoped>\n",
              "    .dataframe tbody tr th:only-of-type {\n",
              "        vertical-align: middle;\n",
              "    }\n",
              "\n",
              "    .dataframe tbody tr th {\n",
              "        vertical-align: top;\n",
              "    }\n",
              "\n",
              "    .dataframe thead th {\n",
              "        text-align: right;\n",
              "    }\n",
              "</style>\n",
              "<table border=\"1\" class=\"dataframe\">\n",
              "  <thead>\n",
              "    <tr style=\"text-align: right;\">\n",
              "      <th></th>\n",
              "      <th>0</th>\n",
              "      <th>2</th>\n",
              "    </tr>\n",
              "  </thead>\n",
              "  <tbody>\n",
              "    <tr>\n",
              "      <th>0</th>\n",
              "      <td>1</td>\n",
              "      <td>1</td>\n",
              "    </tr>\n",
              "    <tr>\n",
              "      <th>1</th>\n",
              "      <td>2</td>\n",
              "      <td>0</td>\n",
              "    </tr>\n",
              "    <tr>\n",
              "      <th>2</th>\n",
              "      <td>3</td>\n",
              "      <td>1</td>\n",
              "    </tr>\n",
              "  </tbody>\n",
              "</table>\n",
              "</div>"
            ],
            "text/plain": [
              "   0  2\n",
              "0  1  1\n",
              "1  2  0\n",
              "2  3  1"
            ]
          },
          "execution_count": 22,
          "metadata": {},
          "output_type": "execute_result"
        }
      ],
      "source": [
        "#10.3\n",
        "# Load libraries\n",
        "import pandas as pd\n",
        "import numpy as np\n",
        "# Create feature matrix with two highly correlated features\n",
        "features = np.array([[1, 1, 1],\n",
        " [2, 2, 0],\n",
        " [3, 3, 1],\n",
        " [4, 4, 0],\n",
        " [5, 5, 1],\n",
        " [6, 6, 0],\n",
        " [7, 7, 1],\n",
        " [8, 7, 0],[9, 7, 1]])\n",
        "# Convert feature matrix into DataFrame\n",
        "dataframe = pd.DataFrame(features)\n",
        "# Create correlation matrix\n",
        "corr_matrix = dataframe.corr().abs()\n",
        "# Select upper triangle of correlation matrix\n",
        "upper = corr_matrix.where(np.triu(np.ones(corr_matrix.shape),\n",
        " k=1).astype(np.bool))\n",
        "# Find index of feature columns with correlation greater than 0.95\n",
        "to_drop = [column for column in upper.columns if any(upper[column] > 0.95)]\n",
        "# Drop features\n",
        "dataframe.drop(dataframe.columns[to_drop], axis=1).head(3)"
      ]
    },
    {
      "cell_type": "code",
      "execution_count": null,
      "id": "102d5bc5-137f-4fa6-8ddc-3483c5af7415",
      "metadata": {
        "id": "102d5bc5-137f-4fa6-8ddc-3483c5af7415",
        "outputId": "e318aba1-8e34-4eeb-c99c-bdab6d70982f"
      },
      "outputs": [
        {
          "data": {
            "text/html": [
              "<div>\n",
              "<style scoped>\n",
              "    .dataframe tbody tr th:only-of-type {\n",
              "        vertical-align: middle;\n",
              "    }\n",
              "\n",
              "    .dataframe tbody tr th {\n",
              "        vertical-align: top;\n",
              "    }\n",
              "\n",
              "    .dataframe thead th {\n",
              "        text-align: right;\n",
              "    }\n",
              "</style>\n",
              "<table border=\"1\" class=\"dataframe\">\n",
              "  <thead>\n",
              "    <tr style=\"text-align: right;\">\n",
              "      <th></th>\n",
              "      <th>0</th>\n",
              "      <th>1</th>\n",
              "      <th>2</th>\n",
              "    </tr>\n",
              "  </thead>\n",
              "  <tbody>\n",
              "    <tr>\n",
              "      <th>0</th>\n",
              "      <td>1.000000</td>\n",
              "      <td>0.976103</td>\n",
              "      <td>0.000000</td>\n",
              "    </tr>\n",
              "    <tr>\n",
              "      <th>1</th>\n",
              "      <td>0.976103</td>\n",
              "      <td>1.000000</td>\n",
              "      <td>-0.034503</td>\n",
              "    </tr>\n",
              "    <tr>\n",
              "      <th>2</th>\n",
              "      <td>0.000000</td>\n",
              "      <td>-0.034503</td>\n",
              "      <td>1.000000</td>\n",
              "    </tr>\n",
              "  </tbody>\n",
              "</table>\n",
              "</div>"
            ],
            "text/plain": [
              "          0         1         2\n",
              "0  1.000000  0.976103  0.000000\n",
              "1  0.976103  1.000000 -0.034503\n",
              "2  0.000000 -0.034503  1.000000"
            ]
          },
          "execution_count": 23,
          "metadata": {},
          "output_type": "execute_result"
        }
      ],
      "source": [
        "# Correlation matrix\n",
        "dataframe.corr()"
      ]
    },
    {
      "cell_type": "code",
      "execution_count": null,
      "id": "23211d65-5e7c-4b8f-89ba-6c40773a5e8e",
      "metadata": {
        "id": "23211d65-5e7c-4b8f-89ba-6c40773a5e8e",
        "outputId": "28881ec5-6293-42f8-f789-f903d277da9a"
      },
      "outputs": [
        {
          "data": {
            "text/html": [
              "<div>\n",
              "<style scoped>\n",
              "    .dataframe tbody tr th:only-of-type {\n",
              "        vertical-align: middle;\n",
              "    }\n",
              "\n",
              "    .dataframe tbody tr th {\n",
              "        vertical-align: top;\n",
              "    }\n",
              "\n",
              "    .dataframe thead th {\n",
              "        text-align: right;\n",
              "    }\n",
              "</style>\n",
              "<table border=\"1\" class=\"dataframe\">\n",
              "  <thead>\n",
              "    <tr style=\"text-align: right;\">\n",
              "      <th></th>\n",
              "      <th>0</th>\n",
              "      <th>1</th>\n",
              "      <th>2</th>\n",
              "    </tr>\n",
              "  </thead>\n",
              "  <tbody>\n",
              "    <tr>\n",
              "      <th>0</th>\n",
              "      <td>NaN</td>\n",
              "      <td>0.976103</td>\n",
              "      <td>0.000000</td>\n",
              "    </tr>\n",
              "    <tr>\n",
              "      <th>1</th>\n",
              "      <td>NaN</td>\n",
              "      <td>NaN</td>\n",
              "      <td>0.034503</td>\n",
              "    </tr>\n",
              "    <tr>\n",
              "      <th>2</th>\n",
              "      <td>NaN</td>\n",
              "      <td>NaN</td>\n",
              "      <td>NaN</td>\n",
              "    </tr>\n",
              "  </tbody>\n",
              "</table>\n",
              "</div>"
            ],
            "text/plain": [
              "    0         1         2\n",
              "0 NaN  0.976103  0.000000\n",
              "1 NaN       NaN  0.034503\n",
              "2 NaN       NaN       NaN"
            ]
          },
          "execution_count": 24,
          "metadata": {},
          "output_type": "execute_result"
        }
      ],
      "source": [
        "# Upper triangle of correlation matrix\n",
        "upper"
      ]
    },
    {
      "cell_type": "code",
      "execution_count": null,
      "id": "53b55046-bb76-4c7b-a52f-62087e4effb6",
      "metadata": {
        "id": "53b55046-bb76-4c7b-a52f-62087e4effb6",
        "outputId": "77eff21c-5dce-44c4-8353-6c11e0038b9b"
      },
      "outputs": [
        {
          "name": "stdout",
          "output_type": "stream",
          "text": [
            "Original number of features: 4\n",
            "Reduced number of features: 2\n"
          ]
        }
      ],
      "source": [
        "#10.4\n",
        "# Load libraries\n",
        "from sklearn.datasets import load_iris\n",
        "from sklearn.feature_selection import SelectKBest\n",
        "from sklearn.feature_selection import chi2, f_classif\n",
        "# Load data\n",
        "iris = load_iris()\n",
        "features = iris.data\n",
        "target = iris.target\n",
        "# Convert to categorical data by converting data to integers\n",
        "features = features.astype(int)\n",
        "# Select two features with highest chi-squared statistics\n",
        "chi2_selector = SelectKBest(chi2, k=2)\n",
        "features_kbest = chi2_selector.fit_transform(features, target)\n",
        "# Show results\n",
        "print(\"Original number of features:\", features.shape[1])\n",
        "print(\"Reduced number of features:\", features_kbest.shape[1])"
      ]
    },
    {
      "cell_type": "code",
      "execution_count": null,
      "id": "ee8f5a58-c3f7-442e-90e0-803125259a79",
      "metadata": {
        "id": "ee8f5a58-c3f7-442e-90e0-803125259a79",
        "outputId": "69526485-e00d-40ad-b1ba-61219bd73a44"
      },
      "outputs": [
        {
          "name": "stdout",
          "output_type": "stream",
          "text": [
            "Original number of features: 4\n",
            "Reduced number of features: 2\n"
          ]
        }
      ],
      "source": [
        "# Select two features with highest F-values\n",
        "fvalue_selector = SelectKBest(f_classif, k=2)\n",
        "features_kbest = fvalue_selector.fit_transform(features, target)\n",
        "# Show results\n",
        "print(\"Original number of features:\", features.shape[1])\n",
        "print(\"Reduced number of features:\", features_kbest.shape[1])"
      ]
    },
    {
      "cell_type": "code",
      "execution_count": null,
      "id": "3d84d42f-2b3f-4830-adb3-b306aac64c43",
      "metadata": {
        "id": "3d84d42f-2b3f-4830-adb3-b306aac64c43",
        "outputId": "988b586d-8cb9-43df-9931-cbb6e24999b0"
      },
      "outputs": [
        {
          "name": "stdout",
          "output_type": "stream",
          "text": [
            "Original number of features: 4\n",
            "Reduced number of features: 3\n"
          ]
        }
      ],
      "source": [
        "# Load library\n",
        "from sklearn.feature_selection import SelectPercentile\n",
        "# Select top 75% of features with highest F-values\n",
        "fvalue_selector = SelectPercentile(f_classif, percentile=75)\n",
        "features_kbest = fvalue_selector.fit_transform(features, target)\n",
        "# Show results\n",
        "print(\"Original number of features:\", features.shape[1])\n",
        "print(\"Reduced number of features:\", features_kbest.shape[1])"
      ]
    },
    {
      "cell_type": "code",
      "execution_count": null,
      "id": "9eebbae1-0b47-4ce6-8c3d-82adfab5a628",
      "metadata": {
        "id": "9eebbae1-0b47-4ce6-8c3d-82adfab5a628",
        "outputId": "31c4e7e6-dddf-4d2d-9837-e6278454e9ed"
      },
      "outputs": [
        {
          "data": {
            "text/plain": [
              "array([[ 0.00850799,  0.7031277 , -0.19448816],\n",
              "       [-1.07500204,  2.56148527,  1.24355995],\n",
              "       [ 1.37940721, -1.77039484, -0.59421636],\n",
              "       ...,\n",
              "       [-0.80331656, -1.60648007,  0.93401741],\n",
              "       [ 0.39508844, -1.34564911,  0.89998868],\n",
              "       [-0.55383035,  0.82880112,  1.32131624]])"
            ]
          },
          "execution_count": 31,
          "metadata": {},
          "output_type": "execute_result"
        }
      ],
      "source": [
        "#10.5\n",
        "# Load libraries\n",
        "import warnings\n",
        "from sklearn.datasets import make_regression\n",
        "from sklearn.feature_selection import RFECV\n",
        "from sklearn import datasets, linear_model\n",
        "# Suppress an annoying but harmless warning\n",
        "warnings.filterwarnings(action=\"ignore\", module=\"scipy\",\n",
        " message=\"^internal gelsd\")\n",
        "# Generate features matrix, target vector, and the true coefficients\n",
        "features, target = make_regression(n_samples = 10000,\n",
        " n_features = 100,\n",
        " n_informative = 2,random_state = 1)\n",
        "# Create a linear regression\n",
        "ols = linear_model.LinearRegression()\n",
        "# Recursively eliminate features\n",
        "rfecv = RFECV(estimator=ols, step=1, scoring=\"neg_mean_squared_error\")\n",
        "rfecv.fit(features, target)\n",
        "rfecv.transform(features)"
      ]
    },
    {
      "cell_type": "code",
      "execution_count": null,
      "id": "039f0131-1559-487e-9276-3be8221fa34b",
      "metadata": {
        "id": "039f0131-1559-487e-9276-3be8221fa34b",
        "outputId": "30734e54-71a7-4ab7-ff1b-c619d3ff23ac"
      },
      "outputs": [
        {
          "data": {
            "text/plain": [
              "3"
            ]
          },
          "execution_count": 36,
          "metadata": {},
          "output_type": "execute_result"
        }
      ],
      "source": [
        "# Number of best features\n",
        "rfecv.n_features_"
      ]
    },
    {
      "cell_type": "code",
      "execution_count": null,
      "id": "e2f6d83d-9705-4441-a314-cc791296e55f",
      "metadata": {
        "id": "e2f6d83d-9705-4441-a314-cc791296e55f",
        "outputId": "96533bd3-5008-448b-e32c-e4576a53aa9b"
      },
      "outputs": [
        {
          "data": {
            "text/plain": [
              "array([False, False, False, False, False,  True, False, False, False,\n",
              "       False, False, False, False, False, False, False, False, False,\n",
              "       False, False, False, False, False, False, False, False, False,\n",
              "       False, False, False, False, False, False, False, False, False,\n",
              "       False, False, False,  True, False, False, False, False, False,\n",
              "       False, False, False, False, False, False, False, False, False,\n",
              "       False, False, False, False, False, False, False, False, False,\n",
              "       False, False, False, False, False, False, False, False, False,\n",
              "       False, False, False, False, False, False, False, False, False,\n",
              "       False, False, False, False, False, False, False, False,  True,\n",
              "       False, False, False, False, False, False, False, False, False,\n",
              "       False])"
            ]
          },
          "execution_count": 37,
          "metadata": {},
          "output_type": "execute_result"
        }
      ],
      "source": [
        "# Which categories are best\n",
        "rfecv.support_"
      ]
    },
    {
      "cell_type": "code",
      "execution_count": null,
      "id": "5df01f65-c648-4b51-8a80-efd65033339c",
      "metadata": {
        "id": "5df01f65-c648-4b51-8a80-efd65033339c",
        "outputId": "9b1509b2-1be6-4111-9700-74f18ab8ba8e"
      },
      "outputs": [
        {
          "data": {
            "text/plain": [
              "array([73, 64, 85, 45, 63,  1, 58, 10, 21, 68, 97, 30, 69,  3, 16,  6, 86,\n",
              "       33, 19, 29, 47, 13, 62, 65, 17, 87,  8, 80, 14, 18, 11, 22, 79, 38,\n",
              "       50, 74, 56, 40,  2,  1, 49, 90, 76, 93, 12, 44, 43, 75, 53, 70, 41,\n",
              "       32, 20, 23, 84, 36, 78, 77, 48, 26, 42, 25, 71, 52, 27, 96, 51, 46,\n",
              "       28, 60, 94, 91, 92, 31, 72, 59,  4, 98,  5, 55, 95, 88,  7, 81, 24,\n",
              "       61, 39, 82, 89,  1, 15, 35, 66,  9, 34, 37, 54, 57, 67, 83])"
            ]
          },
          "execution_count": 38,
          "metadata": {},
          "output_type": "execute_result"
        }
      ],
      "source": [
        "# Rank features best (1) to worst\n",
        "rfecv.ranking_"
      ]
    },
    {
      "cell_type": "code",
      "execution_count": null,
      "id": "8e2de64c-3425-46b7-a34f-3767d715ad9c",
      "metadata": {
        "id": "8e2de64c-3425-46b7-a34f-3767d715ad9c",
        "outputId": "4f2a5ca1-823c-42bd-f6d7-e2526d6c68e7"
      },
      "outputs": [
        {
          "data": {
            "text/plain": [
              "array([[0., 1., 0.]])"
            ]
          },
          "execution_count": 80,
          "metadata": {},
          "output_type": "execute_result"
        }
      ],
      "source": [
        "#Chap14:\n",
        "#14.1\n",
        "# Load libraries\n",
        "from sklearn.tree import DecisionTreeClassifier\n",
        "from sklearn import datasets\n",
        "# Load data\n",
        "iris = datasets.load_iris()\n",
        "features = iris.data\n",
        "target = iris.target\n",
        "# Create decision tree classifier object\n",
        "decisiontree = DecisionTreeClassifier(random_state=0)\n",
        "# Train model\n",
        "model = decisiontree.fit(features, target)\n",
        "# Make new observation\n",
        "observation = [[ 5, 4, 3, 2]]\n",
        "# Predict observation's class\n",
        "model.predict(observation)\n",
        "# View predicted class probabilities for the three classes\n",
        "model.predict_proba(observation)\n"
      ]
    },
    {
      "cell_type": "code",
      "execution_count": null,
      "id": "5f5ebd7e-8359-4c34-84e1-38844c1da871",
      "metadata": {
        "id": "5f5ebd7e-8359-4c34-84e1-38844c1da871"
      },
      "outputs": [],
      "source": [
        "# Create decision tree classifier object using entropy\n",
        "decisiontree_entropy = DecisionTreeClassifier(criterion='entropy', random_state=0)\n",
        "# Train model\n",
        "model_entropy = decisiontree_entropy.fit(features, target)\n"
      ]
    },
    {
      "cell_type": "code",
      "execution_count": null,
      "id": "fd2b95d8-d2dd-46a4-ac75-2f463c42b42a",
      "metadata": {
        "id": "fd2b95d8-d2dd-46a4-ac75-2f463c42b42a",
        "outputId": "3d643f35-34b8-47be-f807-9472df78aa73"
      },
      "outputs": [
        {
          "name": "stderr",
          "output_type": "stream",
          "text": [
            "C:\\ProgramData\\Anaconda3\\lib\\site-packages\\sklearn\\utils\\deprecation.py:87: FutureWarning: Function load_boston is deprecated; `load_boston` is deprecated in 1.0 and will be removed in 1.2.\n",
            "\n",
            "    The Boston housing prices dataset has an ethical problem. You can refer to\n",
            "    the documentation of this function for further details.\n",
            "\n",
            "    The scikit-learn maintainers therefore strongly discourage the use of this\n",
            "    dataset unless the purpose of the code is to study and educate about\n",
            "    ethical issues in data science and machine learning.\n",
            "\n",
            "    In this special case, you can fetch the dataset from the original\n",
            "    source::\n",
            "\n",
            "        import pandas as pd\n",
            "        import numpy as np\n",
            "\n",
            "\n",
            "        data_url = \"http://lib.stat.cmu.edu/datasets/boston\"\n",
            "        raw_df = pd.read_csv(data_url, sep=\"\\s+\", skiprows=22, header=None)\n",
            "        data = np.hstack([raw_df.values[::2, :], raw_df.values[1::2, :2]])\n",
            "        target = raw_df.values[1::2, 2]\n",
            "\n",
            "    Alternative datasets include the California housing dataset (i.e.\n",
            "    :func:`~sklearn.datasets.fetch_california_housing`) and the Ames housing\n",
            "    dataset. You can load the datasets as follows::\n",
            "\n",
            "        from sklearn.datasets import fetch_california_housing\n",
            "        housing = fetch_california_housing()\n",
            "\n",
            "    for the California housing dataset and::\n",
            "\n",
            "        from sklearn.datasets import fetch_openml\n",
            "        housing = fetch_openml(name=\"house_prices\", as_frame=True)\n",
            "\n",
            "    for the Ames housing dataset.\n",
            "    \n",
            "  warnings.warn(msg, category=FutureWarning)\n"
          ]
        },
        {
          "data": {
            "text/plain": [
              "array([33.])"
            ]
          },
          "execution_count": 1,
          "metadata": {},
          "output_type": "execute_result"
        }
      ],
      "source": [
        "#14.2\n",
        "# Load libraries\n",
        "import pandas as pd\n",
        "import numpy as np\n",
        "from sklearn.tree import DecisionTreeRegressor\n",
        "from sklearn import datasets\n",
        "# Load data with only two features\n",
        "boston = datasets.load_boston()\n",
        "features = boston.data[:,0:2]\n",
        "target = boston.target\n",
        "# Create decision tree classifier object\n",
        "decisiontree = DecisionTreeRegressor(random_state=0)\n",
        "# Train model\n",
        "model = decisiontree.fit(features, target)\n",
        "# Make new observation\n",
        "observation = [[0.02, 16]]\n",
        "# Predict observation's value\n",
        "model.predict(observation)\n",
        "\n"
      ]
    },
    {
      "cell_type": "code",
      "execution_count": null,
      "id": "99f2c7f0-8afc-4571-831c-896aaa6d66a6",
      "metadata": {
        "id": "99f2c7f0-8afc-4571-831c-896aaa6d66a6",
        "outputId": "ac8b7e74-2780-4955-adcf-54658fc374ba"
      },
      "outputs": [
        {
          "name": "stderr",
          "output_type": "stream",
          "text": [
            "C:\\ProgramData\\Anaconda3\\lib\\site-packages\\sklearn\\tree\\_classes.py:366: FutureWarning: Criterion 'mae' was deprecated in v1.0 and will be removed in version 1.2. Use `criterion='absolute_error'` which is equivalent.\n",
            "  warnings.warn(\n"
          ]
        }
      ],
      "source": [
        "# Create decision tree classifier object using entropy\n",
        "decisiontree_mae = DecisionTreeRegressor(criterion=\"mae\", random_state=0)\n",
        "# Train model\n",
        "model_mae = decisiontree_mae.fit(features, target)"
      ]
    },
    {
      "cell_type": "code",
      "execution_count": null,
      "id": "985ab70e-02c1-46db-95d4-d793a041f33c",
      "metadata": {
        "id": "985ab70e-02c1-46db-95d4-d793a041f33c",
        "outputId": "521c4e66-146c-4c5a-afdf-062b42473db9"
      },
      "outputs": [
        {
          "name": "stdout",
          "output_type": "stream",
          "text": [
            "Defaulting to user installation because normal site-packages is not writeable\n",
            "Collecting graphviz\n",
            "  Downloading graphviz-0.20.1-py3-none-any.whl (47 kB)\n",
            "     --------------------------------------- 47.0/47.0 kB 62.1 kB/s eta 0:00:00\n",
            "Installing collected packages: graphviz\n",
            "Successfully installed graphviz-0.20.1\n",
            "Note: you may need to restart the kernel to use updated packages.\n"
          ]
        }
      ],
      "source": [
        "pip install graphviz"
      ]
    },
    {
      "cell_type": "code",
      "execution_count": null,
      "id": "2e1f6d14-5839-4266-81c1-fad587658a61",
      "metadata": {
        "id": "2e1f6d14-5839-4266-81c1-fad587658a61",
        "outputId": "7415aec0-2d2d-4e41-c791-b95d31acff18"
      },
      "outputs": [
        {
          "ename": "InvocationException",
          "evalue": "GraphViz's executables not found",
          "output_type": "error",
          "traceback": [
            "\u001b[1;31m---------------------------------------------------------------------------\u001b[0m",
            "\u001b[1;31mInvocationException\u001b[0m                       Traceback (most recent call last)",
            "\u001b[1;32m~\\AppData\\Local\\Temp\\ipykernel_7884\\120717103.py\u001b[0m in \u001b[0;36m<module>\u001b[1;34m\u001b[0m\n\u001b[0;32m     23\u001b[0m \u001b[0mgraph\u001b[0m \u001b[1;33m=\u001b[0m \u001b[0mpydotplus\u001b[0m\u001b[1;33m.\u001b[0m\u001b[0mgraph_from_dot_data\u001b[0m\u001b[1;33m(\u001b[0m\u001b[0mdot_data\u001b[0m\u001b[1;33m)\u001b[0m\u001b[1;33m\u001b[0m\u001b[1;33m\u001b[0m\u001b[0m\n\u001b[0;32m     24\u001b[0m \u001b[1;31m# Show graph\u001b[0m\u001b[1;33m\u001b[0m\u001b[1;33m\u001b[0m\u001b[0m\n\u001b[1;32m---> 25\u001b[1;33m \u001b[0mImage\u001b[0m\u001b[1;33m(\u001b[0m\u001b[0mgraph\u001b[0m\u001b[1;33m.\u001b[0m\u001b[0mcreate_png\u001b[0m\u001b[1;33m(\u001b[0m\u001b[1;33m)\u001b[0m\u001b[1;33m)\u001b[0m\u001b[1;33m\u001b[0m\u001b[1;33m\u001b[0m\u001b[0m\n\u001b[0m",
            "\u001b[1;32m~\\AppData\\Roaming\\Python\\Python39\\site-packages\\pydotplus\\graphviz.py\u001b[0m in \u001b[0;36m<lambda>\u001b[1;34m(f, prog)\u001b[0m\n\u001b[0;32m   1795\u001b[0m             self.__setattr__(\n\u001b[0;32m   1796\u001b[0m                 \u001b[1;34m'create_'\u001b[0m \u001b[1;33m+\u001b[0m \u001b[0mfrmt\u001b[0m\u001b[1;33m,\u001b[0m\u001b[1;33m\u001b[0m\u001b[1;33m\u001b[0m\u001b[0m\n\u001b[1;32m-> 1797\u001b[1;33m                 \u001b[1;32mlambda\u001b[0m \u001b[0mf\u001b[0m\u001b[1;33m=\u001b[0m\u001b[0mfrmt\u001b[0m\u001b[1;33m,\u001b[0m \u001b[0mprog\u001b[0m\u001b[1;33m=\u001b[0m\u001b[0mself\u001b[0m\u001b[1;33m.\u001b[0m\u001b[0mprog\u001b[0m\u001b[1;33m:\u001b[0m \u001b[0mself\u001b[0m\u001b[1;33m.\u001b[0m\u001b[0mcreate\u001b[0m\u001b[1;33m(\u001b[0m\u001b[0mformat\u001b[0m\u001b[1;33m=\u001b[0m\u001b[0mf\u001b[0m\u001b[1;33m,\u001b[0m \u001b[0mprog\u001b[0m\u001b[1;33m=\u001b[0m\u001b[0mprog\u001b[0m\u001b[1;33m)\u001b[0m\u001b[1;33m\u001b[0m\u001b[1;33m\u001b[0m\u001b[0m\n\u001b[0m\u001b[0;32m   1798\u001b[0m             )\n\u001b[0;32m   1799\u001b[0m             \u001b[0mf\u001b[0m \u001b[1;33m=\u001b[0m \u001b[0mself\u001b[0m\u001b[1;33m.\u001b[0m\u001b[0m__dict__\u001b[0m\u001b[1;33m[\u001b[0m\u001b[1;34m'create_'\u001b[0m \u001b[1;33m+\u001b[0m \u001b[0mfrmt\u001b[0m\u001b[1;33m]\u001b[0m\u001b[1;33m\u001b[0m\u001b[1;33m\u001b[0m\u001b[0m\n",
            "\u001b[1;32m~\\AppData\\Roaming\\Python\\Python39\\site-packages\\pydotplus\\graphviz.py\u001b[0m in \u001b[0;36mcreate\u001b[1;34m(self, prog, format)\u001b[0m\n\u001b[0;32m   1957\u001b[0m             \u001b[0mself\u001b[0m\u001b[1;33m.\u001b[0m\u001b[0mprogs\u001b[0m \u001b[1;33m=\u001b[0m \u001b[0mfind_graphviz\u001b[0m\u001b[1;33m(\u001b[0m\u001b[1;33m)\u001b[0m\u001b[1;33m\u001b[0m\u001b[1;33m\u001b[0m\u001b[0m\n\u001b[0;32m   1958\u001b[0m             \u001b[1;32mif\u001b[0m \u001b[0mself\u001b[0m\u001b[1;33m.\u001b[0m\u001b[0mprogs\u001b[0m \u001b[1;32mis\u001b[0m \u001b[1;32mNone\u001b[0m\u001b[1;33m:\u001b[0m\u001b[1;33m\u001b[0m\u001b[1;33m\u001b[0m\u001b[0m\n\u001b[1;32m-> 1959\u001b[1;33m                 raise InvocationException(\n\u001b[0m\u001b[0;32m   1960\u001b[0m                     'GraphViz\\'s executables not found')\n\u001b[0;32m   1961\u001b[0m \u001b[1;33m\u001b[0m\u001b[0m\n",
            "\u001b[1;31mInvocationException\u001b[0m: GraphViz's executables not found"
          ]
        }
      ],
      "source": [
        "#14.3\n",
        "# Load libraries\n",
        "\n",
        "import pydotplus\n",
        "from sklearn.tree import DecisionTreeClassifier\n",
        "from sklearn import datasets\n",
        "from IPython.display import Image\n",
        "from sklearn import tree\n",
        "# Load data\n",
        "iris = datasets.load_iris()\n",
        "features = iris.data\n",
        "target = iris.target\n",
        "# Create decision tree classifier object\n",
        "decisiontree = DecisionTreeClassifier(random_state=0)\n",
        "# Train model\n",
        "model = decisiontree.fit(features, target)\n",
        "# Create DOT data\n",
        "dot_data = tree.export_graphviz(decisiontree,\n",
        " out_file=None,\n",
        "feature_names=iris.feature_names,\n",
        " class_names=iris.target_names)\n",
        "# Draw graph\n",
        "graph = pydotplus.graph_from_dot_data(dot_data)\n",
        "# Show graph\n",
        "Image(graph.create_png())"
      ]
    },
    {
      "cell_type": "code",
      "execution_count": null,
      "id": "c37dbca3-0513-45df-855c-90ba859ed5c3",
      "metadata": {
        "id": "c37dbca3-0513-45df-855c-90ba859ed5c3",
        "outputId": "09916470-1b7e-4724-8899-ec695925d5b6"
      },
      "outputs": [
        {
          "ename": "InvocationException",
          "evalue": "GraphViz's executables not found",
          "output_type": "error",
          "traceback": [
            "\u001b[1;31m---------------------------------------------------------------------------\u001b[0m",
            "\u001b[1;31mInvocationException\u001b[0m                       Traceback (most recent call last)",
            "\u001b[1;32m~\\AppData\\Local\\Temp\\ipykernel_7884\\75342259.py\u001b[0m in \u001b[0;36m<module>\u001b[1;34m\u001b[0m\n\u001b[1;32m----> 1\u001b[1;33m \u001b[0mgraph\u001b[0m\u001b[1;33m.\u001b[0m\u001b[0mwrite_pdf\u001b[0m\u001b[1;33m(\u001b[0m\u001b[1;34m\"iris.pdf\"\u001b[0m\u001b[1;33m)\u001b[0m\u001b[1;33m\u001b[0m\u001b[1;33m\u001b[0m\u001b[0m\n\u001b[0m",
            "\u001b[1;32m~\\AppData\\Roaming\\Python\\Python39\\site-packages\\pydotplus\\graphviz.py\u001b[0m in \u001b[0;36m<lambda>\u001b[1;34m(path, f, prog)\u001b[0m\n\u001b[0;32m   1808\u001b[0m                 \u001b[1;32mlambda\u001b[0m \u001b[0mpath\u001b[0m\u001b[1;33m,\u001b[0m\u001b[1;33m\u001b[0m\u001b[1;33m\u001b[0m\u001b[0m\n\u001b[0;32m   1809\u001b[0m                 \u001b[0mf\u001b[0m\u001b[1;33m=\u001b[0m\u001b[0mfrmt\u001b[0m\u001b[1;33m,\u001b[0m\u001b[1;33m\u001b[0m\u001b[1;33m\u001b[0m\u001b[0m\n\u001b[1;32m-> 1810\u001b[1;33m                 \u001b[0mprog\u001b[0m\u001b[1;33m=\u001b[0m\u001b[0mself\u001b[0m\u001b[1;33m.\u001b[0m\u001b[0mprog\u001b[0m\u001b[1;33m:\u001b[0m \u001b[0mself\u001b[0m\u001b[1;33m.\u001b[0m\u001b[0mwrite\u001b[0m\u001b[1;33m(\u001b[0m\u001b[0mpath\u001b[0m\u001b[1;33m,\u001b[0m \u001b[0mformat\u001b[0m\u001b[1;33m=\u001b[0m\u001b[0mf\u001b[0m\u001b[1;33m,\u001b[0m \u001b[0mprog\u001b[0m\u001b[1;33m=\u001b[0m\u001b[0mprog\u001b[0m\u001b[1;33m)\u001b[0m\u001b[1;33m\u001b[0m\u001b[1;33m\u001b[0m\u001b[0m\n\u001b[0m\u001b[0;32m   1811\u001b[0m             )\n\u001b[0;32m   1812\u001b[0m \u001b[1;33m\u001b[0m\u001b[0m\n",
            "\u001b[1;32m~\\AppData\\Roaming\\Python\\Python39\\site-packages\\pydotplus\\graphviz.py\u001b[0m in \u001b[0;36mwrite\u001b[1;34m(self, path, prog, format)\u001b[0m\n\u001b[0;32m   1916\u001b[0m \u001b[1;33m\u001b[0m\u001b[0m\n\u001b[0;32m   1917\u001b[0m             \u001b[1;32melse\u001b[0m\u001b[1;33m:\u001b[0m\u001b[1;33m\u001b[0m\u001b[1;33m\u001b[0m\u001b[0m\n\u001b[1;32m-> 1918\u001b[1;33m                 \u001b[0mfobj\u001b[0m\u001b[1;33m.\u001b[0m\u001b[0mwrite\u001b[0m\u001b[1;33m(\u001b[0m\u001b[0mself\u001b[0m\u001b[1;33m.\u001b[0m\u001b[0mcreate\u001b[0m\u001b[1;33m(\u001b[0m\u001b[0mprog\u001b[0m\u001b[1;33m,\u001b[0m \u001b[0mformat\u001b[0m\u001b[1;33m)\u001b[0m\u001b[1;33m)\u001b[0m\u001b[1;33m\u001b[0m\u001b[1;33m\u001b[0m\u001b[0m\n\u001b[0m\u001b[0;32m   1919\u001b[0m         \u001b[1;32mfinally\u001b[0m\u001b[1;33m:\u001b[0m\u001b[1;33m\u001b[0m\u001b[1;33m\u001b[0m\u001b[0m\n\u001b[0;32m   1920\u001b[0m             \u001b[1;32mif\u001b[0m \u001b[0mclose\u001b[0m\u001b[1;33m:\u001b[0m\u001b[1;33m\u001b[0m\u001b[1;33m\u001b[0m\u001b[0m\n",
            "\u001b[1;32m~\\AppData\\Roaming\\Python\\Python39\\site-packages\\pydotplus\\graphviz.py\u001b[0m in \u001b[0;36mcreate\u001b[1;34m(self, prog, format)\u001b[0m\n\u001b[0;32m   1957\u001b[0m             \u001b[0mself\u001b[0m\u001b[1;33m.\u001b[0m\u001b[0mprogs\u001b[0m \u001b[1;33m=\u001b[0m \u001b[0mfind_graphviz\u001b[0m\u001b[1;33m(\u001b[0m\u001b[1;33m)\u001b[0m\u001b[1;33m\u001b[0m\u001b[1;33m\u001b[0m\u001b[0m\n\u001b[0;32m   1958\u001b[0m             \u001b[1;32mif\u001b[0m \u001b[0mself\u001b[0m\u001b[1;33m.\u001b[0m\u001b[0mprogs\u001b[0m \u001b[1;32mis\u001b[0m \u001b[1;32mNone\u001b[0m\u001b[1;33m:\u001b[0m\u001b[1;33m\u001b[0m\u001b[1;33m\u001b[0m\u001b[0m\n\u001b[1;32m-> 1959\u001b[1;33m                 raise InvocationException(\n\u001b[0m\u001b[0;32m   1960\u001b[0m                     'GraphViz\\'s executables not found')\n\u001b[0;32m   1961\u001b[0m \u001b[1;33m\u001b[0m\u001b[0m\n",
            "\u001b[1;31mInvocationException\u001b[0m: GraphViz's executables not found"
          ]
        }
      ],
      "source": [
        "graph.write_pdf(\"iris.pdf\")"
      ]
    },
    {
      "cell_type": "code",
      "execution_count": null,
      "id": "d1ed772c-c348-43f9-bf16-3a7456d5bfaf",
      "metadata": {
        "id": "d1ed772c-c348-43f9-bf16-3a7456d5bfaf",
        "outputId": "6d2ac9fa-6c22-41b5-ec7a-fd480f43f191"
      },
      "outputs": [
        {
          "ename": "NameError",
          "evalue": "name 'graph' is not defined",
          "output_type": "error",
          "traceback": [
            "\u001b[1;31m---------------------------------------------------------------------------\u001b[0m",
            "\u001b[1;31mNameError\u001b[0m                                 Traceback (most recent call last)",
            "\u001b[1;32m~\\AppData\\Local\\Temp\\ipykernel_17020\\292796937.py\u001b[0m in \u001b[0;36m<module>\u001b[1;34m\u001b[0m\n\u001b[1;32m----> 1\u001b[1;33m \u001b[0mgraph\u001b[0m\u001b[1;33m.\u001b[0m\u001b[0mwrite_png\u001b[0m\u001b[1;33m(\u001b[0m\u001b[1;34m\"iris.png\"\u001b[0m\u001b[1;33m)\u001b[0m\u001b[1;33m\u001b[0m\u001b[1;33m\u001b[0m\u001b[0m\n\u001b[0m",
            "\u001b[1;31mNameError\u001b[0m: name 'graph' is not defined"
          ]
        }
      ],
      "source": [
        "graph.write_png(\"iris.png\")"
      ]
    },
    {
      "cell_type": "code",
      "execution_count": null,
      "id": "26237a72-a68a-4528-b2ea-e50fc89dd5ab",
      "metadata": {
        "id": "26237a72-a68a-4528-b2ea-e50fc89dd5ab",
        "outputId": "c81552d3-9078-434a-961d-4555050572e6"
      },
      "outputs": [
        {
          "name": "stderr",
          "output_type": "stream",
          "text": [
            "C:\\ProgramData\\Anaconda3\\lib\\site-packages\\sklearn\\linear_model\\_logistic.py:814: ConvergenceWarning: lbfgs failed to converge (status=1):\n",
            "STOP: TOTAL NO. of ITERATIONS REACHED LIMIT.\n",
            "\n",
            "Increase the number of iterations (max_iter) or scale the data as shown in:\n",
            "    https://scikit-learn.org/stable/modules/preprocessing.html\n",
            "Please also refer to the documentation for alternative solver options:\n",
            "    https://scikit-learn.org/stable/modules/linear_model.html#logistic-regression\n",
            "  n_iter_i = _check_optimize_result(\n",
            "C:\\ProgramData\\Anaconda3\\lib\\site-packages\\sklearn\\linear_model\\_logistic.py:814: ConvergenceWarning: lbfgs failed to converge (status=1):\n",
            "STOP: TOTAL NO. of ITERATIONS REACHED LIMIT.\n",
            "\n",
            "Increase the number of iterations (max_iter) or scale the data as shown in:\n",
            "    https://scikit-learn.org/stable/modules/preprocessing.html\n",
            "Please also refer to the documentation for alternative solver options:\n",
            "    https://scikit-learn.org/stable/modules/linear_model.html#logistic-regression\n",
            "  n_iter_i = _check_optimize_result(\n",
            "C:\\ProgramData\\Anaconda3\\lib\\site-packages\\sklearn\\linear_model\\_logistic.py:814: ConvergenceWarning: lbfgs failed to converge (status=1):\n",
            "STOP: TOTAL NO. of ITERATIONS REACHED LIMIT.\n",
            "\n",
            "Increase the number of iterations (max_iter) or scale the data as shown in:\n",
            "    https://scikit-learn.org/stable/modules/preprocessing.html\n",
            "Please also refer to the documentation for alternative solver options:\n",
            "    https://scikit-learn.org/stable/modules/linear_model.html#logistic-regression\n",
            "  n_iter_i = _check_optimize_result(\n",
            "C:\\ProgramData\\Anaconda3\\lib\\site-packages\\sklearn\\linear_model\\_logistic.py:814: ConvergenceWarning: lbfgs failed to converge (status=1):\n",
            "STOP: TOTAL NO. of ITERATIONS REACHED LIMIT.\n",
            "\n",
            "Increase the number of iterations (max_iter) or scale the data as shown in:\n",
            "    https://scikit-learn.org/stable/modules/preprocessing.html\n",
            "Please also refer to the documentation for alternative solver options:\n",
            "    https://scikit-learn.org/stable/modules/linear_model.html#logistic-regression\n",
            "  n_iter_i = _check_optimize_result(\n",
            "C:\\ProgramData\\Anaconda3\\lib\\site-packages\\sklearn\\linear_model\\_logistic.py:814: ConvergenceWarning: lbfgs failed to converge (status=1):\n",
            "STOP: TOTAL NO. of ITERATIONS REACHED LIMIT.\n",
            "\n",
            "Increase the number of iterations (max_iter) or scale the data as shown in:\n",
            "    https://scikit-learn.org/stable/modules/preprocessing.html\n",
            "Please also refer to the documentation for alternative solver options:\n",
            "    https://scikit-learn.org/stable/modules/linear_model.html#logistic-regression\n",
            "  n_iter_i = _check_optimize_result(\n",
            "C:\\ProgramData\\Anaconda3\\lib\\site-packages\\sklearn\\linear_model\\_logistic.py:814: ConvergenceWarning: lbfgs failed to converge (status=1):\n",
            "STOP: TOTAL NO. of ITERATIONS REACHED LIMIT.\n",
            "\n",
            "Increase the number of iterations (max_iter) or scale the data as shown in:\n",
            "    https://scikit-learn.org/stable/modules/preprocessing.html\n",
            "Please also refer to the documentation for alternative solver options:\n",
            "    https://scikit-learn.org/stable/modules/linear_model.html#logistic-regression\n",
            "  n_iter_i = _check_optimize_result(\n",
            "C:\\ProgramData\\Anaconda3\\lib\\site-packages\\sklearn\\linear_model\\_logistic.py:814: ConvergenceWarning: lbfgs failed to converge (status=1):\n",
            "STOP: TOTAL NO. of ITERATIONS REACHED LIMIT.\n",
            "\n",
            "Increase the number of iterations (max_iter) or scale the data as shown in:\n",
            "    https://scikit-learn.org/stable/modules/preprocessing.html\n",
            "Please also refer to the documentation for alternative solver options:\n",
            "    https://scikit-learn.org/stable/modules/linear_model.html#logistic-regression\n",
            "  n_iter_i = _check_optimize_result(\n",
            "C:\\ProgramData\\Anaconda3\\lib\\site-packages\\sklearn\\linear_model\\_logistic.py:814: ConvergenceWarning: lbfgs failed to converge (status=1):\n",
            "STOP: TOTAL NO. of ITERATIONS REACHED LIMIT.\n",
            "\n",
            "Increase the number of iterations (max_iter) or scale the data as shown in:\n",
            "    https://scikit-learn.org/stable/modules/preprocessing.html\n",
            "Please also refer to the documentation for alternative solver options:\n",
            "    https://scikit-learn.org/stable/modules/linear_model.html#logistic-regression\n",
            "  n_iter_i = _check_optimize_result(\n",
            "C:\\ProgramData\\Anaconda3\\lib\\site-packages\\sklearn\\linear_model\\_logistic.py:814: ConvergenceWarning: lbfgs failed to converge (status=1):\n",
            "STOP: TOTAL NO. of ITERATIONS REACHED LIMIT.\n",
            "\n",
            "Increase the number of iterations (max_iter) or scale the data as shown in:\n",
            "    https://scikit-learn.org/stable/modules/preprocessing.html\n",
            "Please also refer to the documentation for alternative solver options:\n",
            "    https://scikit-learn.org/stable/modules/linear_model.html#logistic-regression\n",
            "  n_iter_i = _check_optimize_result(\n",
            "C:\\ProgramData\\Anaconda3\\lib\\site-packages\\sklearn\\linear_model\\_logistic.py:814: ConvergenceWarning: lbfgs failed to converge (status=1):\n",
            "STOP: TOTAL NO. of ITERATIONS REACHED LIMIT.\n",
            "\n",
            "Increase the number of iterations (max_iter) or scale the data as shown in:\n",
            "    https://scikit-learn.org/stable/modules/preprocessing.html\n",
            "Please also refer to the documentation for alternative solver options:\n",
            "    https://scikit-learn.org/stable/modules/linear_model.html#logistic-regression\n",
            "  n_iter_i = _check_optimize_result(\n",
            "C:\\ProgramData\\Anaconda3\\lib\\site-packages\\sklearn\\linear_model\\_logistic.py:814: ConvergenceWarning: lbfgs failed to converge (status=1):\n",
            "STOP: TOTAL NO. of ITERATIONS REACHED LIMIT.\n",
            "\n",
            "Increase the number of iterations (max_iter) or scale the data as shown in:\n",
            "    https://scikit-learn.org/stable/modules/preprocessing.html\n",
            "Please also refer to the documentation for alternative solver options:\n",
            "    https://scikit-learn.org/stable/modules/linear_model.html#logistic-regression\n",
            "  n_iter_i = _check_optimize_result(\n",
            "C:\\ProgramData\\Anaconda3\\lib\\site-packages\\sklearn\\linear_model\\_logistic.py:814: ConvergenceWarning: lbfgs failed to converge (status=1):\n",
            "STOP: TOTAL NO. of ITERATIONS REACHED LIMIT.\n",
            "\n",
            "Increase the number of iterations (max_iter) or scale the data as shown in:\n",
            "    https://scikit-learn.org/stable/modules/preprocessing.html\n",
            "Please also refer to the documentation for alternative solver options:\n",
            "    https://scikit-learn.org/stable/modules/linear_model.html#logistic-regression\n",
            "  n_iter_i = _check_optimize_result(\n",
            "C:\\ProgramData\\Anaconda3\\lib\\site-packages\\sklearn\\linear_model\\_logistic.py:814: ConvergenceWarning: lbfgs failed to converge (status=1):\n",
            "STOP: TOTAL NO. of ITERATIONS REACHED LIMIT.\n",
            "\n",
            "Increase the number of iterations (max_iter) or scale the data as shown in:\n",
            "    https://scikit-learn.org/stable/modules/preprocessing.html\n",
            "Please also refer to the documentation for alternative solver options:\n",
            "    https://scikit-learn.org/stable/modules/linear_model.html#logistic-regression\n",
            "  n_iter_i = _check_optimize_result(\n",
            "C:\\ProgramData\\Anaconda3\\lib\\site-packages\\sklearn\\linear_model\\_logistic.py:814: ConvergenceWarning: lbfgs failed to converge (status=1):\n",
            "STOP: TOTAL NO. of ITERATIONS REACHED LIMIT.\n",
            "\n",
            "Increase the number of iterations (max_iter) or scale the data as shown in:\n",
            "    https://scikit-learn.org/stable/modules/preprocessing.html\n",
            "Please also refer to the documentation for alternative solver options:\n",
            "    https://scikit-learn.org/stable/modules/linear_model.html#logistic-regression\n",
            "  n_iter_i = _check_optimize_result(\n",
            "C:\\ProgramData\\Anaconda3\\lib\\site-packages\\sklearn\\linear_model\\_logistic.py:814: ConvergenceWarning: lbfgs failed to converge (status=1):\n",
            "STOP: TOTAL NO. of ITERATIONS REACHED LIMIT.\n",
            "\n",
            "Increase the number of iterations (max_iter) or scale the data as shown in:\n",
            "    https://scikit-learn.org/stable/modules/preprocessing.html\n",
            "Please also refer to the documentation for alternative solver options:\n",
            "    https://scikit-learn.org/stable/modules/linear_model.html#logistic-regression\n",
            "  n_iter_i = _check_optimize_result(\n",
            "C:\\ProgramData\\Anaconda3\\lib\\site-packages\\sklearn\\linear_model\\_logistic.py:814: ConvergenceWarning: lbfgs failed to converge (status=1):\n",
            "STOP: TOTAL NO. of ITERATIONS REACHED LIMIT.\n",
            "\n",
            "Increase the number of iterations (max_iter) or scale the data as shown in:\n",
            "    https://scikit-learn.org/stable/modules/preprocessing.html\n",
            "Please also refer to the documentation for alternative solver options:\n",
            "    https://scikit-learn.org/stable/modules/linear_model.html#logistic-regression\n",
            "  n_iter_i = _check_optimize_result(\n",
            "C:\\ProgramData\\Anaconda3\\lib\\site-packages\\sklearn\\linear_model\\_logistic.py:814: ConvergenceWarning: lbfgs failed to converge (status=1):\n",
            "STOP: TOTAL NO. of ITERATIONS REACHED LIMIT.\n",
            "\n",
            "Increase the number of iterations (max_iter) or scale the data as shown in:\n",
            "    https://scikit-learn.org/stable/modules/preprocessing.html\n",
            "Please also refer to the documentation for alternative solver options:\n",
            "    https://scikit-learn.org/stable/modules/linear_model.html#logistic-regression\n",
            "  n_iter_i = _check_optimize_result(\n",
            "C:\\ProgramData\\Anaconda3\\lib\\site-packages\\sklearn\\linear_model\\_logistic.py:814: ConvergenceWarning: lbfgs failed to converge (status=1):\n",
            "STOP: TOTAL NO. of ITERATIONS REACHED LIMIT.\n",
            "\n",
            "Increase the number of iterations (max_iter) or scale the data as shown in:\n",
            "    https://scikit-learn.org/stable/modules/preprocessing.html\n",
            "Please also refer to the documentation for alternative solver options:\n",
            "    https://scikit-learn.org/stable/modules/linear_model.html#logistic-regression\n",
            "  n_iter_i = _check_optimize_result(\n",
            "C:\\ProgramData\\Anaconda3\\lib\\site-packages\\sklearn\\linear_model\\_logistic.py:814: ConvergenceWarning: lbfgs failed to converge (status=1):\n",
            "STOP: TOTAL NO. of ITERATIONS REACHED LIMIT.\n",
            "\n",
            "Increase the number of iterations (max_iter) or scale the data as shown in:\n",
            "    https://scikit-learn.org/stable/modules/preprocessing.html\n",
            "Please also refer to the documentation for alternative solver options:\n",
            "    https://scikit-learn.org/stable/modules/linear_model.html#logistic-regression\n",
            "  n_iter_i = _check_optimize_result(\n",
            "C:\\ProgramData\\Anaconda3\\lib\\site-packages\\sklearn\\linear_model\\_logistic.py:814: ConvergenceWarning: lbfgs failed to converge (status=1):\n",
            "STOP: TOTAL NO. of ITERATIONS REACHED LIMIT.\n",
            "\n",
            "Increase the number of iterations (max_iter) or scale the data as shown in:\n",
            "    https://scikit-learn.org/stable/modules/preprocessing.html\n",
            "Please also refer to the documentation for alternative solver options:\n",
            "    https://scikit-learn.org/stable/modules/linear_model.html#logistic-regression\n",
            "  n_iter_i = _check_optimize_result(\n",
            "C:\\ProgramData\\Anaconda3\\lib\\site-packages\\sklearn\\linear_model\\_logistic.py:814: ConvergenceWarning: lbfgs failed to converge (status=1):\n",
            "STOP: TOTAL NO. of ITERATIONS REACHED LIMIT.\n",
            "\n",
            "Increase the number of iterations (max_iter) or scale the data as shown in:\n",
            "    https://scikit-learn.org/stable/modules/preprocessing.html\n",
            "Please also refer to the documentation for alternative solver options:\n",
            "    https://scikit-learn.org/stable/modules/linear_model.html#logistic-regression\n",
            "  n_iter_i = _check_optimize_result(\n",
            "C:\\ProgramData\\Anaconda3\\lib\\site-packages\\sklearn\\linear_model\\_logistic.py:814: ConvergenceWarning: lbfgs failed to converge (status=1):\n",
            "STOP: TOTAL NO. of ITERATIONS REACHED LIMIT.\n",
            "\n",
            "Increase the number of iterations (max_iter) or scale the data as shown in:\n",
            "    https://scikit-learn.org/stable/modules/preprocessing.html\n",
            "Please also refer to the documentation for alternative solver options:\n",
            "    https://scikit-learn.org/stable/modules/linear_model.html#logistic-regression\n",
            "  n_iter_i = _check_optimize_result(\n",
            "C:\\ProgramData\\Anaconda3\\lib\\site-packages\\sklearn\\linear_model\\_logistic.py:814: ConvergenceWarning: lbfgs failed to converge (status=1):\n",
            "STOP: TOTAL NO. of ITERATIONS REACHED LIMIT.\n",
            "\n",
            "Increase the number of iterations (max_iter) or scale the data as shown in:\n",
            "    https://scikit-learn.org/stable/modules/preprocessing.html\n",
            "Please also refer to the documentation for alternative solver options:\n",
            "    https://scikit-learn.org/stable/modules/linear_model.html#logistic-regression\n",
            "  n_iter_i = _check_optimize_result(\n",
            "C:\\ProgramData\\Anaconda3\\lib\\site-packages\\sklearn\\linear_model\\_logistic.py:814: ConvergenceWarning: lbfgs failed to converge (status=1):\n",
            "STOP: TOTAL NO. of ITERATIONS REACHED LIMIT.\n",
            "\n",
            "Increase the number of iterations (max_iter) or scale the data as shown in:\n",
            "    https://scikit-learn.org/stable/modules/preprocessing.html\n",
            "Please also refer to the documentation for alternative solver options:\n",
            "    https://scikit-learn.org/stable/modules/linear_model.html#logistic-regression\n",
            "  n_iter_i = _check_optimize_result(\n",
            "C:\\ProgramData\\Anaconda3\\lib\\site-packages\\sklearn\\linear_model\\_logistic.py:814: ConvergenceWarning: lbfgs failed to converge (status=1):\n",
            "STOP: TOTAL NO. of ITERATIONS REACHED LIMIT.\n",
            "\n",
            "Increase the number of iterations (max_iter) or scale the data as shown in:\n",
            "    https://scikit-learn.org/stable/modules/preprocessing.html\n",
            "Please also refer to the documentation for alternative solver options:\n",
            "    https://scikit-learn.org/stable/modules/linear_model.html#logistic-regression\n",
            "  n_iter_i = _check_optimize_result(\n",
            "C:\\ProgramData\\Anaconda3\\lib\\site-packages\\sklearn\\linear_model\\_logistic.py:814: ConvergenceWarning: lbfgs failed to converge (status=1):\n",
            "STOP: TOTAL NO. of ITERATIONS REACHED LIMIT.\n",
            "\n",
            "Increase the number of iterations (max_iter) or scale the data as shown in:\n",
            "    https://scikit-learn.org/stable/modules/preprocessing.html\n",
            "Please also refer to the documentation for alternative solver options:\n",
            "    https://scikit-learn.org/stable/modules/linear_model.html#logistic-regression\n",
            "  n_iter_i = _check_optimize_result(\n",
            "C:\\ProgramData\\Anaconda3\\lib\\site-packages\\sklearn\\linear_model\\_logistic.py:814: ConvergenceWarning: lbfgs failed to converge (status=1):\n",
            "STOP: TOTAL NO. of ITERATIONS REACHED LIMIT.\n",
            "\n",
            "Increase the number of iterations (max_iter) or scale the data as shown in:\n",
            "    https://scikit-learn.org/stable/modules/preprocessing.html\n",
            "Please also refer to the documentation for alternative solver options:\n",
            "    https://scikit-learn.org/stable/modules/linear_model.html#logistic-regression\n",
            "  n_iter_i = _check_optimize_result(\n",
            "C:\\ProgramData\\Anaconda3\\lib\\site-packages\\sklearn\\linear_model\\_logistic.py:814: ConvergenceWarning: lbfgs failed to converge (status=1):\n",
            "STOP: TOTAL NO. of ITERATIONS REACHED LIMIT.\n",
            "\n",
            "Increase the number of iterations (max_iter) or scale the data as shown in:\n",
            "    https://scikit-learn.org/stable/modules/preprocessing.html\n",
            "Please also refer to the documentation for alternative solver options:\n",
            "    https://scikit-learn.org/stable/modules/linear_model.html#logistic-regression\n",
            "  n_iter_i = _check_optimize_result(\n",
            "C:\\ProgramData\\Anaconda3\\lib\\site-packages\\sklearn\\linear_model\\_logistic.py:814: ConvergenceWarning: lbfgs failed to converge (status=1):\n",
            "STOP: TOTAL NO. of ITERATIONS REACHED LIMIT.\n",
            "\n",
            "Increase the number of iterations (max_iter) or scale the data as shown in:\n",
            "    https://scikit-learn.org/stable/modules/preprocessing.html\n",
            "Please also refer to the documentation for alternative solver options:\n",
            "    https://scikit-learn.org/stable/modules/linear_model.html#logistic-regression\n",
            "  n_iter_i = _check_optimize_result(\n",
            "C:\\ProgramData\\Anaconda3\\lib\\site-packages\\sklearn\\linear_model\\_logistic.py:814: ConvergenceWarning: lbfgs failed to converge (status=1):\n",
            "STOP: TOTAL NO. of ITERATIONS REACHED LIMIT.\n",
            "\n",
            "Increase the number of iterations (max_iter) or scale the data as shown in:\n",
            "    https://scikit-learn.org/stable/modules/preprocessing.html\n",
            "Please also refer to the documentation for alternative solver options:\n",
            "    https://scikit-learn.org/stable/modules/linear_model.html#logistic-regression\n",
            "  n_iter_i = _check_optimize_result(\n",
            "C:\\ProgramData\\Anaconda3\\lib\\site-packages\\sklearn\\linear_model\\_logistic.py:814: ConvergenceWarning: lbfgs failed to converge (status=1):\n",
            "STOP: TOTAL NO. of ITERATIONS REACHED LIMIT.\n",
            "\n",
            "Increase the number of iterations (max_iter) or scale the data as shown in:\n",
            "    https://scikit-learn.org/stable/modules/preprocessing.html\n",
            "Please also refer to the documentation for alternative solver options:\n",
            "    https://scikit-learn.org/stable/modules/linear_model.html#logistic-regression\n",
            "  n_iter_i = _check_optimize_result(\n",
            "C:\\ProgramData\\Anaconda3\\lib\\site-packages\\sklearn\\linear_model\\_logistic.py:814: ConvergenceWarning: lbfgs failed to converge (status=1):\n",
            "STOP: TOTAL NO. of ITERATIONS REACHED LIMIT.\n",
            "\n",
            "Increase the number of iterations (max_iter) or scale the data as shown in:\n",
            "    https://scikit-learn.org/stable/modules/preprocessing.html\n",
            "Please also refer to the documentation for alternative solver options:\n",
            "    https://scikit-learn.org/stable/modules/linear_model.html#logistic-regression\n",
            "  n_iter_i = _check_optimize_result(\n",
            "C:\\ProgramData\\Anaconda3\\lib\\site-packages\\sklearn\\linear_model\\_logistic.py:814: ConvergenceWarning: lbfgs failed to converge (status=1):\n",
            "STOP: TOTAL NO. of ITERATIONS REACHED LIMIT.\n",
            "\n",
            "Increase the number of iterations (max_iter) or scale the data as shown in:\n",
            "    https://scikit-learn.org/stable/modules/preprocessing.html\n",
            "Please also refer to the documentation for alternative solver options:\n",
            "    https://scikit-learn.org/stable/modules/linear_model.html#logistic-regression\n",
            "  n_iter_i = _check_optimize_result(\n",
            "C:\\ProgramData\\Anaconda3\\lib\\site-packages\\sklearn\\linear_model\\_logistic.py:814: ConvergenceWarning: lbfgs failed to converge (status=1):\n",
            "STOP: TOTAL NO. of ITERATIONS REACHED LIMIT.\n",
            "\n",
            "Increase the number of iterations (max_iter) or scale the data as shown in:\n",
            "    https://scikit-learn.org/stable/modules/preprocessing.html\n",
            "Please also refer to the documentation for alternative solver options:\n",
            "    https://scikit-learn.org/stable/modules/linear_model.html#logistic-regression\n",
            "  n_iter_i = _check_optimize_result(\n",
            "C:\\ProgramData\\Anaconda3\\lib\\site-packages\\sklearn\\linear_model\\_logistic.py:814: ConvergenceWarning: lbfgs failed to converge (status=1):\n",
            "STOP: TOTAL NO. of ITERATIONS REACHED LIMIT.\n",
            "\n",
            "Increase the number of iterations (max_iter) or scale the data as shown in:\n",
            "    https://scikit-learn.org/stable/modules/preprocessing.html\n",
            "Please also refer to the documentation for alternative solver options:\n",
            "    https://scikit-learn.org/stable/modules/linear_model.html#logistic-regression\n",
            "  n_iter_i = _check_optimize_result(\n",
            "C:\\ProgramData\\Anaconda3\\lib\\site-packages\\sklearn\\linear_model\\_logistic.py:814: ConvergenceWarning: lbfgs failed to converge (status=1):\n",
            "STOP: TOTAL NO. of ITERATIONS REACHED LIMIT.\n",
            "\n",
            "Increase the number of iterations (max_iter) or scale the data as shown in:\n",
            "    https://scikit-learn.org/stable/modules/preprocessing.html\n",
            "Please also refer to the documentation for alternative solver options:\n",
            "    https://scikit-learn.org/stable/modules/linear_model.html#logistic-regression\n",
            "  n_iter_i = _check_optimize_result(\n",
            "C:\\ProgramData\\Anaconda3\\lib\\site-packages\\sklearn\\linear_model\\_logistic.py:814: ConvergenceWarning: lbfgs failed to converge (status=1):\n",
            "STOP: TOTAL NO. of ITERATIONS REACHED LIMIT.\n",
            "\n",
            "Increase the number of iterations (max_iter) or scale the data as shown in:\n",
            "    https://scikit-learn.org/stable/modules/preprocessing.html\n",
            "Please also refer to the documentation for alternative solver options:\n",
            "    https://scikit-learn.org/stable/modules/linear_model.html#logistic-regression\n",
            "  n_iter_i = _check_optimize_result(\n",
            "C:\\ProgramData\\Anaconda3\\lib\\site-packages\\sklearn\\linear_model\\_logistic.py:814: ConvergenceWarning: lbfgs failed to converge (status=1):\n",
            "STOP: TOTAL NO. of ITERATIONS REACHED LIMIT.\n",
            "\n",
            "Increase the number of iterations (max_iter) or scale the data as shown in:\n",
            "    https://scikit-learn.org/stable/modules/preprocessing.html\n",
            "Please also refer to the documentation for alternative solver options:\n",
            "    https://scikit-learn.org/stable/modules/linear_model.html#logistic-regression\n",
            "  n_iter_i = _check_optimize_result(\n",
            "C:\\ProgramData\\Anaconda3\\lib\\site-packages\\sklearn\\linear_model\\_logistic.py:814: ConvergenceWarning: lbfgs failed to converge (status=1):\n",
            "STOP: TOTAL NO. of ITERATIONS REACHED LIMIT.\n",
            "\n",
            "Increase the number of iterations (max_iter) or scale the data as shown in:\n",
            "    https://scikit-learn.org/stable/modules/preprocessing.html\n",
            "Please also refer to the documentation for alternative solver options:\n",
            "    https://scikit-learn.org/stable/modules/linear_model.html#logistic-regression\n",
            "  n_iter_i = _check_optimize_result(\n",
            "C:\\ProgramData\\Anaconda3\\lib\\site-packages\\sklearn\\linear_model\\_logistic.py:814: ConvergenceWarning: lbfgs failed to converge (status=1):\n",
            "STOP: TOTAL NO. of ITERATIONS REACHED LIMIT.\n",
            "\n",
            "Increase the number of iterations (max_iter) or scale the data as shown in:\n",
            "    https://scikit-learn.org/stable/modules/preprocessing.html\n",
            "Please also refer to the documentation for alternative solver options:\n",
            "    https://scikit-learn.org/stable/modules/linear_model.html#logistic-regression\n",
            "  n_iter_i = _check_optimize_result(\n",
            "C:\\ProgramData\\Anaconda3\\lib\\site-packages\\sklearn\\linear_model\\_logistic.py:814: ConvergenceWarning: lbfgs failed to converge (status=1):\n",
            "STOP: TOTAL NO. of ITERATIONS REACHED LIMIT.\n",
            "\n",
            "Increase the number of iterations (max_iter) or scale the data as shown in:\n",
            "    https://scikit-learn.org/stable/modules/preprocessing.html\n",
            "Please also refer to the documentation for alternative solver options:\n",
            "    https://scikit-learn.org/stable/modules/linear_model.html#logistic-regression\n",
            "  n_iter_i = _check_optimize_result(\n",
            "C:\\ProgramData\\Anaconda3\\lib\\site-packages\\sklearn\\linear_model\\_logistic.py:814: ConvergenceWarning: lbfgs failed to converge (status=1):\n",
            "STOP: TOTAL NO. of ITERATIONS REACHED LIMIT.\n",
            "\n",
            "Increase the number of iterations (max_iter) or scale the data as shown in:\n",
            "    https://scikit-learn.org/stable/modules/preprocessing.html\n",
            "Please also refer to the documentation for alternative solver options:\n",
            "    https://scikit-learn.org/stable/modules/linear_model.html#logistic-regression\n",
            "  n_iter_i = _check_optimize_result(\n"
          ]
        },
        {
          "name": "stdout",
          "output_type": "stream",
          "text": [
            "Best Penalty: l2\n",
            "Best C: 7.742636826811269\n"
          ]
        },
        {
          "name": "stderr",
          "output_type": "stream",
          "text": [
            "C:\\ProgramData\\Anaconda3\\lib\\site-packages\\sklearn\\linear_model\\_logistic.py:814: ConvergenceWarning: lbfgs failed to converge (status=1):\n",
            "STOP: TOTAL NO. of ITERATIONS REACHED LIMIT.\n",
            "\n",
            "Increase the number of iterations (max_iter) or scale the data as shown in:\n",
            "    https://scikit-learn.org/stable/modules/preprocessing.html\n",
            "Please also refer to the documentation for alternative solver options:\n",
            "    https://scikit-learn.org/stable/modules/linear_model.html#logistic-regression\n",
            "  n_iter_i = _check_optimize_result(\n",
            "C:\\ProgramData\\Anaconda3\\lib\\site-packages\\sklearn\\linear_model\\_logistic.py:814: ConvergenceWarning: lbfgs failed to converge (status=1):\n",
            "STOP: TOTAL NO. of ITERATIONS REACHED LIMIT.\n",
            "\n",
            "Increase the number of iterations (max_iter) or scale the data as shown in:\n",
            "    https://scikit-learn.org/stable/modules/preprocessing.html\n",
            "Please also refer to the documentation for alternative solver options:\n",
            "    https://scikit-learn.org/stable/modules/linear_model.html#logistic-regression\n",
            "  n_iter_i = _check_optimize_result(\n",
            "C:\\ProgramData\\Anaconda3\\lib\\site-packages\\sklearn\\linear_model\\_logistic.py:814: ConvergenceWarning: lbfgs failed to converge (status=1):\n",
            "STOP: TOTAL NO. of ITERATIONS REACHED LIMIT.\n",
            "\n",
            "Increase the number of iterations (max_iter) or scale the data as shown in:\n",
            "    https://scikit-learn.org/stable/modules/preprocessing.html\n",
            "Please also refer to the documentation for alternative solver options:\n",
            "    https://scikit-learn.org/stable/modules/linear_model.html#logistic-regression\n",
            "  n_iter_i = _check_optimize_result(\n",
            "C:\\ProgramData\\Anaconda3\\lib\\site-packages\\sklearn\\model_selection\\_validation.py:372: FitFailedWarning: \n",
            "50 fits failed out of a total of 100.\n",
            "The score on these train-test partitions for these parameters will be set to nan.\n",
            "If these failures are not expected, you can try to debug them by setting error_score='raise'.\n",
            "\n",
            "Below are more details about the failures:\n",
            "--------------------------------------------------------------------------------\n",
            "50 fits failed with the following error:\n",
            "Traceback (most recent call last):\n",
            "  File \"C:\\ProgramData\\Anaconda3\\lib\\site-packages\\sklearn\\model_selection\\_validation.py\", line 680, in _fit_and_score\n",
            "    estimator.fit(X_train, y_train, **fit_params)\n",
            "  File \"C:\\ProgramData\\Anaconda3\\lib\\site-packages\\sklearn\\linear_model\\_logistic.py\", line 1461, in fit\n",
            "    solver = _check_solver(self.solver, self.penalty, self.dual)\n",
            "  File \"C:\\ProgramData\\Anaconda3\\lib\\site-packages\\sklearn\\linear_model\\_logistic.py\", line 447, in _check_solver\n",
            "    raise ValueError(\n",
            "ValueError: Solver lbfgs supports only 'l2' or 'none' penalties, got l1 penalty.\n",
            "\n",
            "  warnings.warn(some_fits_failed_message, FitFailedWarning)\n",
            "C:\\ProgramData\\Anaconda3\\lib\\site-packages\\sklearn\\model_selection\\_search.py:969: UserWarning: One or more of the test scores are non-finite: [       nan 0.97333333        nan 0.97333333        nan 0.98\n",
            "        nan 0.98              nan 0.97333333        nan 0.97333333\n",
            "        nan 0.97333333        nan 0.97333333        nan 0.97333333\n",
            "        nan 0.97333333]\n",
            "  warnings.warn(\n",
            "C:\\ProgramData\\Anaconda3\\lib\\site-packages\\sklearn\\linear_model\\_logistic.py:814: ConvergenceWarning: lbfgs failed to converge (status=1):\n",
            "STOP: TOTAL NO. of ITERATIONS REACHED LIMIT.\n",
            "\n",
            "Increase the number of iterations (max_iter) or scale the data as shown in:\n",
            "    https://scikit-learn.org/stable/modules/preprocessing.html\n",
            "Please also refer to the documentation for alternative solver options:\n",
            "    https://scikit-learn.org/stable/modules/linear_model.html#logistic-regression\n",
            "  n_iter_i = _check_optimize_result(\n"
          ]
        }
      ],
      "source": [
        "# Load libraries\n",
        "import numpy as np\n",
        "from sklearn import linear_model, datasets\n",
        "from sklearn.model_selection import GridSearchCV\n",
        "# Load data\n",
        "iris = datasets.load_iris()\n",
        "features = iris.data\n",
        "target = iris.target\n",
        "# Create logistic regression\n",
        "logistic = linear_model.LogisticRegression()\n",
        "# Create range of candidate penalty hyperparameter values\n",
        "penalty = ['l1', 'l2']\n",
        "# Create range of candidate regularization hyperparameter values\n",
        "C = np.logspace(0, 4, 10)\n",
        "# Create dictionary hyperparameter candidates\n",
        "hyperparameters = dict(C=C, penalty=penalty)\n",
        "# Create grid search\n",
        "gridsearch = GridSearchCV(logistic, hyperparameters, cv=5, verbose=0)\n",
        "# Fit grid search\n",
        "best_model = gridsearch.fit(features, target)\n",
        "np.logspace(0, 4, 10)\n",
        "# View best hyperparameters\n",
        "print('Best Penalty:', best_model.best_estimator_.get_params()['penalty'])\n",
        "print('Best C:', best_model.best_estimator_.get_params()['C'])"
      ]
    },
    {
      "cell_type": "code",
      "execution_count": null,
      "id": "1d633ecc-c520-455d-baaa-c23e7dcf5812",
      "metadata": {
        "id": "1d633ecc-c520-455d-baaa-c23e7dcf5812",
        "outputId": "07498e05-9009-40c3-9d0b-35843dc9d9a9"
      },
      "outputs": [
        {
          "data": {
            "text/plain": [
              "array([0, 0, 0, 0, 0, 0, 0, 0, 0, 0, 0, 0, 0, 0, 0, 0, 0, 0, 0, 0, 0, 0,\n",
              "       0, 0, 0, 0, 0, 0, 0, 0, 0, 0, 0, 0, 0, 0, 0, 0, 0, 0, 0, 0, 0, 0,\n",
              "       0, 0, 0, 0, 0, 0, 1, 1, 1, 1, 1, 1, 1, 1, 1, 1, 1, 1, 1, 1, 1, 1,\n",
              "       1, 1, 1, 1, 2, 1, 1, 1, 1, 1, 1, 1, 1, 1, 1, 1, 1, 2, 1, 1, 1, 1,\n",
              "       1, 1, 1, 1, 1, 1, 1, 1, 1, 1, 1, 1, 2, 2, 2, 2, 2, 2, 2, 2, 2, 2,\n",
              "       2, 2, 2, 2, 2, 2, 2, 2, 2, 2, 2, 2, 2, 2, 2, 2, 2, 2, 2, 2, 2, 2,\n",
              "       2, 2, 2, 2, 2, 2, 2, 2, 2, 2, 2, 2, 2, 2, 2, 2, 2, 2])"
            ]
          },
          "execution_count": 3,
          "metadata": {},
          "output_type": "execute_result"
        }
      ],
      "source": [
        "# Predict target vector\n",
        "best_model.predict(features)"
      ]
    },
    {
      "cell_type": "code",
      "execution_count": null,
      "id": "76385d50-a125-44e8-83db-78cff3e282a3",
      "metadata": {
        "id": "76385d50-a125-44e8-83db-78cff3e282a3",
        "outputId": "53338c82-5d32-4ad2-f400-afb431ee2976"
      },
      "outputs": [
        {
          "name": "stderr",
          "output_type": "stream",
          "text": [
            "C:\\ProgramData\\Anaconda3\\lib\\site-packages\\sklearn\\linear_model\\_logistic.py:814: ConvergenceWarning: lbfgs failed to converge (status=1):\n",
            "STOP: TOTAL NO. of ITERATIONS REACHED LIMIT.\n",
            "\n",
            "Increase the number of iterations (max_iter) or scale the data as shown in:\n",
            "    https://scikit-learn.org/stable/modules/preprocessing.html\n",
            "Please also refer to the documentation for alternative solver options:\n",
            "    https://scikit-learn.org/stable/modules/linear_model.html#logistic-regression\n",
            "  n_iter_i = _check_optimize_result(\n",
            "C:\\ProgramData\\Anaconda3\\lib\\site-packages\\sklearn\\linear_model\\_logistic.py:814: ConvergenceWarning: lbfgs failed to converge (status=1):\n",
            "STOP: TOTAL NO. of ITERATIONS REACHED LIMIT.\n",
            "\n",
            "Increase the number of iterations (max_iter) or scale the data as shown in:\n",
            "    https://scikit-learn.org/stable/modules/preprocessing.html\n",
            "Please also refer to the documentation for alternative solver options:\n",
            "    https://scikit-learn.org/stable/modules/linear_model.html#logistic-regression\n",
            "  n_iter_i = _check_optimize_result(\n",
            "C:\\ProgramData\\Anaconda3\\lib\\site-packages\\sklearn\\linear_model\\_logistic.py:814: ConvergenceWarning: lbfgs failed to converge (status=1):\n",
            "STOP: TOTAL NO. of ITERATIONS REACHED LIMIT.\n",
            "\n",
            "Increase the number of iterations (max_iter) or scale the data as shown in:\n",
            "    https://scikit-learn.org/stable/modules/preprocessing.html\n",
            "Please also refer to the documentation for alternative solver options:\n",
            "    https://scikit-learn.org/stable/modules/linear_model.html#logistic-regression\n",
            "  n_iter_i = _check_optimize_result(\n",
            "C:\\ProgramData\\Anaconda3\\lib\\site-packages\\sklearn\\linear_model\\_logistic.py:814: ConvergenceWarning: lbfgs failed to converge (status=1):\n",
            "STOP: TOTAL NO. of ITERATIONS REACHED LIMIT.\n",
            "\n",
            "Increase the number of iterations (max_iter) or scale the data as shown in:\n",
            "    https://scikit-learn.org/stable/modules/preprocessing.html\n",
            "Please also refer to the documentation for alternative solver options:\n",
            "    https://scikit-learn.org/stable/modules/linear_model.html#logistic-regression\n",
            "  n_iter_i = _check_optimize_result(\n",
            "C:\\ProgramData\\Anaconda3\\lib\\site-packages\\sklearn\\linear_model\\_logistic.py:814: ConvergenceWarning: lbfgs failed to converge (status=1):\n",
            "STOP: TOTAL NO. of ITERATIONS REACHED LIMIT.\n",
            "\n",
            "Increase the number of iterations (max_iter) or scale the data as shown in:\n",
            "    https://scikit-learn.org/stable/modules/preprocessing.html\n",
            "Please also refer to the documentation for alternative solver options:\n",
            "    https://scikit-learn.org/stable/modules/linear_model.html#logistic-regression\n",
            "  n_iter_i = _check_optimize_result(\n",
            "C:\\ProgramData\\Anaconda3\\lib\\site-packages\\sklearn\\linear_model\\_logistic.py:814: ConvergenceWarning: lbfgs failed to converge (status=1):\n",
            "STOP: TOTAL NO. of ITERATIONS REACHED LIMIT.\n",
            "\n",
            "Increase the number of iterations (max_iter) or scale the data as shown in:\n",
            "    https://scikit-learn.org/stable/modules/preprocessing.html\n",
            "Please also refer to the documentation for alternative solver options:\n",
            "    https://scikit-learn.org/stable/modules/linear_model.html#logistic-regression\n",
            "  n_iter_i = _check_optimize_result(\n",
            "C:\\ProgramData\\Anaconda3\\lib\\site-packages\\sklearn\\linear_model\\_logistic.py:814: ConvergenceWarning: lbfgs failed to converge (status=1):\n",
            "STOP: TOTAL NO. of ITERATIONS REACHED LIMIT.\n",
            "\n",
            "Increase the number of iterations (max_iter) or scale the data as shown in:\n",
            "    https://scikit-learn.org/stable/modules/preprocessing.html\n",
            "Please also refer to the documentation for alternative solver options:\n",
            "    https://scikit-learn.org/stable/modules/linear_model.html#logistic-regression\n",
            "  n_iter_i = _check_optimize_result(\n",
            "C:\\ProgramData\\Anaconda3\\lib\\site-packages\\sklearn\\linear_model\\_logistic.py:814: ConvergenceWarning: lbfgs failed to converge (status=1):\n",
            "STOP: TOTAL NO. of ITERATIONS REACHED LIMIT.\n",
            "\n",
            "Increase the number of iterations (max_iter) or scale the data as shown in:\n",
            "    https://scikit-learn.org/stable/modules/preprocessing.html\n",
            "Please also refer to the documentation for alternative solver options:\n",
            "    https://scikit-learn.org/stable/modules/linear_model.html#logistic-regression\n",
            "  n_iter_i = _check_optimize_result(\n",
            "C:\\ProgramData\\Anaconda3\\lib\\site-packages\\sklearn\\linear_model\\_logistic.py:814: ConvergenceWarning: lbfgs failed to converge (status=1):\n",
            "STOP: TOTAL NO. of ITERATIONS REACHED LIMIT.\n",
            "\n",
            "Increase the number of iterations (max_iter) or scale the data as shown in:\n",
            "    https://scikit-learn.org/stable/modules/preprocessing.html\n",
            "Please also refer to the documentation for alternative solver options:\n",
            "    https://scikit-learn.org/stable/modules/linear_model.html#logistic-regression\n",
            "  n_iter_i = _check_optimize_result(\n",
            "C:\\ProgramData\\Anaconda3\\lib\\site-packages\\sklearn\\linear_model\\_logistic.py:814: ConvergenceWarning: lbfgs failed to converge (status=1):\n",
            "STOP: TOTAL NO. of ITERATIONS REACHED LIMIT.\n",
            "\n",
            "Increase the number of iterations (max_iter) or scale the data as shown in:\n",
            "    https://scikit-learn.org/stable/modules/preprocessing.html\n",
            "Please also refer to the documentation for alternative solver options:\n",
            "    https://scikit-learn.org/stable/modules/linear_model.html#logistic-regression\n",
            "  n_iter_i = _check_optimize_result(\n",
            "C:\\ProgramData\\Anaconda3\\lib\\site-packages\\sklearn\\linear_model\\_logistic.py:814: ConvergenceWarning: lbfgs failed to converge (status=1):\n",
            "STOP: TOTAL NO. of ITERATIONS REACHED LIMIT.\n",
            "\n",
            "Increase the number of iterations (max_iter) or scale the data as shown in:\n",
            "    https://scikit-learn.org/stable/modules/preprocessing.html\n",
            "Please also refer to the documentation for alternative solver options:\n",
            "    https://scikit-learn.org/stable/modules/linear_model.html#logistic-regression\n",
            "  n_iter_i = _check_optimize_result(\n",
            "C:\\ProgramData\\Anaconda3\\lib\\site-packages\\sklearn\\linear_model\\_logistic.py:814: ConvergenceWarning: lbfgs failed to converge (status=1):\n",
            "STOP: TOTAL NO. of ITERATIONS REACHED LIMIT.\n",
            "\n",
            "Increase the number of iterations (max_iter) or scale the data as shown in:\n",
            "    https://scikit-learn.org/stable/modules/preprocessing.html\n",
            "Please also refer to the documentation for alternative solver options:\n",
            "    https://scikit-learn.org/stable/modules/linear_model.html#logistic-regression\n",
            "  n_iter_i = _check_optimize_result(\n",
            "C:\\ProgramData\\Anaconda3\\lib\\site-packages\\sklearn\\linear_model\\_logistic.py:814: ConvergenceWarning: lbfgs failed to converge (status=1):\n",
            "STOP: TOTAL NO. of ITERATIONS REACHED LIMIT.\n",
            "\n",
            "Increase the number of iterations (max_iter) or scale the data as shown in:\n",
            "    https://scikit-learn.org/stable/modules/preprocessing.html\n",
            "Please also refer to the documentation for alternative solver options:\n",
            "    https://scikit-learn.org/stable/modules/linear_model.html#logistic-regression\n",
            "  n_iter_i = _check_optimize_result(\n",
            "C:\\ProgramData\\Anaconda3\\lib\\site-packages\\sklearn\\linear_model\\_logistic.py:814: ConvergenceWarning: lbfgs failed to converge (status=1):\n",
            "STOP: TOTAL NO. of ITERATIONS REACHED LIMIT.\n",
            "\n",
            "Increase the number of iterations (max_iter) or scale the data as shown in:\n",
            "    https://scikit-learn.org/stable/modules/preprocessing.html\n",
            "Please also refer to the documentation for alternative solver options:\n",
            "    https://scikit-learn.org/stable/modules/linear_model.html#logistic-regression\n",
            "  n_iter_i = _check_optimize_result(\n",
            "C:\\ProgramData\\Anaconda3\\lib\\site-packages\\sklearn\\linear_model\\_logistic.py:814: ConvergenceWarning: lbfgs failed to converge (status=1):\n",
            "STOP: TOTAL NO. of ITERATIONS REACHED LIMIT.\n",
            "\n",
            "Increase the number of iterations (max_iter) or scale the data as shown in:\n",
            "    https://scikit-learn.org/stable/modules/preprocessing.html\n",
            "Please also refer to the documentation for alternative solver options:\n",
            "    https://scikit-learn.org/stable/modules/linear_model.html#logistic-regression\n",
            "  n_iter_i = _check_optimize_result(\n",
            "C:\\ProgramData\\Anaconda3\\lib\\site-packages\\sklearn\\linear_model\\_logistic.py:814: ConvergenceWarning: lbfgs failed to converge (status=1):\n",
            "STOP: TOTAL NO. of ITERATIONS REACHED LIMIT.\n",
            "\n",
            "Increase the number of iterations (max_iter) or scale the data as shown in:\n",
            "    https://scikit-learn.org/stable/modules/preprocessing.html\n",
            "Please also refer to the documentation for alternative solver options:\n",
            "    https://scikit-learn.org/stable/modules/linear_model.html#logistic-regression\n",
            "  n_iter_i = _check_optimize_result(\n",
            "C:\\ProgramData\\Anaconda3\\lib\\site-packages\\sklearn\\linear_model\\_logistic.py:814: ConvergenceWarning: lbfgs failed to converge (status=1):\n",
            "STOP: TOTAL NO. of ITERATIONS REACHED LIMIT.\n",
            "\n",
            "Increase the number of iterations (max_iter) or scale the data as shown in:\n",
            "    https://scikit-learn.org/stable/modules/preprocessing.html\n",
            "Please also refer to the documentation for alternative solver options:\n",
            "    https://scikit-learn.org/stable/modules/linear_model.html#logistic-regression\n",
            "  n_iter_i = _check_optimize_result(\n",
            "C:\\ProgramData\\Anaconda3\\lib\\site-packages\\sklearn\\linear_model\\_logistic.py:814: ConvergenceWarning: lbfgs failed to converge (status=1):\n",
            "STOP: TOTAL NO. of ITERATIONS REACHED LIMIT.\n",
            "\n",
            "Increase the number of iterations (max_iter) or scale the data as shown in:\n",
            "    https://scikit-learn.org/stable/modules/preprocessing.html\n",
            "Please also refer to the documentation for alternative solver options:\n",
            "    https://scikit-learn.org/stable/modules/linear_model.html#logistic-regression\n",
            "  n_iter_i = _check_optimize_result(\n",
            "C:\\ProgramData\\Anaconda3\\lib\\site-packages\\sklearn\\linear_model\\_logistic.py:814: ConvergenceWarning: lbfgs failed to converge (status=1):\n",
            "STOP: TOTAL NO. of ITERATIONS REACHED LIMIT.\n",
            "\n",
            "Increase the number of iterations (max_iter) or scale the data as shown in:\n",
            "    https://scikit-learn.org/stable/modules/preprocessing.html\n",
            "Please also refer to the documentation for alternative solver options:\n",
            "    https://scikit-learn.org/stable/modules/linear_model.html#logistic-regression\n",
            "  n_iter_i = _check_optimize_result(\n",
            "C:\\ProgramData\\Anaconda3\\lib\\site-packages\\sklearn\\linear_model\\_logistic.py:814: ConvergenceWarning: lbfgs failed to converge (status=1):\n",
            "STOP: TOTAL NO. of ITERATIONS REACHED LIMIT.\n",
            "\n",
            "Increase the number of iterations (max_iter) or scale the data as shown in:\n",
            "    https://scikit-learn.org/stable/modules/preprocessing.html\n",
            "Please also refer to the documentation for alternative solver options:\n",
            "    https://scikit-learn.org/stable/modules/linear_model.html#logistic-regression\n",
            "  n_iter_i = _check_optimize_result(\n",
            "C:\\ProgramData\\Anaconda3\\lib\\site-packages\\sklearn\\linear_model\\_logistic.py:814: ConvergenceWarning: lbfgs failed to converge (status=1):\n",
            "STOP: TOTAL NO. of ITERATIONS REACHED LIMIT.\n",
            "\n",
            "Increase the number of iterations (max_iter) or scale the data as shown in:\n",
            "    https://scikit-learn.org/stable/modules/preprocessing.html\n",
            "Please also refer to the documentation for alternative solver options:\n",
            "    https://scikit-learn.org/stable/modules/linear_model.html#logistic-regression\n",
            "  n_iter_i = _check_optimize_result(\n",
            "C:\\ProgramData\\Anaconda3\\lib\\site-packages\\sklearn\\linear_model\\_logistic.py:814: ConvergenceWarning: lbfgs failed to converge (status=1):\n",
            "STOP: TOTAL NO. of ITERATIONS REACHED LIMIT.\n",
            "\n",
            "Increase the number of iterations (max_iter) or scale the data as shown in:\n",
            "    https://scikit-learn.org/stable/modules/preprocessing.html\n",
            "Please also refer to the documentation for alternative solver options:\n",
            "    https://scikit-learn.org/stable/modules/linear_model.html#logistic-regression\n",
            "  n_iter_i = _check_optimize_result(\n",
            "C:\\ProgramData\\Anaconda3\\lib\\site-packages\\sklearn\\linear_model\\_logistic.py:814: ConvergenceWarning: lbfgs failed to converge (status=1):\n",
            "STOP: TOTAL NO. of ITERATIONS REACHED LIMIT.\n",
            "\n",
            "Increase the number of iterations (max_iter) or scale the data as shown in:\n",
            "    https://scikit-learn.org/stable/modules/preprocessing.html\n",
            "Please also refer to the documentation for alternative solver options:\n",
            "    https://scikit-learn.org/stable/modules/linear_model.html#logistic-regression\n",
            "  n_iter_i = _check_optimize_result(\n",
            "C:\\ProgramData\\Anaconda3\\lib\\site-packages\\sklearn\\linear_model\\_logistic.py:814: ConvergenceWarning: lbfgs failed to converge (status=1):\n",
            "STOP: TOTAL NO. of ITERATIONS REACHED LIMIT.\n",
            "\n",
            "Increase the number of iterations (max_iter) or scale the data as shown in:\n",
            "    https://scikit-learn.org/stable/modules/preprocessing.html\n",
            "Please also refer to the documentation for alternative solver options:\n",
            "    https://scikit-learn.org/stable/modules/linear_model.html#logistic-regression\n",
            "  n_iter_i = _check_optimize_result(\n",
            "C:\\ProgramData\\Anaconda3\\lib\\site-packages\\sklearn\\linear_model\\_logistic.py:814: ConvergenceWarning: lbfgs failed to converge (status=1):\n",
            "STOP: TOTAL NO. of ITERATIONS REACHED LIMIT.\n",
            "\n",
            "Increase the number of iterations (max_iter) or scale the data as shown in:\n",
            "    https://scikit-learn.org/stable/modules/preprocessing.html\n",
            "Please also refer to the documentation for alternative solver options:\n",
            "    https://scikit-learn.org/stable/modules/linear_model.html#logistic-regression\n",
            "  n_iter_i = _check_optimize_result(\n",
            "C:\\ProgramData\\Anaconda3\\lib\\site-packages\\sklearn\\linear_model\\_logistic.py:814: ConvergenceWarning: lbfgs failed to converge (status=1):\n",
            "STOP: TOTAL NO. of ITERATIONS REACHED LIMIT.\n",
            "\n",
            "Increase the number of iterations (max_iter) or scale the data as shown in:\n",
            "    https://scikit-learn.org/stable/modules/preprocessing.html\n",
            "Please also refer to the documentation for alternative solver options:\n",
            "    https://scikit-learn.org/stable/modules/linear_model.html#logistic-regression\n",
            "  n_iter_i = _check_optimize_result(\n",
            "C:\\ProgramData\\Anaconda3\\lib\\site-packages\\sklearn\\linear_model\\_logistic.py:814: ConvergenceWarning: lbfgs failed to converge (status=1):\n",
            "STOP: TOTAL NO. of ITERATIONS REACHED LIMIT.\n",
            "\n",
            "Increase the number of iterations (max_iter) or scale the data as shown in:\n",
            "    https://scikit-learn.org/stable/modules/preprocessing.html\n",
            "Please also refer to the documentation for alternative solver options:\n",
            "    https://scikit-learn.org/stable/modules/linear_model.html#logistic-regression\n",
            "  n_iter_i = _check_optimize_result(\n",
            "C:\\ProgramData\\Anaconda3\\lib\\site-packages\\sklearn\\linear_model\\_logistic.py:814: ConvergenceWarning: lbfgs failed to converge (status=1):\n",
            "STOP: TOTAL NO. of ITERATIONS REACHED LIMIT.\n",
            "\n",
            "Increase the number of iterations (max_iter) or scale the data as shown in:\n",
            "    https://scikit-learn.org/stable/modules/preprocessing.html\n",
            "Please also refer to the documentation for alternative solver options:\n",
            "    https://scikit-learn.org/stable/modules/linear_model.html#logistic-regression\n",
            "  n_iter_i = _check_optimize_result(\n",
            "C:\\ProgramData\\Anaconda3\\lib\\site-packages\\sklearn\\linear_model\\_logistic.py:814: ConvergenceWarning: lbfgs failed to converge (status=1):\n",
            "STOP: TOTAL NO. of ITERATIONS REACHED LIMIT.\n",
            "\n",
            "Increase the number of iterations (max_iter) or scale the data as shown in:\n",
            "    https://scikit-learn.org/stable/modules/preprocessing.html\n",
            "Please also refer to the documentation for alternative solver options:\n",
            "    https://scikit-learn.org/stable/modules/linear_model.html#logistic-regression\n",
            "  n_iter_i = _check_optimize_result(\n",
            "C:\\ProgramData\\Anaconda3\\lib\\site-packages\\sklearn\\linear_model\\_logistic.py:814: ConvergenceWarning: lbfgs failed to converge (status=1):\n",
            "STOP: TOTAL NO. of ITERATIONS REACHED LIMIT.\n",
            "\n",
            "Increase the number of iterations (max_iter) or scale the data as shown in:\n",
            "    https://scikit-learn.org/stable/modules/preprocessing.html\n",
            "Please also refer to the documentation for alternative solver options:\n",
            "    https://scikit-learn.org/stable/modules/linear_model.html#logistic-regression\n",
            "  n_iter_i = _check_optimize_result(\n",
            "C:\\ProgramData\\Anaconda3\\lib\\site-packages\\sklearn\\linear_model\\_logistic.py:814: ConvergenceWarning: lbfgs failed to converge (status=1):\n",
            "STOP: TOTAL NO. of ITERATIONS REACHED LIMIT.\n",
            "\n",
            "Increase the number of iterations (max_iter) or scale the data as shown in:\n",
            "    https://scikit-learn.org/stable/modules/preprocessing.html\n",
            "Please also refer to the documentation for alternative solver options:\n",
            "    https://scikit-learn.org/stable/modules/linear_model.html#logistic-regression\n",
            "  n_iter_i = _check_optimize_result(\n",
            "C:\\ProgramData\\Anaconda3\\lib\\site-packages\\sklearn\\linear_model\\_logistic.py:814: ConvergenceWarning: lbfgs failed to converge (status=1):\n",
            "STOP: TOTAL NO. of ITERATIONS REACHED LIMIT.\n",
            "\n",
            "Increase the number of iterations (max_iter) or scale the data as shown in:\n",
            "    https://scikit-learn.org/stable/modules/preprocessing.html\n",
            "Please also refer to the documentation for alternative solver options:\n",
            "    https://scikit-learn.org/stable/modules/linear_model.html#logistic-regression\n",
            "  n_iter_i = _check_optimize_result(\n",
            "C:\\ProgramData\\Anaconda3\\lib\\site-packages\\sklearn\\linear_model\\_logistic.py:814: ConvergenceWarning: lbfgs failed to converge (status=1):\n",
            "STOP: TOTAL NO. of ITERATIONS REACHED LIMIT.\n",
            "\n",
            "Increase the number of iterations (max_iter) or scale the data as shown in:\n",
            "    https://scikit-learn.org/stable/modules/preprocessing.html\n",
            "Please also refer to the documentation for alternative solver options:\n",
            "    https://scikit-learn.org/stable/modules/linear_model.html#logistic-regression\n",
            "  n_iter_i = _check_optimize_result(\n",
            "C:\\ProgramData\\Anaconda3\\lib\\site-packages\\sklearn\\linear_model\\_logistic.py:814: ConvergenceWarning: lbfgs failed to converge (status=1):\n",
            "STOP: TOTAL NO. of ITERATIONS REACHED LIMIT.\n",
            "\n",
            "Increase the number of iterations (max_iter) or scale the data as shown in:\n",
            "    https://scikit-learn.org/stable/modules/preprocessing.html\n",
            "Please also refer to the documentation for alternative solver options:\n",
            "    https://scikit-learn.org/stable/modules/linear_model.html#logistic-regression\n",
            "  n_iter_i = _check_optimize_result(\n",
            "C:\\ProgramData\\Anaconda3\\lib\\site-packages\\sklearn\\linear_model\\_logistic.py:814: ConvergenceWarning: lbfgs failed to converge (status=1):\n",
            "STOP: TOTAL NO. of ITERATIONS REACHED LIMIT.\n",
            "\n",
            "Increase the number of iterations (max_iter) or scale the data as shown in:\n",
            "    https://scikit-learn.org/stable/modules/preprocessing.html\n",
            "Please also refer to the documentation for alternative solver options:\n",
            "    https://scikit-learn.org/stable/modules/linear_model.html#logistic-regression\n",
            "  n_iter_i = _check_optimize_result(\n",
            "C:\\ProgramData\\Anaconda3\\lib\\site-packages\\sklearn\\linear_model\\_logistic.py:814: ConvergenceWarning: lbfgs failed to converge (status=1):\n",
            "STOP: TOTAL NO. of ITERATIONS REACHED LIMIT.\n",
            "\n",
            "Increase the number of iterations (max_iter) or scale the data as shown in:\n",
            "    https://scikit-learn.org/stable/modules/preprocessing.html\n",
            "Please also refer to the documentation for alternative solver options:\n",
            "    https://scikit-learn.org/stable/modules/linear_model.html#logistic-regression\n",
            "  n_iter_i = _check_optimize_result(\n",
            "C:\\ProgramData\\Anaconda3\\lib\\site-packages\\sklearn\\linear_model\\_logistic.py:814: ConvergenceWarning: lbfgs failed to converge (status=1):\n",
            "STOP: TOTAL NO. of ITERATIONS REACHED LIMIT.\n",
            "\n",
            "Increase the number of iterations (max_iter) or scale the data as shown in:\n",
            "    https://scikit-learn.org/stable/modules/preprocessing.html\n",
            "Please also refer to the documentation for alternative solver options:\n",
            "    https://scikit-learn.org/stable/modules/linear_model.html#logistic-regression\n",
            "  n_iter_i = _check_optimize_result(\n",
            "C:\\ProgramData\\Anaconda3\\lib\\site-packages\\sklearn\\linear_model\\_logistic.py:814: ConvergenceWarning: lbfgs failed to converge (status=1):\n",
            "STOP: TOTAL NO. of ITERATIONS REACHED LIMIT.\n",
            "\n",
            "Increase the number of iterations (max_iter) or scale the data as shown in:\n",
            "    https://scikit-learn.org/stable/modules/preprocessing.html\n",
            "Please also refer to the documentation for alternative solver options:\n",
            "    https://scikit-learn.org/stable/modules/linear_model.html#logistic-regression\n",
            "  n_iter_i = _check_optimize_result(\n",
            "C:\\ProgramData\\Anaconda3\\lib\\site-packages\\sklearn\\linear_model\\_logistic.py:814: ConvergenceWarning: lbfgs failed to converge (status=1):\n",
            "STOP: TOTAL NO. of ITERATIONS REACHED LIMIT.\n",
            "\n",
            "Increase the number of iterations (max_iter) or scale the data as shown in:\n",
            "    https://scikit-learn.org/stable/modules/preprocessing.html\n",
            "Please also refer to the documentation for alternative solver options:\n",
            "    https://scikit-learn.org/stable/modules/linear_model.html#logistic-regression\n",
            "  n_iter_i = _check_optimize_result(\n",
            "C:\\ProgramData\\Anaconda3\\lib\\site-packages\\sklearn\\linear_model\\_logistic.py:814: ConvergenceWarning: lbfgs failed to converge (status=1):\n",
            "STOP: TOTAL NO. of ITERATIONS REACHED LIMIT.\n",
            "\n",
            "Increase the number of iterations (max_iter) or scale the data as shown in:\n",
            "    https://scikit-learn.org/stable/modules/preprocessing.html\n",
            "Please also refer to the documentation for alternative solver options:\n",
            "    https://scikit-learn.org/stable/modules/linear_model.html#logistic-regression\n",
            "  n_iter_i = _check_optimize_result(\n",
            "C:\\ProgramData\\Anaconda3\\lib\\site-packages\\sklearn\\linear_model\\_logistic.py:814: ConvergenceWarning: lbfgs failed to converge (status=1):\n",
            "STOP: TOTAL NO. of ITERATIONS REACHED LIMIT.\n",
            "\n",
            "Increase the number of iterations (max_iter) or scale the data as shown in:\n",
            "    https://scikit-learn.org/stable/modules/preprocessing.html\n",
            "Please also refer to the documentation for alternative solver options:\n",
            "    https://scikit-learn.org/stable/modules/linear_model.html#logistic-regression\n",
            "  n_iter_i = _check_optimize_result(\n",
            "C:\\ProgramData\\Anaconda3\\lib\\site-packages\\sklearn\\linear_model\\_logistic.py:814: ConvergenceWarning: lbfgs failed to converge (status=1):\n",
            "STOP: TOTAL NO. of ITERATIONS REACHED LIMIT.\n",
            "\n",
            "Increase the number of iterations (max_iter) or scale the data as shown in:\n",
            "    https://scikit-learn.org/stable/modules/preprocessing.html\n",
            "Please also refer to the documentation for alternative solver options:\n",
            "    https://scikit-learn.org/stable/modules/linear_model.html#logistic-regression\n",
            "  n_iter_i = _check_optimize_result(\n",
            "C:\\ProgramData\\Anaconda3\\lib\\site-packages\\sklearn\\linear_model\\_logistic.py:814: ConvergenceWarning: lbfgs failed to converge (status=1):\n",
            "STOP: TOTAL NO. of ITERATIONS REACHED LIMIT.\n",
            "\n",
            "Increase the number of iterations (max_iter) or scale the data as shown in:\n",
            "    https://scikit-learn.org/stable/modules/preprocessing.html\n",
            "Please also refer to the documentation for alternative solver options:\n",
            "    https://scikit-learn.org/stable/modules/linear_model.html#logistic-regression\n",
            "  n_iter_i = _check_optimize_result(\n",
            "C:\\ProgramData\\Anaconda3\\lib\\site-packages\\sklearn\\linear_model\\_logistic.py:814: ConvergenceWarning: lbfgs failed to converge (status=1):\n",
            "STOP: TOTAL NO. of ITERATIONS REACHED LIMIT.\n",
            "\n",
            "Increase the number of iterations (max_iter) or scale the data as shown in:\n",
            "    https://scikit-learn.org/stable/modules/preprocessing.html\n",
            "Please also refer to the documentation for alternative solver options:\n",
            "    https://scikit-learn.org/stable/modules/linear_model.html#logistic-regression\n",
            "  n_iter_i = _check_optimize_result(\n",
            "C:\\ProgramData\\Anaconda3\\lib\\site-packages\\sklearn\\linear_model\\_logistic.py:814: ConvergenceWarning: lbfgs failed to converge (status=1):\n",
            "STOP: TOTAL NO. of ITERATIONS REACHED LIMIT.\n",
            "\n",
            "Increase the number of iterations (max_iter) or scale the data as shown in:\n",
            "    https://scikit-learn.org/stable/modules/preprocessing.html\n",
            "Please also refer to the documentation for alternative solver options:\n",
            "    https://scikit-learn.org/stable/modules/linear_model.html#logistic-regression\n",
            "  n_iter_i = _check_optimize_result(\n",
            "C:\\ProgramData\\Anaconda3\\lib\\site-packages\\sklearn\\model_selection\\_validation.py:372: FitFailedWarning: \n",
            "50 fits failed out of a total of 145.\n",
            "The score on these train-test partitions for these parameters will be set to nan.\n",
            "If these failures are not expected, you can try to debug them by setting error_score='raise'.\n",
            "\n",
            "Below are more details about the failures:\n",
            "--------------------------------------------------------------------------------\n",
            "50 fits failed with the following error:\n",
            "Traceback (most recent call last):\n",
            "  File \"C:\\ProgramData\\Anaconda3\\lib\\site-packages\\sklearn\\model_selection\\_validation.py\", line 680, in _fit_and_score\n",
            "    estimator.fit(X_train, y_train, **fit_params)\n",
            "  File \"C:\\ProgramData\\Anaconda3\\lib\\site-packages\\sklearn\\pipeline.py\", line 394, in fit\n",
            "    self._final_estimator.fit(Xt, y, **fit_params_last_step)\n",
            "  File \"C:\\ProgramData\\Anaconda3\\lib\\site-packages\\sklearn\\linear_model\\_logistic.py\", line 1461, in fit\n",
            "    solver = _check_solver(self.solver, self.penalty, self.dual)\n",
            "  File \"C:\\ProgramData\\Anaconda3\\lib\\site-packages\\sklearn\\linear_model\\_logistic.py\", line 447, in _check_solver\n",
            "    raise ValueError(\n",
            "ValueError: Solver lbfgs supports only 'l2' or 'none' penalties, got l1 penalty.\n",
            "\n",
            "  warnings.warn(some_fits_failed_message, FitFailedWarning)\n",
            "C:\\ProgramData\\Anaconda3\\lib\\site-packages\\sklearn\\model_selection\\_search.py:969: UserWarning: One or more of the test scores are non-finite: [       nan 0.97333333        nan 0.97333333        nan 0.98\n",
            "        nan 0.98              nan 0.97333333        nan 0.97333333\n",
            "        nan 0.97333333        nan 0.97333333        nan 0.97333333\n",
            "        nan 0.97333333 0.95333333 0.96       0.95333333 0.95333333\n",
            " 0.96666667 0.96666667 0.96       0.96       0.96      ]\n",
            "  warnings.warn(\n",
            "C:\\ProgramData\\Anaconda3\\lib\\site-packages\\sklearn\\linear_model\\_logistic.py:814: ConvergenceWarning: lbfgs failed to converge (status=1):\n",
            "STOP: TOTAL NO. of ITERATIONS REACHED LIMIT.\n",
            "\n",
            "Increase the number of iterations (max_iter) or scale the data as shown in:\n",
            "    https://scikit-learn.org/stable/modules/preprocessing.html\n",
            "Please also refer to the documentation for alternative solver options:\n",
            "    https://scikit-learn.org/stable/modules/linear_model.html#logistic-regression\n",
            "  n_iter_i = _check_optimize_result(\n"
          ]
        },
        {
          "data": {
            "text/plain": [
              "LogisticRegression(C=7.742636826811269)"
            ]
          },
          "execution_count": 7,
          "metadata": {},
          "output_type": "execute_result"
        }
      ],
      "source": [
        "# Load libraries\n",
        "import numpy as np\n",
        "from sklearn import datasets\n",
        "from sklearn.linear_model import LogisticRegression\n",
        "from sklearn.ensemble import RandomForestClassifier\n",
        "from sklearn.model_selection import GridSearchCV\n",
        "from sklearn.pipeline import Pipeline\n",
        "# Set random seed\n",
        "np.random.seed(0)\n",
        "# Load data\n",
        "iris = datasets.load_iris()\n",
        "features = iris.data\n",
        "target = iris.target\n",
        "# Create a pipeline\n",
        "pipe = Pipeline([(\"classifier\", RandomForestClassifier())])\n",
        "# Create dictionary with candidate learning algorithms and their hyperparameters\n",
        "search_space = [{\"classifier\": [LogisticRegression()],\n",
        " \"classifier__penalty\": ['l1', 'l2'],\n",
        " \"classifier__C\": np.logspace(0, 4, 10)},\n",
        " {\"classifier\": [RandomForestClassifier()],\n",
        " \"classifier__n_estimators\": [10, 100, 1000],\n",
        " \"classifier__max_features\": [1, 2, 3]}]\n",
        "# Create grid search\n",
        "gridsearch = GridSearchCV(pipe, search_space, cv=5, verbose=0)\n",
        "# Fit grid search\n",
        "best_model = gridsearch.fit(features, target)\n",
        "# View best model\n",
        "best_model.best_estimator_.get_params()[\"classifier\"]\n",
        "# # Predict target vector\n",
        "# best_model.predict(features)"
      ]
    },
    {
      "cell_type": "code",
      "execution_count": null,
      "id": "684aff46-8b5c-4349-829c-c0a3c2198266",
      "metadata": {
        "id": "684aff46-8b5c-4349-829c-c0a3c2198266",
        "outputId": "a7bfd8ac-6545-4310-ea37-d6d077bce169"
      },
      "outputs": [
        {
          "data": {
            "text/plain": [
              "{'C': array([1.00000000e+00, 1.62377674e+00, 2.63665090e+00, 4.28133240e+00,\n",
              "        6.95192796e+00, 1.12883789e+01, 1.83298071e+01, 2.97635144e+01,\n",
              "        4.83293024e+01, 7.84759970e+01, 1.27427499e+02, 2.06913808e+02,\n",
              "        3.35981829e+02, 5.45559478e+02, 8.85866790e+02, 1.43844989e+03,\n",
              "        2.33572147e+03, 3.79269019e+03, 6.15848211e+03, 1.00000000e+04])}"
            ]
          },
          "execution_count": 10,
          "metadata": {},
          "output_type": "execute_result"
        }
      ],
      "source": [
        "# Load libraries\n",
        "import numpy as np\n",
        "from sklearn import linear_model, datasets\n",
        "from sklearn.model_selection import GridSearchCV, cross_val_score\n",
        "# Load data\n",
        "iris = datasets.load_iris()\n",
        "features = iris.data\n",
        "target = iris.target\n",
        "# Create logistic regression\n",
        "logistic = linear_model.LogisticRegression()\n",
        "# Create range of 20 candidate values for C\n",
        "C = np.logspace(0, 4, 20)\n",
        "# Create hyperparameter options\n",
        "hyperparameters = dict(C=C)\n",
        "# Create grid search\n",
        "hyperparameters"
      ]
    },
    {
      "cell_type": "code",
      "execution_count": null,
      "id": "32f980c3-faa4-43ba-aaa0-f83f4be6d1f4",
      "metadata": {
        "id": "32f980c3-faa4-43ba-aaa0-f83f4be6d1f4",
        "outputId": "00c13a30-d5bc-4db6-bc25-621d7b0111a7"
      },
      "outputs": [
        {
          "name": "stderr",
          "output_type": "stream",
          "text": [
            "C:\\ProgramData\\Anaconda3\\lib\\site-packages\\sklearn\\linear_model\\_logistic.py:814: ConvergenceWarning: lbfgs failed to converge (status=1):\n",
            "STOP: TOTAL NO. of ITERATIONS REACHED LIMIT.\n",
            "\n",
            "Increase the number of iterations (max_iter) or scale the data as shown in:\n",
            "    https://scikit-learn.org/stable/modules/preprocessing.html\n",
            "Please also refer to the documentation for alternative solver options:\n",
            "    https://scikit-learn.org/stable/modules/linear_model.html#logistic-regression\n",
            "  n_iter_i = _check_optimize_result(\n",
            "C:\\ProgramData\\Anaconda3\\lib\\site-packages\\sklearn\\linear_model\\_logistic.py:814: ConvergenceWarning: lbfgs failed to converge (status=1):\n",
            "STOP: TOTAL NO. of ITERATIONS REACHED LIMIT.\n",
            "\n",
            "Increase the number of iterations (max_iter) or scale the data as shown in:\n",
            "    https://scikit-learn.org/stable/modules/preprocessing.html\n",
            "Please also refer to the documentation for alternative solver options:\n",
            "    https://scikit-learn.org/stable/modules/linear_model.html#logistic-regression\n",
            "  n_iter_i = _check_optimize_result(\n",
            "C:\\ProgramData\\Anaconda3\\lib\\site-packages\\sklearn\\linear_model\\_logistic.py:814: ConvergenceWarning: lbfgs failed to converge (status=1):\n",
            "STOP: TOTAL NO. of ITERATIONS REACHED LIMIT.\n",
            "\n",
            "Increase the number of iterations (max_iter) or scale the data as shown in:\n",
            "    https://scikit-learn.org/stable/modules/preprocessing.html\n",
            "Please also refer to the documentation for alternative solver options:\n",
            "    https://scikit-learn.org/stable/modules/linear_model.html#logistic-regression\n",
            "  n_iter_i = _check_optimize_result(\n",
            "C:\\ProgramData\\Anaconda3\\lib\\site-packages\\sklearn\\linear_model\\_logistic.py:814: ConvergenceWarning: lbfgs failed to converge (status=1):\n",
            "STOP: TOTAL NO. of ITERATIONS REACHED LIMIT.\n",
            "\n",
            "Increase the number of iterations (max_iter) or scale the data as shown in:\n",
            "    https://scikit-learn.org/stable/modules/preprocessing.html\n",
            "Please also refer to the documentation for alternative solver options:\n",
            "    https://scikit-learn.org/stable/modules/linear_model.html#logistic-regression\n",
            "  n_iter_i = _check_optimize_result(\n",
            "C:\\ProgramData\\Anaconda3\\lib\\site-packages\\sklearn\\linear_model\\_logistic.py:814: ConvergenceWarning: lbfgs failed to converge (status=1):\n",
            "STOP: TOTAL NO. of ITERATIONS REACHED LIMIT.\n",
            "\n",
            "Increase the number of iterations (max_iter) or scale the data as shown in:\n",
            "    https://scikit-learn.org/stable/modules/preprocessing.html\n",
            "Please also refer to the documentation for alternative solver options:\n",
            "    https://scikit-learn.org/stable/modules/linear_model.html#logistic-regression\n",
            "  n_iter_i = _check_optimize_result(\n"
          ]
        },
        {
          "data": {
            "text/plain": [
              "0.9800000000000001"
            ]
          },
          "execution_count": 19,
          "metadata": {},
          "output_type": "execute_result"
        }
      ],
      "source": [
        "gridsearch = GridSearchCV(logistic, hyperparameters, cv=5, n_jobs=-1, verbose=0)\n",
        "# Conduct nested cross-validation and outut the average score\n",
        "cross_val_score(gridsearch, features, target).mean()"
      ]
    },
    {
      "cell_type": "code",
      "execution_count": null,
      "id": "6aebcd71-aaa8-4de0-8849-9a5944673d15",
      "metadata": {
        "id": "6aebcd71-aaa8-4de0-8849-9a5944673d15",
        "outputId": "0cf56abe-a75b-4366-8c5e-c25b99843e34"
      },
      "outputs": [
        {
          "data": {
            "text/plain": [
              "array([1, 1, 1, 1, 1, 1, 1, 1, 1, 1, 1, 1, 1, 1, 1, 1, 1, 1, 1, 1, 1, 1,\n",
              "       1, 1, 1, 1, 1, 1, 1, 1, 1, 1, 1, 1, 1, 1, 1, 1, 1, 1, 1, 1, 1, 1,\n",
              "       1, 1, 1, 1, 1, 1, 1, 1, 1, 1, 1, 1, 1, 1, 1, 1, 1, 1, 1, 1, 1, 1,\n",
              "       1, 1, 1, 1, 1, 1, 1, 1, 1, 1, 1, 1, 1, 1, 1, 1, 1, 1, 1, 1, 1, 1,\n",
              "       1, 1, 1, 1, 1, 1, 1, 1, 1, 1, 1, 1, 1, 1, 1, 1, 1, 1, 1, 1, 1, 1])"
            ]
          },
          "execution_count": 26,
          "metadata": {},
          "output_type": "execute_result"
        }
      ],
      "source": [
        "# Load libraries\n",
        "import numpy as np\n",
        "from sklearn.linear_model import LogisticRegression\n",
        "from sklearn import datasets\n",
        "from sklearn.preprocessing import StandardScaler\n",
        "# Load data\n",
        "iris = datasets.load_iris()\n",
        "features = iris.data\n",
        "target = iris.target\n",
        "# Make class highly imbalanced by removing first 40 observations\n",
        "features = features[40:,:]\n",
        "target = target[40:]\n",
        "# Create target vector indicating if class 0, otherwise 1\n",
        "target = np.where((target == 0), 0, 1)\n",
        "# Standardize features\n",
        "scaler = StandardScaler()\n",
        "features_standardized = scaler.fit_transform(features)\n",
        "# Create decision tree classifier object\n",
        "logistic_regression = LogisticRegression(random_state=0, class_weight=\"balanced\")\n",
        "# Train model\n",
        "model = logistic_regression.fit(features_standardized, target)\n",
        "model.predict(features)"
      ]
    },
    {
      "cell_type": "code",
      "execution_count": null,
      "id": "f3b29771-7bae-44e1-9cf3-5039f9597f0a",
      "metadata": {
        "id": "f3b29771-7bae-44e1-9cf3-5039f9597f0a",
        "outputId": "44970f20-08ec-450e-edb3-0362fed225b2"
      },
      "outputs": [
        {
          "data": {
            "text/plain": [
              "array([1, 1, 1, 1, 1, 1, 1, 1, 1, 1, 1, 1, 1, 1, 1, 1, 1, 1, 1, 1, 1, 1,\n",
              "       1, 2, 1, 1, 1, 1, 1, 1, 1, 1, 1, 1, 1, 1, 1, 1, 1, 1, 1, 1, 1, 2,\n",
              "       2, 1, 1, 1, 1, 1, 2, 2, 2, 2, 2, 2, 2, 2, 2, 2, 2, 2, 2, 2, 2, 2,\n",
              "       2, 2, 2, 2, 2, 2, 2, 2, 2, 2, 2, 2, 2, 2, 2, 2, 2, 2, 2, 2, 2, 2,\n",
              "       2, 2, 2, 2, 2, 2, 2, 2, 2, 2, 2, 2, 2, 2, 2, 2, 2, 2, 2, 2, 2, 2,\n",
              "       2, 2, 2, 2, 2, 2, 2, 2, 2, 2, 2, 2, 2, 2, 2, 2, 2, 2, 2, 2, 2, 2,\n",
              "       2, 2, 2, 2, 2, 2, 2, 2, 2, 2, 2, 2, 2, 2, 2, 2, 2, 2])"
            ]
          },
          "execution_count": 29,
          "metadata": {},
          "output_type": "execute_result"
        }
      ],
      "source": [
        "# Load libraries\n",
        "from sklearn.linear_model import LogisticRegression\n",
        "from sklearn import datasets\n",
        "from sklearn.preprocessing import StandardScaler\n",
        "# Load data\n",
        "iris = datasets.load_iris()\n",
        "features = iris.data\n",
        "target = iris.target\n",
        "# Standardize features\n",
        "scaler = StandardScaler()\n",
        "features_standardized = scaler.fit_transform(features)\n",
        "# Create logistic regression object\n",
        "logistic_regression = LogisticRegression(random_state=0, solver=\"sag\")\n",
        "# Train model\n",
        "model = logistic_regression.fit(features_standardized, target)\n",
        "model.predict(features)"
      ]
    },
    {
      "cell_type": "code",
      "execution_count": null,
      "id": "a0cedd00-66e3-47bf-a126-0d034c45ba1e",
      "metadata": {
        "id": "a0cedd00-66e3-47bf-a126-0d034c45ba1e"
      },
      "outputs": [],
      "source": []
    },
    {
      "cell_type": "code",
      "execution_count": null,
      "id": "bb3510c3-0dbb-4702-9513-930cedc7d01e",
      "metadata": {
        "id": "bb3510c3-0dbb-4702-9513-930cedc7d01e"
      },
      "outputs": [],
      "source": []
    },
    {
      "cell_type": "code",
      "execution_count": null,
      "id": "c48af53a-6dcc-4df6-b523-48fba0896a19",
      "metadata": {
        "id": "c48af53a-6dcc-4df6-b523-48fba0896a19"
      },
      "outputs": [],
      "source": []
    },
    {
      "cell_type": "code",
      "execution_count": null,
      "id": "867ce164-6529-4ac0-86c8-ba4de7150574",
      "metadata": {
        "id": "867ce164-6529-4ac0-86c8-ba4de7150574"
      },
      "outputs": [],
      "source": []
    },
    {
      "cell_type": "code",
      "execution_count": null,
      "id": "1f7b9d3f-81e5-4e1b-a2d9-954e0313ed39",
      "metadata": {
        "id": "1f7b9d3f-81e5-4e1b-a2d9-954e0313ed39"
      },
      "outputs": [],
      "source": []
    }
  ],
  "metadata": {
    "kernelspec": {
      "display_name": "Python 3 (ipykernel)",
      "language": "python",
      "name": "python3"
    },
    "language_info": {
      "codemirror_mode": {
        "name": "ipython",
        "version": 3
      },
      "file_extension": ".py",
      "mimetype": "text/x-python",
      "name": "python",
      "nbconvert_exporter": "python",
      "pygments_lexer": "ipython3",
      "version": "3.9.13"
    },
    "toc-autonumbering": false,
    "toc-showcode": true,
    "colab": {
      "provenance": [],
      "include_colab_link": true
    }
  },
  "nbformat": 4,
  "nbformat_minor": 5
}