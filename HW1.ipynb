{
  "nbformat": 4,
  "nbformat_minor": 0,
  "metadata": {
    "colab": {
      "provenance": [],
      "mount_file_id": "1aMryCXofh7SwDK53E-XewwE6-FCVgN4-",
      "authorship_tag": "ABX9TyNi0MbPhy/ZoFVTw2r5TgL5",
      "include_colab_link": true
    },
    "kernelspec": {
      "name": "python3",
      "display_name": "Python 3"
    },
    "language_info": {
      "name": "python"
    },
    "accelerator": "GPU",
    "gpuClass": "standard"
  },
  "cells": [
    {
      "cell_type": "markdown",
      "metadata": {
        "id": "view-in-github",
        "colab_type": "text"
      },
      "source": [
        "<a href=\"https://colab.research.google.com/github/Steel3264/AI/blob/main/HW1.ipynb\" target=\"_parent\"><img src=\"https://colab.research.google.com/assets/colab-badge.svg\" alt=\"Open In Colab\"/></a>"
      ]
    },
    {
      "cell_type": "code",
      "execution_count": 2,
      "metadata": {
        "colab": {
          "base_uri": "https://localhost:8080/",
          "height": 466
        },
        "id": "kqlFHrhrjUJ2",
        "outputId": "8044a796-139a-435b-b1e9-ae28059470bb"
      },
      "outputs": [
        {
          "output_type": "display_data",
          "data": {
            "text/plain": [
              "<Figure size 640x480 with 1 Axes>"
            ],
            "image/png": "[encoded data removed]"
          },
          "metadata": {}
        },
        {
          "output_type": "stream",
          "name": "stdout",
          "text": [
            "(80, 120, 120, 3)\n",
            "(1, 120, 120, 3)\n"
          ]
        }
      ],
      "source": [
        "from PIL import Image\n",
        "import matplotlib.pyplot as plt\n",
        "from keras.utils import to_categorical\n",
        "from matplotlib.image import imread\n",
        "from os import listdir\n",
        "from numpy import asarray\n",
        "from keras.utils.image_utils import load_img\n",
        "from keras.utils.image_dataset import load_image\n",
        "from os import listdir\n",
        "from numpy import asarray\n",
        "from numpy import save\n",
        "from keras.utils import load_img, img_to_array\n",
        "folder = '/content/drive/MyDrive/VT/'\n",
        "photos, labels = list(), list()\n",
        "for file in listdir(folder):\n",
        "  output = 0.0\n",
        "  if file.startswith('Long live'):\n",
        "      output = 1 \n",
        "  if file.startswith('liar'):\n",
        "      output = 2\n",
        "  if file.startswith('lucky'):\n",
        "      output = 3\n",
        "  if file.startswith('person with 2 marriages'):\n",
        "      output = 4\n",
        "  if file.startswith('poor'):\n",
        "      output = 5\n",
        "  if file.startswith('rich'):\n",
        "      output = 6\n",
        "  if file.startswith('successful person'):\n",
        "      output = 7\n",
        "  if file.startswith('unlucky'):\n",
        "      output = 8\n",
        "  img = load_img(folder + file,target_size=(120,120))\n",
        "  photo = img_to_array(img)\n",
        "  photos.append(photo)\n",
        "  labels.append(output)\n",
        "photos = asarray(photos)\n",
        "labels = asarray(labels)\n",
        "    \n",
        "x_train = photos.reshape(80, 120,120,3)\n",
        "x_train = photos.astype('float32')/255\n",
        "y_train = to_categorical(labels,10)\n",
        "\n",
        "imgtest = plt.imread('/content/drive/MyDrive/VT/unlucky(10).jpg')\n",
        "plt.imshow(imgtest)\n",
        "plt.show()\n",
        "imgt = load_img('/content/drive/MyDrive/VT/unlucky(10).jpg',target_size=(120,120))\n",
        "phototest = img_to_array(imgt)\n",
        "x_test = phototest.reshape(1, 120,120,3)\n",
        "x_test = x_test.astype('float32')/255\n",
        "print(x_train.shape)\n",
        "print(x_test.shape)"
      ]
    },
    {
      "cell_type": "code",
      "source": [
        "from keras.models import Sequential,Model\n",
        "from keras.layers import Dense,Flatten,Conv2D,MaxPooling2D,Normalization,LeakyReLU\n",
        "from keras.optimizers import Adam\n",
        "\n",
        "model=Sequential()\n",
        "#1\n",
        "model.add(Conv2D(32, kernel_size=(3,3), activation='linear',\n",
        "                 input_shape=(120,120,3), padding='same'))\n",
        "model.add(LeakyReLU(alpha=0.1))\n",
        "model.add(MaxPooling2D((2,2), padding='same'))\n",
        "\n",
        "#2\n",
        "model.add(Conv2D(64,(3,3), activation='linear', padding='same'))\n",
        "model.add(LeakyReLU(alpha=0.1))\n",
        "model.add(MaxPooling2D((2,2), padding='same'))\n",
        "model.add(Conv2D(128,(3,3), activation='linear', padding='same'))\n",
        "model.add(LeakyReLU(alpha=0.1))\n",
        "model.add(MaxPooling2D((2,2), padding='same'))\n",
        "#CNN\n",
        "model.add(Flatten())\n",
        "model.add(Dense(128, activation='linear'))\n",
        "model.add(LeakyReLU(alpha=0.1))\n",
        "model.add(Dense(10, activation='softmax'))\n",
        "model.summary()\n",
        "\n",
        "from keras.losses import categorical_crossentropy\n",
        "model.compile(loss=categorical_crossentropy,\n",
        "              optimizer=Adam(),\n",
        "              metrics=['accuracy'])\n",
        "train = model.fit(x_train,y_train,batch_size=64,epochs=20, verbose=1)"
      ],
      "metadata": {
        "colab": {
          "base_uri": "https://localhost:8080/"
        },
        "id": "xDgbM3HfzPMn",
        "outputId": "2734e71d-c200-4b41-a9a0-cb7f156c9fc9"
      },
      "execution_count": 3,
      "outputs": [
        {
          "output_type": "stream",
          "name": "stdout",
          "text": [
            "Model: \"sequential_1\"\n",
            "_________________________________________________________________\n",
            " Layer (type)                Output Shape              Param #   \n",
            "=================================================================\n",
            " conv2d_3 (Conv2D)           (None, 120, 120, 32)      896       \n",
            "                                                                 \n",
            " leaky_re_lu_4 (LeakyReLU)   (None, 120, 120, 32)      0         \n",
            "                                                                 \n",
            " max_pooling2d_3 (MaxPooling  (None, 60, 60, 32)       0         \n",
            " 2D)                                                             \n",
            "                                                                 \n",
            " conv2d_4 (Conv2D)           (None, 60, 60, 64)        18496     \n",
            "                                                                 \n",
            " leaky_re_lu_5 (LeakyReLU)   (None, 60, 60, 64)        0         \n",
            "                                                                 \n",
            " max_pooling2d_4 (MaxPooling  (None, 30, 30, 64)       0         \n",
            " 2D)                                                             \n",
            "                                                                 \n",
            " conv2d_5 (Conv2D)           (None, 30, 30, 128)       73856     \n",
            "                                                                 \n",
            " leaky_re_lu_6 (LeakyReLU)   (None, 30, 30, 128)       0         \n",
            "                                                                 \n",
            " max_pooling2d_5 (MaxPooling  (None, 15, 15, 128)      0         \n",
            " 2D)                                                             \n",
            "                                                                 \n",
            " flatten_1 (Flatten)         (None, 28800)             0         \n",
            "                                                                 \n",
            " dense_2 (Dense)             (None, 128)               3686528   \n",
            "                                                                 \n",
            " leaky_re_lu_7 (LeakyReLU)   (None, 128)               0         \n",
            "                                                                 \n",
            " dense_3 (Dense)             (None, 10)                1290      \n",
            "                                                                 \n",
            "=================================================================\n",
            "Total params: 3,781,066\n",
            "Trainable params: 3,781,066\n",
            "Non-trainable params: 0\n",
            "_________________________________________________________________\n",
            "Epoch 1/20\n",
            "2/2 [==============================] - 10s 267ms/step - loss: 2.4482 - accuracy: 0.0750\n",
            "Epoch 2/20\n",
            "2/2 [==============================] - 0s 18ms/step - loss: 2.1080 - accuracy: 0.1125\n",
            "Epoch 3/20\n",
            "2/2 [==============================] - 0s 20ms/step - loss: 2.1502 - accuracy: 0.2625\n",
            "Epoch 4/20\n",
            "2/2 [==============================] - 0s 17ms/step - loss: 2.0058 - accuracy: 0.3750\n",
            "Epoch 5/20\n",
            "2/2 [==============================] - 0s 14ms/step - loss: 1.8704 - accuracy: 0.4125\n",
            "Epoch 6/20\n",
            "2/2 [==============================] - 0s 14ms/step - loss: 1.6411 - accuracy: 0.4250\n",
            "Epoch 7/20\n",
            "2/2 [==============================] - 0s 16ms/step - loss: 1.3288 - accuracy: 0.6125\n",
            "Epoch 8/20\n",
            "2/2 [==============================] - 0s 16ms/step - loss: 1.0763 - accuracy: 0.6250\n",
            "Epoch 9/20\n",
            "2/2 [==============================] - 0s 17ms/step - loss: 1.0357 - accuracy: 0.6375\n",
            "Epoch 10/20\n",
            "2/2 [==============================] - 0s 17ms/step - loss: 1.0320 - accuracy: 0.6375\n",
            "Epoch 11/20\n",
            "2/2 [==============================] - 0s 15ms/step - loss: 0.7597 - accuracy: 0.7250\n",
            "Epoch 12/20\n",
            "2/2 [==============================] - 0s 15ms/step - loss: 0.7781 - accuracy: 0.7000\n",
            "Epoch 13/20\n",
            "2/2 [==============================] - 0s 16ms/step - loss: 0.6689 - accuracy: 0.7750\n",
            "Epoch 14/20\n",
            "2/2 [==============================] - 0s 16ms/step - loss: 0.6273 - accuracy: 0.8375\n",
            "Epoch 15/20\n",
            "2/2 [==============================] - 0s 16ms/step - loss: 0.5422 - accuracy: 0.8000\n",
            "Epoch 16/20\n",
            "2/2 [==============================] - 0s 14ms/step - loss: 0.4045 - accuracy: 0.8500\n",
            "Epoch 17/20\n",
            "2/2 [==============================] - 0s 15ms/step - loss: 0.2945 - accuracy: 0.9000\n",
            "Epoch 18/20\n",
            "2/2 [==============================] - 0s 16ms/step - loss: 0.2426 - accuracy: 0.9125\n",
            "Epoch 19/20\n",
            "2/2 [==============================] - 0s 18ms/step - loss: 0.1722 - accuracy: 0.9125\n",
            "Epoch 20/20\n",
            "2/2 [==============================] - 0s 15ms/step - loss: 0.1494 - accuracy: 0.9500\n"
          ]
        }
      ]
    },
    {
      "cell_type": "code",
      "source": [
        "import pandas as pd\n",
        "url = 'person with 2 marriages(3).jpg'\n",
        "img = plt.imread(url)\n",
        "plt.imshow(img)\n",
        "plt.show()"
      ],
      "metadata": {
        "colab": {
          "base_uri": "https://localhost:8080/",
          "height": 431
        },
        "id": "mWlRXS4NzPKj",
        "outputId": "63647eb4-1567-4a11-cf62-bdb59969d57f"
      },
      "execution_count": 4,
      "outputs": [
        {
          "output_type": "display_data",
          "data": {
            "text/plain": [
              "<Figure size 640x480 with 1 Axes>"
            ],
            "image/png": "[encoded data removed]"
          },
          "metadata": {}
        }
      ]
    },
    {
      "cell_type": "code",
      "source": [
        "from keras.utils import load_img, img_to_array\n",
        "import numpy as np\n",
        "img = load_img(url, target_size = (120,120))\n",
        "plt.imshow(img)\n",
        "img = img_to_array(img)\n",
        "img = img.reshape(1, 120,120,3)\n",
        "img = img.astype('float32')\n",
        "img = img/255\n",
        "np.argmax(model.predict(img), axis = -1)"
      ],
      "metadata": {
        "colab": {
          "base_uri": "https://localhost:8080/",
          "height": 469
        },
        "id": "xmotDnNWzPIb",
        "outputId": "d765a51d-bfbc-46c4-b92d-bf6b796f37d6"
      },
      "execution_count": 5,
      "outputs": [
        {
          "output_type": "stream",
          "name": "stdout",
          "text": [
            "1/1 [==============================] - 0s 344ms/step\n"
          ]
        },
        {
          "output_type": "execute_result",
          "data": {
            "text/plain": [
              "array([4])"
            ]
          },
          "metadata": {},
          "execution_count": 5
        },
        {
          "output_type": "display_data",
          "data": {
            "text/plain": [
              "<Figure size 640x480 with 1 Axes>"
            ],
            "image/png": "[encoded data removed]"
          },
          "metadata": {}
        }
      ]
    },
    {
      "cell_type": "code",
      "source": [],
      "metadata": {
        "id": "wHEVLMF3zPD3"
      },
      "execution_count": 3,
      "outputs": []
    }
  ]
}