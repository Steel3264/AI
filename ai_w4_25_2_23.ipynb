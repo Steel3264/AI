{
  "nbformat": 4,
  "nbformat_minor": 0,
  "metadata": {
    "colab": {
      "provenance": [],
      "authorship_tag": "ABX9TyM6VQSWoDUFCWTWejXT2J6y",
      "include_colab_link": true
    },
    "kernelspec": {
      "name": "python3",
      "display_name": "Python 3"
    },
    "language_info": {
      "name": "python"
    }
  },
  "cells": [
    {
      "cell_type": "markdown",
      "metadata": {
        "id": "view-in-github",
        "colab_type": "text"
      },
      "source": [
        "<a href=\"https://colab.research.google.com/github/Steel3264/TranVanDanh/blob/main/ai_w4_25_2_23.ipynb\" target=\"_parent\"><img src=\"https://colab.research.google.com/assets/colab-badge.svg\" alt=\"Open In Colab\"/></a>"
      ]
    },
    {
      "cell_type": "code",
      "execution_count": null,
      "metadata": {
        "id": "xZxWZlT9F0o6",
        "colab": {
          "base_uri": "https://localhost:8080/"
        },
        "outputId": "3b45d37c-e18c-4b7c-8aae-2339cc24d077"
      },
      "outputs": [
        {
          "output_type": "stream",
          "name": "stdout",
          "text": [
            "Looking in indexes: https://pypi.org/simple, https://us-python.pkg.dev/colab-wheels/public/simple/\n",
            "Collecting scikit-fuzzy\n",
            "  Downloading scikit-fuzzy-0.4.2.tar.gz (993 kB)\n",
            "\u001b[2K     \u001b[90m━━━━━━━━━━━━━━━━━━━━━━━━━━━━━━━━━━━━━━\u001b[0m \u001b[32m994.0/994.0 KB\u001b[0m \u001b[31m11.4 MB/s\u001b[0m eta \u001b[36m0:00:00\u001b[0m\n",
            "\u001b[?25h  Preparing metadata (setup.py) ... \u001b[?25l\u001b[?25hdone\n",
            "Requirement already satisfied: numpy>=1.6.0 in /usr/local/lib/python3.8/dist-packages (from scikit-fuzzy) (1.22.4)\n",
            "Requirement already satisfied: scipy>=0.9.0 in /usr/local/lib/python3.8/dist-packages (from scikit-fuzzy) (1.7.3)\n",
            "Requirement already satisfied: networkx>=1.9.0 in /usr/local/lib/python3.8/dist-packages (from scikit-fuzzy) (3.0)\n",
            "Building wheels for collected packages: scikit-fuzzy\n",
            "  Building wheel for scikit-fuzzy (setup.py) ... \u001b[?25l\u001b[?25hdone\n",
            "  Created wheel for scikit-fuzzy: filename=scikit_fuzzy-0.4.2-py3-none-any.whl size=894088 sha256=2cd458e004528dbb96af5b9585d9a87dedbd492aaa113ca53f73fde370b1164f\n",
            "  Stored in directory: /root/.cache/pip/wheels/2c/04/80/7eefb1a2de7d36aefd06432fab2a1486caf0a0596a7067391a\n",
            "Successfully built scikit-fuzzy\n",
            "Installing collected packages: scikit-fuzzy\n",
            "Successfully installed scikit-fuzzy-0.4.2\n"
          ]
        }
      ],
      "source": [
        "pip install scikit-fuzzy"
      ]
    },
    {
      "cell_type": "code",
      "source": [
        "import numpy as np\n",
        "import skfuzzy as fuzz\n",
        "import matplotlib.pyplot as plt\n",
        "from skfuzzy import control as ctrl\n",
        "x = np.arange(50,120,1)\n",
        "slow = fuzz.trimf(x,[50,50,60])\n",
        "plt.figure()\n",
        "plt.plot(x, slow, '.', linewidth = 1.5, label = 'slow')\n",
        "medium = fuzz.trimf(x,[50,60,70])\n",
        "plt.plot(x, medium, '.', linewidth = 1.5, label = 'medium')\n",
        "medium_fast = fuzz.trimf(x,[60,70,80])\n",
        "plt.plot(x, medium_fast, '.', linewidth = 1.5, label = 'medium_fast')\n",
        "full_speed = fuzz.trimf(x,[70, 80,80])\n",
        "plt.plot(x, full_speed, '.', linewidth = 1.5, label = 'full_speed')\n",
        "\n"
      ],
      "metadata": {
        "colab": {
          "base_uri": "https://localhost:8080/",
          "height": 282
        },
        "id": "B8biGgTvSega",
        "outputId": "fb7aa549-6744-42c7-ed4b-738ee19ee6f3"
      },
      "execution_count": null,
      "outputs": [
        {
          "output_type": "execute_result",
          "data": {
            "text/plain": [
              "[<matplotlib.lines.Line2D at 0x7f924dda4610>]"
            ]
          },
          "metadata": {},
          "execution_count": 41
        },
        {
          "output_type": "display_data",
          "data": {
            "text/plain": [
              "<Figure size 432x288 with 1 Axes>"
            ],
            "image/png": "[encoded data removed]"
          },
          "metadata": {
            "needs_background": "light"
          }
        }
      ]
    },
    {
      "cell_type": "code",
      "source": [
        "slow = fuzz.trapmf(x,[50,60,70,80])\n",
        "plt.plot(x, slow, '.', linewidth = 1.5, label = 'slow')\n",
        "medium = fuzz.trapmf(x,[60,70,80,90])\n",
        "plt.plot(x, medium, '.', linewidth = 1.5, label = 'medium')\n",
        "medium_fast = fuzz.trapmf(x,[70,80,90,100])\n",
        "plt.plot(x, medium_fast, '.', linewidth = 1.5, label = 'medium_fast')\n",
        "full_speed = fuzz.trapmf(x,[80, 90,100,110])\n",
        "plt.plot(x, full_speed, '.', linewidth = 1.5, label = 'full_speed')"
      ],
      "metadata": {
        "colab": {
          "base_uri": "https://localhost:8080/",
          "height": 282
        },
        "id": "f_aGalisXiP7",
        "outputId": "176c412d-d7b1-4449-ecf2-cd711eb4579b"
      },
      "execution_count": null,
      "outputs": [
        {
          "output_type": "execute_result",
          "data": {
            "text/plain": [
              "[<matplotlib.lines.Line2D at 0x7f924e0ad3a0>]"
            ]
          },
          "metadata": {},
          "execution_count": 40
        },
        {
          "output_type": "display_data",
          "data": {
            "text/plain": [
              "<Figure size 432x288 with 1 Axes>"
            ],
            "image/png": "[encoded data removed]"
          },
          "metadata": {
            "needs_background": "light"
          }
        }
      ]
    },
    {
      "cell_type": "code",
      "source": [
        "food = ctrl.Antecedent(np.arange(0,11,1), 'food')\n",
        "service = ctrl.Antecedent(np.arange(0,11,1), 'service')\n",
        "tip = ctrl.Consequent(np.arange(10,31,1), 'tip')\n",
        "\n",
        "food['poor'] = fuzz.trimf(food.universe, [0,0,5])\n",
        "food['average'] = fuzz.trimf(food.universe, [0,5,10])\n",
        "food['good'] = fuzz.trimf(food.universe, [5,10,10])\n",
        "service['poor'] = fuzz.trimf(service.universe, [0,0,5])\n",
        "service['average'] = fuzz.trimf(service.universe, [0,5,10])\n",
        "service['good'] = fuzz.trimf(service.universe, [5,10,10])\n",
        "tip['less'] = fuzz.trimf(tip.universe, [0,0,5])\n",
        "tip['medium'] = fuzz.trimf(tip.universe, [0,5,10])\n",
        "tip['much'] = fuzz.trimf(tip.universe, [5,10,10])\n",
        "\n",
        "# food.view()\n",
        "# service.view()\n",
        "# tip.view()\n",
        "# service['average'].view()\n",
        "\n",
        "rule1 = ctrl.Rule(food['poor'] & service['poor'],tip['less'])\n",
        "rule2 = ctrl.Rule(food['poor'] & service['average'],tip['less'])\n",
        "rule3 = ctrl.Rule(food['poor'] & service['good'],tip['medium'])\n",
        "rule4 = ctrl.Rule(food['average'] & service['poor'],tip['less'])\n",
        "rule5 = ctrl.Rule(food['average'] & service['average'],tip['medium'])\n",
        "rule6 = ctrl.Rule(food['average'] & service['good'],tip['much'])\n",
        "rule7 = ctrl.Rule(food['good'] & service['poor'],tip['medium'])\n",
        "rule8 = ctrl.Rule(food['good'] & service['average'],tip['medium'])\n",
        "rule9 = ctrl.Rule(food['good'] & service['good'],tip['much'])\n",
        "\n",
        "tipping_ctrl = ctrl.ControlSystem([rule1,rule2,rule3,rule4,rule5,rule6,rule7,rule8,rule9])\n",
        "tipping = ctrl.ControlSystemSimulation(tipping_ctrl)\n",
        "\n",
        "tipping.input['food'] = 6.8\n",
        "tipping.input['service'] = 9.8\n",
        "tipping.compute()\n",
        "print(tipping.output['tip'])\n",
        "tip.view(sim = tipping)"
      ],
      "metadata": {
        "colab": {
          "base_uri": "https://localhost:8080/",
          "height": 298
        },
        "id": "eGP4SIlcc4xH",
        "outputId": "e3b56604-40ad-4eb2-9ae5-1f25e16f8579"
      },
      "execution_count": null,
      "outputs": [
        {
          "output_type": "stream",
          "name": "stdout",
          "text": [
            "10.365098039215686\n"
          ]
        },
        {
          "output_type": "display_data",
          "data": {
            "text/plain": [
              "<Figure size 432x288 with 1 Axes>"
            ],
            "image/png": "[encoded data removed]"
          },
          "metadata": {
            "needs_background": "light"
          }
        }
      ]
    }
  ]
}