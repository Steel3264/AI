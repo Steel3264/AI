{
  "nbformat": 4,
  "nbformat_minor": 0,
  "metadata": {
    "colab": {
      "provenance": [],
      "mount_file_id": "1p6PulEE3ShZB9a1a9n-CUTOmOLlnKOL_",
      "authorship_tag": "ABX9TyNrra7vHgf5pkPRcNFpqQRP",
      "include_colab_link": true
    },
    "kernelspec": {
      "name": "python3",
      "display_name": "Python 3"
    },
    "language_info": {
      "name": "python"
    }
  },
  "cells": [
    {
      "cell_type": "markdown",
      "metadata": {
        "id": "view-in-github",
        "colab_type": "text"
      },
      "source": [
        "<a href=\"https://colab.research.google.com/github/Steel3264/AI/blob/main/AI_W14_5_5_23.ipynb\" target=\"_parent\"><img src=\"https://colab.research.google.com/assets/colab-badge.svg\" alt=\"Open In Colab\"/></a>"
      ]
    },
    {
      "cell_type": "code",
      "execution_count": null,
      "metadata": {
        "colab": {
          "base_uri": "https://localhost:8080/"
        },
        "id": "sYp3NO_YPlWm",
        "outputId": "5cf5be02-f54b-40a9-c834-5627ccb6648c"
      },
      "outputs": [
        {
          "output_type": "stream",
          "name": "stdout",
          "text": [
            "Looking in indexes: https://pypi.org/simple, https://us-python.pkg.dev/colab-wheels/public/simple/\n",
            "Collecting speechRecognition\n",
            "  Downloading SpeechRecognition-3.10.0-py2.py3-none-any.whl (32.8 MB)\n",
            "\u001b[2K     \u001b[90m━━━━━━━━━━━━━━━━━━━━━━━━━━━━━━━━━━━━━━━━\u001b[0m \u001b[32m32.8/32.8 MB\u001b[0m \u001b[31m14.9 MB/s\u001b[0m eta \u001b[36m0:00:00\u001b[0m\n",
            "\u001b[?25hCollecting pydub\n",
            "  Downloading pydub-0.25.1-py2.py3-none-any.whl (32 kB)\n",
            "Requirement already satisfied: requests>=2.26.0 in /usr/local/lib/python3.10/dist-packages (from speechRecognition) (2.27.1)\n",
            "Requirement already satisfied: certifi>=2017.4.17 in /usr/local/lib/python3.10/dist-packages (from requests>=2.26.0->speechRecognition) (2022.12.7)\n",
            "Requirement already satisfied: urllib3<1.27,>=1.21.1 in /usr/local/lib/python3.10/dist-packages (from requests>=2.26.0->speechRecognition) (1.26.15)\n",
            "Requirement already satisfied: idna<4,>=2.5 in /usr/local/lib/python3.10/dist-packages (from requests>=2.26.0->speechRecognition) (3.4)\n",
            "Requirement already satisfied: charset-normalizer~=2.0.0 in /usr/local/lib/python3.10/dist-packages (from requests>=2.26.0->speechRecognition) (2.0.12)\n",
            "Installing collected packages: pydub, speechRecognition\n",
            "Successfully installed pydub-0.25.1 speechRecognition-3.10.0\n"
          ]
        }
      ],
      "source": [
        "pip install speechRecognition pydub \n"
      ]
    },
    {
      "cell_type": "code",
      "source": [
        "file = '/content/drive/MyDrive/cn.wav'\n",
        "import speech_recognition as sr \n",
        "r = sr.Recognizer()\n",
        "with sr.AudioFile(file) as source:\n",
        "  data = r.record(source)\n",
        "  text = r.recognize_google(data,language = 'zh')\n",
        "print(text)"
      ],
      "metadata": {
        "colab": {
          "base_uri": "https://localhost:8080/"
        },
        "id": "pEqna39WP576",
        "outputId": "b7a6c20b-765d-4c2a-ec1b-72dfffa46efd"
      },
      "execution_count": null,
      "outputs": [
        {
          "output_type": "stream",
          "name": "stdout",
          "text": [
            "珠晖区\n"
          ]
        }
      ]
    },
    {
      "cell_type": "code",
      "source": [
        "file = '/content/drive/MyDrive/korea.wav'\n",
        "import speech_recognition as sr \n",
        "r = sr.Recognizer()\n",
        "with sr.AudioFile(file) as source:\n",
        "  data1 = r.record(source, offset =10 ,  duration = 90)\n",
        "  text = r.recognize_google(data1, language = 'ko')\n",
        "print(text)"
      ],
      "metadata": {
        "id": "IG0hp88bRHIR",
        "colab": {
          "base_uri": "https://localhost:8080/"
        },
        "outputId": "1d87a3e2-edca-4d3f-f328-fc94dd2f6ee2"
      },
      "execution_count": null,
      "outputs": [
        {
          "output_type": "stream",
          "name": "stdout",
          "text": [
            "글씨 없이 없이 들어주던 늘 곁에 고맙고 미안한 마음 사랑이 날 떠날 땐 내역에 드리면 시작 한달 나도 가끔 서운 개도이 세상 너와 나 믿지 않는\n"
          ]
        }
      ]
    },
    {
      "cell_type": "code",
      "source": [
        "file = '/content/drive/MyDrive/Concobebe.wav'\n",
        "import speech_recognition as sr \n",
        "r = sr.Recognizer()\n",
        "with sr.AudioFile(file) as source:\n",
        "  data1 = r.record(source, offset =10 ,  duration = 100)\n",
        "  text = r.recognize_google(data1, language = 'vi')\n",
        "print(text)"
      ],
      "metadata": {
        "id": "M7e0q5jDUtT4",
        "colab": {
          "base_uri": "https://localhost:8080/"
        },
        "outputId": "48782db8-12b2-47a6-f0af-f5fde05e472f"
      },
      "execution_count": null,
      "outputs": [
        {
          "output_type": "stream",
          "name": "stdout",
          "text": [
            "Con cò bé bé Con cò bé bé nó đậu cành tre Em chào chị chúng có em không\n"
          ]
        }
      ]
    },
    {
      "cell_type": "code",
      "source": [
        "file = '/content/drive/MyDrive/катюша.wav'\n",
        "import speech_recognition as sr \n",
        "r = sr.Recognizer()\n",
        "with sr.AudioFile(file) as source:\n",
        "  data1 = r.record(source, offset =5 ,  duration = 120)\n",
        "  text = r.recognize_google(data1, language = 'ru')\n",
        "print(text)"
      ],
      "metadata": {
        "colab": {
          "base_uri": "https://localhost:8080/"
        },
        "id": "GtaP89WeYGHZ",
        "outputId": "443b6009-9949-438d-f94e-df52f6c099fe"
      },
      "execution_count": null,
      "outputs": [
        {
          "output_type": "stream",
          "name": "stdout",
          "text": [
            "Расцветали яблони и груши поплыли туманы над рекой\n"
          ]
        }
      ]
    },
    {
      "cell_type": "code",
      "source": [
        "file = '/content/drive/MyDrive/Ed Sheeran - Shape of You (Official Music Video).wav'\n",
        "import speech_recognition as sr \n",
        "r = sr.Recognizer()\n",
        "with sr.AudioFile(file) as source:\n",
        "  data1 = r.record(source, offset =10 ,  duration = 90)\n",
        "  text = r.recognize_google(data1, language = 'en')\n",
        "print(text)"
      ],
      "metadata": {
        "colab": {
          "base_uri": "https://localhost:8080/"
        },
        "id": "J1fH0hFHZq1b",
        "outputId": "b7e865b0-dbee-4201-a168-2eb65691af0e"
      },
      "execution_count": null,
      "outputs": [
        {
          "output_type": "stream",
          "name": "stdout",
          "text": [
            "best place to find a lover to the bar is where I go\n"
          ]
        }
      ]
    },
    {
      "cell_type": "code",
      "source": [
        "pip install gTTS"
      ],
      "metadata": {
        "colab": {
          "base_uri": "https://localhost:8080/"
        },
        "id": "_jYFuZXGb6jN",
        "outputId": "8ce0af15-40d0-4c5e-dcf6-4bea96977969"
      },
      "execution_count": null,
      "outputs": [
        {
          "output_type": "stream",
          "name": "stdout",
          "text": [
            "Looking in indexes: https://pypi.org/simple, https://us-python.pkg.dev/colab-wheels/public/simple/\n",
            "Collecting gTTS\n",
            "  Downloading gTTS-2.3.2-py3-none-any.whl (28 kB)\n",
            "Requirement already satisfied: click<8.2,>=7.1 in /usr/local/lib/python3.10/dist-packages (from gTTS) (8.1.3)\n",
            "Requirement already satisfied: requests<3,>=2.27 in /usr/local/lib/python3.10/dist-packages (from gTTS) (2.27.1)\n",
            "Requirement already satisfied: charset-normalizer~=2.0.0 in /usr/local/lib/python3.10/dist-packages (from requests<3,>=2.27->gTTS) (2.0.12)\n",
            "Requirement already satisfied: certifi>=2017.4.17 in /usr/local/lib/python3.10/dist-packages (from requests<3,>=2.27->gTTS) (2022.12.7)\n",
            "Requirement already satisfied: idna<4,>=2.5 in /usr/local/lib/python3.10/dist-packages (from requests<3,>=2.27->gTTS) (3.4)\n",
            "Requirement already satisfied: urllib3<1.27,>=1.21.1 in /usr/local/lib/python3.10/dist-packages (from requests<3,>=2.27->gTTS) (1.26.15)\n",
            "Installing collected packages: gTTS\n",
            "Successfully installed gTTS-2.3.2\n"
          ]
        }
      ]
    },
    {
      "cell_type": "code",
      "source": [
        "from gtts import gTTS\n",
        "import os \n",
        "A =   'Quê hương anh nước mặn, đồng chua.\\\n",
        "Làng tôi nghèo đất cày lên sỏi đá.\\\n",
        "Anh với tôi đôi người xa lạ.\\\n",
        "Tự phương trời chẳng hẹn quen nhau.\\\n",
        "Súng bên súng, đầu sát bên đầu.\\\n",
        "Đêm rét chung chăn thành đôi tri kỷ.\\\n",
        "Đồng chí!.\\\n",
        "Ruộng nương anh gửi bạn thân cày.\\\n",
        "Gian nhà không mặc kệ gió lung lay.\\\n",
        "Giếng nước gốc đa nhớ người ra lính.\\\n",
        "Anh với tôi biết từng cơn ớn lạnh,.\\\n",
        "Sốt run người, vừng trán ướt mồ hôi.\\\n",
        "Áo anh rách vai.\\\n",
        "Quần tôi có vài mảnh vá.\\\n",
        "Miệng cười buốt giá.\\\n",
        "Chân không giày.\\\n",
        "Thương nhau tay nắm lấy bàn tay!.\\\n",
        "Đêm nay rừng hoang sương muối.\\\n",
        "Đứng cạnh bên nhau chờ giặc tới.\\\n",
        "Đầu súng trăng treo.'\n",
        "speak = gTTS(text = A, lang = 'vi', slow = False)\n",
        "speak.save('dongchi.mp3')\n",
        "# playsound('dongchi.mp3')\n",
        "# os.remove('dongchi.mp3')\n",
        "print(A)"
      ],
      "metadata": {
        "id": "QplUs22zWElx",
        "colab": {
          "base_uri": "https://localhost:8080/"
        },
        "outputId": "ff83f477-1f1d-4924-d11c-3fbbe7608146"
      },
      "execution_count": null,
      "outputs": [
        {
          "output_type": "stream",
          "name": "stdout",
          "text": [
            "Quê hương anh nước mặn, đồng chua.Làng tôi nghèo đất cày lên sỏi đá.Anh với tôi đôi người xa lạ.Tự phương trời chẳng hẹn quen nhau.Súng bên súng, đầu sát bên đầu.Đêm rét chung chăn thành đôi tri kỷ.Đồng chí!.Ruộng nương anh gửi bạn thân cày.Gian nhà không mặc kệ gió lung lay.Giếng nước gốc đa nhớ người ra lính.Anh với tôi biết từng cơn ớn lạnh,.Sốt run người, vừng trán ướt mồ hôi.Áo anh rách vai.Quần tôi có vài mảnh vá.Miệng cười buốt giá.Chân không giày.Thương nhau tay nắm lấy bàn tay!.Đêm nay rừng hoang sương muối.Đứng cạnh bên nhau chờ giặc tới.Đầu súng trăng treo.\n"
          ]
        }
      ]
    },
    {
      "cell_type": "code",
      "source": [
        "pip install googletrans==3.1.0a0"
      ],
      "metadata": {
        "colab": {
          "base_uri": "https://localhost:8080/"
        },
        "id": "zGBcjqM8f2Su",
        "outputId": "f8f32a88-dc93-450c-d08f-d077e4e2200a"
      },
      "execution_count": 48,
      "outputs": [
        {
          "output_type": "stream",
          "name": "stdout",
          "text": [
            "Looking in indexes: https://pypi.org/simple, https://us-python.pkg.dev/colab-wheels/public/simple/\n",
            "Requirement already satisfied: googletrans==3.1.0a0 in /usr/local/lib/python3.10/dist-packages (3.1.0a0)\n",
            "Requirement already satisfied: httpx==0.13.3 in /usr/local/lib/python3.10/dist-packages (from googletrans==3.1.0a0) (0.13.3)\n",
            "Requirement already satisfied: hstspreload in /usr/local/lib/python3.10/dist-packages (from httpx==0.13.3->googletrans==3.1.0a0) (2023.1.1)\n",
            "Requirement already satisfied: idna==2.* in /usr/local/lib/python3.10/dist-packages (from httpx==0.13.3->googletrans==3.1.0a0) (2.10)\n",
            "Requirement already satisfied: sniffio in /usr/local/lib/python3.10/dist-packages (from httpx==0.13.3->googletrans==3.1.0a0) (1.3.0)\n",
            "Requirement already satisfied: httpcore==0.9.* in /usr/local/lib/python3.10/dist-packages (from httpx==0.13.3->googletrans==3.1.0a0) (0.9.1)\n",
            "Requirement already satisfied: chardet==3.* in /usr/local/lib/python3.10/dist-packages (from httpx==0.13.3->googletrans==3.1.0a0) (3.0.4)\n",
            "Requirement already satisfied: rfc3986<2,>=1.3 in /usr/local/lib/python3.10/dist-packages (from httpx==0.13.3->googletrans==3.1.0a0) (1.5.0)\n",
            "Requirement already satisfied: certifi in /usr/local/lib/python3.10/dist-packages (from httpx==0.13.3->googletrans==3.1.0a0) (2022.12.7)\n",
            "Requirement already satisfied: h11<0.10,>=0.8 in /usr/local/lib/python3.10/dist-packages (from httpcore==0.9.*->httpx==0.13.3->googletrans==3.1.0a0) (0.9.0)\n",
            "Requirement already satisfied: h2==3.* in /usr/local/lib/python3.10/dist-packages (from httpcore==0.9.*->httpx==0.13.3->googletrans==3.1.0a0) (3.2.0)\n",
            "Requirement already satisfied: hyperframe<6,>=5.2.0 in /usr/local/lib/python3.10/dist-packages (from h2==3.*->httpcore==0.9.*->httpx==0.13.3->googletrans==3.1.0a0) (5.2.0)\n",
            "Requirement already satisfied: hpack<4,>=3.0 in /usr/local/lib/python3.10/dist-packages (from h2==3.*->httpcore==0.9.*->httpx==0.13.3->googletrans==3.1.0a0) (3.0.0)\n"
          ]
        }
      ]
    },
    {
      "cell_type": "code",
      "source": [
        "from googletrans import Translator \n",
        "translator = Translator()\n",
        "translation = translator.translate(A, dest = 'ru')\n",
        "print(translation.text)\n",
        "\n"
      ],
      "metadata": {
        "colab": {
          "base_uri": "https://localhost:8080/"
        },
        "id": "EIVbTaAOgGVQ",
        "outputId": "995f9391-aee0-4b91-ee81-437c17ff1e0d"
      },
      "execution_count": 58,
      "outputs": [
        {
          "output_type": "stream",
          "name": "stdout",
          "text": [
            "Его родина - вода соленая, поля кислые. Деревня моя - скудная земля, перепаханная гравием. Мы с тобою - пара незнакомых людей. С неба мы не знаем друг друга. Ружье за ​​ружьем, голова рядом с головой. Век. Товарищ!.Поля и нивы он послал своего лучшего друга пахать.Дом не заботится о ветре трясет.Оригинал хорошо помнит солдата.Мы с тобой знаем каждый озноб,.Лихорадка дрожит,лоб мокрый от пота.Его Рубашка порвана. На штанах несколько заплат. Во рту холодно. Мои ноги босые. Без обуви. Любящие друг друга и держащиеся за руки!. Сегодня ночью лес в тумане. Лунная пушка.\n"
          ]
        }
      ]
    },
    {
      "cell_type": "code",
      "source": [
        "from googletrans import Translator \n",
        "translator = Translator()\n",
        "translation = translator.translate('Расцветали яблони и груши.\\\n",
        "Поплыли туманы над рекой.\\\n",
        "Выходила на берег Катюша.\\\n",
        "На высокий берег на крутой.\\\n",
        "Выходила на берег Катюша.\\\n",
        "На высокий берег на крутой.\\\n",
        "Выходила, песню заводила.\\\n",
        "Про степного сизого орла.\\\n",
        "Про того, которого любила.\\\n",
        "Про того, чьи письма берегла.\\\n",
        "Про того, которого любила.\\\n",
        "Про того, чьи письма берегла.\\\n",
        "Ой, ты, песня, песенка девичья.\\\n",
        "Ты лети за ясным солнцем вслед.\\\n",
        "И бойцу на дальнем пограничье.\\\n",
        "От Катюши передай привет.\\\n",
        "И бойцу на дальнем пограничье.\\\n",
        "От Катюши передай привет.\\\n",
        "Пусть он вспомнит девушку простую.\\\n",
        "Пусть услышит, как она поет.\\\n",
        "Пусть он землю бережет родную.\\\n",
        "А любовь Катюша сбережет.\\\n",
        "Пусть он землю бережет родную.\\\n",
        "А любовь Катюша сбережет.\\\n",
        "Расцветали яблони и груши.\\\n",
        "Поплыли туманы над рекой.\\\n",
        "Выходила на берег Катюша.\\\n",
        "На высокий берег на крутой.\\\n",
        "Выходила на берег Катюша.\\\n",
        "На высокий берег на крутой.', dest = 'vi')\n",
        "print(translation.text)"
      ],
      "metadata": {
        "colab": {
          "base_uri": "https://localhost:8080/"
        },
        "id": "e3EcvEDYiX7c",
        "outputId": "2f21fc25-c32e-4e60-cc7a-01e90ef30571"
      },
      "execution_count": 65,
      "outputs": [
        {
          "output_type": "stream",
          "name": "stdout",
          "text": [
            "Cây táo và cây lê nở hoa. Sương mù bồng bềnh trên sông. Katyusha đã lên bờ. Những lá thư mà bạn ấp ủ. Về người bạn yêu. Về người có những lá thư mà bạn ấp ủ. Lời chào từ Katyusha. Hãy để anh ấy nhớ về một cô gái giản dị. Hãy để anh ấy nghe cô ấy hát như thế nào. Hãy để anh ấy bảo vệ quê hương của mình. Và Katyusha sẽ cứu lấy tình yêu. .Katyusha đã lên bờ. Đến một bờ cao trên một dốc. Katyusha đã lên bờ. Trên một bờ cao đến một dốc.\n"
          ]
        }
      ]
    },
    {
      "cell_type": "code",
      "source": [
        "file = '/content/drive/MyDrive/Ed Sheeran - Shape of You (Official Music Video).wav'\n",
        "import speech_recognition as sr \n",
        "r = sr.Recognizer()\n",
        "with sr.AudioFile(file) as source:\n",
        "  data1 = r.record(source, offset =10 ,  duration = 90)\n",
        "  text = r.recognize_google(data1, language = 'en')\n",
        "\n",
        "from googletrans import Translator \n",
        "translator = Translator()\n",
        "translation = translator.translate(text, dest = 'vi')\n",
        "print(translation)"
      ],
      "metadata": {
        "colab": {
          "base_uri": "https://localhost:8080/"
        },
        "id": "KuLSY9FNjx1m",
        "outputId": "6326b940-ac51-4dd8-bc2b-e16b3f91f796"
      },
      "execution_count": 71,
      "outputs": [
        {
          "output_type": "stream",
          "name": "stdout",
          "text": [
            "Translated(src=en, dest=vi, text=nơi tốt nhất để tìm người yêu đến quán bar là nơi tôi đến, pronunciation=best place to find a lover to the bar is where I go, extra_data=\"{'translat...\")\n"
          ]
        }
      ]
    },
    {
      "cell_type": "code",
      "source": [
        "pip install transformers"
      ],
      "metadata": {
        "colab": {
          "base_uri": "https://localhost:8080/"
        },
        "id": "K0rveNFunGb4",
        "outputId": "744eaadc-9528-437e-9a00-0ac8ea959c77"
      },
      "execution_count": 72,
      "outputs": [
        {
          "output_type": "stream",
          "name": "stdout",
          "text": [
            "Looking in indexes: https://pypi.org/simple, https://us-python.pkg.dev/colab-wheels/public/simple/\n",
            "Collecting transformers\n",
            "  Downloading transformers-4.28.1-py3-none-any.whl (7.0 MB)\n",
            "\u001b[2K     \u001b[90m━━━━━━━━━━━━━━━━━━━━━━━━━━━━━━━━━━━━━━━━\u001b[0m \u001b[32m7.0/7.0 MB\u001b[0m \u001b[31m49.5 MB/s\u001b[0m eta \u001b[36m0:00:00\u001b[0m\n",
            "\u001b[?25hRequirement already satisfied: packaging>=20.0 in /usr/local/lib/python3.10/dist-packages (from transformers) (23.1)\n",
            "Requirement already satisfied: numpy>=1.17 in /usr/local/lib/python3.10/dist-packages (from transformers) (1.22.4)\n",
            "Requirement already satisfied: pyyaml>=5.1 in /usr/local/lib/python3.10/dist-packages (from transformers) (6.0)\n",
            "Collecting huggingface-hub<1.0,>=0.11.0\n",
            "  Downloading huggingface_hub-0.14.1-py3-none-any.whl (224 kB)\n",
            "\u001b[2K     \u001b[90m━━━━━━━━━━━━━━━━━━━━━━━━━━━━━━━━━━━━━━\u001b[0m \u001b[32m224.5/224.5 kB\u001b[0m \u001b[31m23.6 MB/s\u001b[0m eta \u001b[36m0:00:00\u001b[0m\n",
            "\u001b[?25hCollecting tokenizers!=0.11.3,<0.14,>=0.11.1\n",
            "  Downloading tokenizers-0.13.3-cp310-cp310-manylinux_2_17_x86_64.manylinux2014_x86_64.whl (7.8 MB)\n",
            "\u001b[2K     \u001b[90m━━━━━━━━━━━━━━━━━━━━━━━━━━━━━━━━━━━━━━━━\u001b[0m \u001b[32m7.8/7.8 MB\u001b[0m \u001b[31m74.8 MB/s\u001b[0m eta \u001b[36m0:00:00\u001b[0m\n",
            "\u001b[?25hRequirement already satisfied: regex!=2019.12.17 in /usr/local/lib/python3.10/dist-packages (from transformers) (2022.10.31)\n",
            "Requirement already satisfied: tqdm>=4.27 in /usr/local/lib/python3.10/dist-packages (from transformers) (4.65.0)\n",
            "Requirement already satisfied: requests in /usr/local/lib/python3.10/dist-packages (from transformers) (2.27.1)\n",
            "Requirement already satisfied: filelock in /usr/local/lib/python3.10/dist-packages (from transformers) (3.12.0)\n",
            "Requirement already satisfied: fsspec in /usr/local/lib/python3.10/dist-packages (from huggingface-hub<1.0,>=0.11.0->transformers) (2023.4.0)\n",
            "Requirement already satisfied: typing-extensions>=3.7.4.3 in /usr/local/lib/python3.10/dist-packages (from huggingface-hub<1.0,>=0.11.0->transformers) (4.5.0)\n",
            "Requirement already satisfied: idna<4,>=2.5 in /usr/local/lib/python3.10/dist-packages (from requests->transformers) (2.10)\n",
            "Requirement already satisfied: urllib3<1.27,>=1.21.1 in /usr/local/lib/python3.10/dist-packages (from requests->transformers) (1.26.15)\n",
            "Requirement already satisfied: certifi>=2017.4.17 in /usr/local/lib/python3.10/dist-packages (from requests->transformers) (2022.12.7)\n",
            "Requirement already satisfied: charset-normalizer~=2.0.0 in /usr/local/lib/python3.10/dist-packages (from requests->transformers) (2.0.12)\n",
            "Installing collected packages: tokenizers, huggingface-hub, transformers\n",
            "Successfully installed huggingface-hub-0.14.1 tokenizers-0.13.3 transformers-4.28.1\n"
          ]
        }
      ]
    },
    {
      "cell_type": "code",
      "source": [
        "from transformers import pipeline, set_seed\n",
        "text = input('Request:')\n",
        "generator = pipeline('text-generation', model = 'gpt2')\n",
        "set_seed(42)\n",
        "generator(text, max_length=100,num_return_sequences=5)"
      ],
      "metadata": {
        "colab": {
          "base_uri": "https://localhost:8080/"
        },
        "id": "gEqJK-1knGRZ",
        "outputId": "5a88acd7-d0bf-4b4c-c0c5-4be8980668c7"
      },
      "execution_count": 78,
      "outputs": [
        {
          "name": "stdout",
          "output_type": "stream",
          "text": [
            "Request:Talk about chicken\n"
          ]
        },
        {
          "output_type": "stream",
          "name": "stderr",
          "text": [
            "/usr/local/lib/python3.10/dist-packages/transformers/generation/utils.py:1219: UserWarning: You have modified the pretrained model configuration to control generation. This is a deprecated strategy to control generation and will be removed soon, in a future version. Please use a generation configuration file (see https://huggingface.co/docs/transformers/main_classes/text_generation)\n",
            "  warnings.warn(\n",
            "Setting `pad_token_id` to `eos_token_id`:50256 for open-end generation.\n"
          ]
        },
        {
          "output_type": "execute_result",
          "data": {
            "text/plain": [
              "[{'generated_text': \"Talk about chicken: what you do. Not a question. I know for a fact that you're not, and I know there's no reason why you should try to avoid them. I know that I'm a little naive to the idea that I can help the people who don't know what I'm talking about. I'm just a little curious. Because, the biggest point that I think about when it comes to anything is that it might be easier to go into an entire world and to do\"},\n",
              " {'generated_text': \"Talk about chicken soup, or even your favorite pasta dish before you order it, you'll end up wondering how many of these meals there even is on the fridge. There are hundreds, even thousands, of different recipes here on the web, and the internet just will take you by surprise. Most food blogs are so loaded with recipes that it is impossible to keep up. So here are nine other, more specific recipes you probably have nowhere else to go but to your smartphone or tablet, but don't\"},\n",
              " {'generated_text': \"Talk about chicken, then there's no other place for those of us who know chicken at all. Our obsession with that chicken seems to have taken hold with all the other ingredients.\\n\\nI hope I've given you a sense of what your tastes might be once you try them. For starters, what have you been eating lately?\\n\\nI haven't eaten chicken dinner since the day I went back to college years ago. During one of my years visiting, I was invited to the restaurant for\"},\n",
              " {'generated_text': \"Talk about chicken feed and their role in the world…\\n\\nKirby: That was true of the whole animal business. The reason I left my big commercial chicken farm in 1991 was that I got the idea for food in my head, when I started to actually learn to write. The idea for Chicken Feed is that when you have a dish that's been used for a long time, you can tell if it was healthy or not. You can tell this to your house. It can be\"},\n",
              " {'generated_text': \"Talk about chicken. I don't know anything about chicken. I haven't tasted anything from it. I am sure he does not take it for granted.\\n\\nDo I want a sandwich to hold me when I'm walking my dog? No, I am trying out some new foods. There is only one sandwich here. It is a banana bread. I cannot be bothered with chicken. It sucks, but not because I hate it. I am trying to do something right.\\n\\nDo I\"}]"
            ]
          },
          "metadata": {},
          "execution_count": 78
        }
      ]
    },
    {
      "cell_type": "code",
      "source": [
        "#generator[0]['generated_text']"
      ],
      "metadata": {
        "id": "PhL2VoignGKX"
      },
      "execution_count": 88,
      "outputs": []
    },
    {
      "cell_type": "code",
      "source": [],
      "metadata": {
        "id": "a_bF6X2nnGF7"
      },
      "execution_count": null,
      "outputs": []
    },
    {
      "cell_type": "code",
      "source": [],
      "metadata": {
        "id": "5ivhGv5qnGDj"
      },
      "execution_count": null,
      "outputs": []
    },
    {
      "cell_type": "code",
      "source": [],
      "metadata": {
        "id": "SmrAU1OrnF9w"
      },
      "execution_count": null,
      "outputs": []
    }
  ]
}