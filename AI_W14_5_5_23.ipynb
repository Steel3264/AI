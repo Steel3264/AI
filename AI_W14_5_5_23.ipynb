{
  "nbformat": 4,
  "nbformat_minor": 0,
  "metadata": {
    "colab": {
      "provenance": [],
      "mount_file_id": "1p6PulEE3ShZB9a1a9n-CUTOmOLlnKOL_",
      "authorship_tag": "ABX9TyPWEk/GIElObPtoblIL1o6w",
      "include_colab_link": true
    },
    "kernelspec": {
      "name": "python3",
      "display_name": "Python 3"
    },
    "language_info": {
      "name": "python"
    }
  },
  "cells": [
    {
      "cell_type": "markdown",
      "metadata": {
        "id": "view-in-github",
        "colab_type": "text"
      },
      "source": [
        "<a href=\"https://colab.research.google.com/github/Steel3264/AI/blob/main/AI_W14_5_5_23.ipynb\" target=\"_parent\"><img src=\"https://colab.research.google.com/assets/colab-badge.svg\" alt=\"Open In Colab\"/></a>"
      ]
    },
    {
      "cell_type": "code",
      "execution_count": 1,
      "metadata": {
        "colab": {
          "base_uri": "https://localhost:8080/"
        },
        "id": "sYp3NO_YPlWm",
        "outputId": "5cf5be02-f54b-40a9-c834-5627ccb6648c"
      },
      "outputs": [
        {
          "output_type": "stream",
          "name": "stdout",
          "text": [
            "Looking in indexes: https://pypi.org/simple, https://us-python.pkg.dev/colab-wheels/public/simple/\n",
            "Collecting speechRecognition\n",
            "  Downloading SpeechRecognition-3.10.0-py2.py3-none-any.whl (32.8 MB)\n",
            "\u001b[2K     \u001b[90m━━━━━━━━━━━━━━━━━━━━━━━━━━━━━━━━━━━━━━━━\u001b[0m \u001b[32m32.8/32.8 MB\u001b[0m \u001b[31m14.9 MB/s\u001b[0m eta \u001b[36m0:00:00\u001b[0m\n",
            "\u001b[?25hCollecting pydub\n",
            "  Downloading pydub-0.25.1-py2.py3-none-any.whl (32 kB)\n",
            "Requirement already satisfied: requests>=2.26.0 in /usr/local/lib/python3.10/dist-packages (from speechRecognition) (2.27.1)\n",
            "Requirement already satisfied: certifi>=2017.4.17 in /usr/local/lib/python3.10/dist-packages (from requests>=2.26.0->speechRecognition) (2022.12.7)\n",
            "Requirement already satisfied: urllib3<1.27,>=1.21.1 in /usr/local/lib/python3.10/dist-packages (from requests>=2.26.0->speechRecognition) (1.26.15)\n",
            "Requirement already satisfied: idna<4,>=2.5 in /usr/local/lib/python3.10/dist-packages (from requests>=2.26.0->speechRecognition) (3.4)\n",
            "Requirement already satisfied: charset-normalizer~=2.0.0 in /usr/local/lib/python3.10/dist-packages (from requests>=2.26.0->speechRecognition) (2.0.12)\n",
            "Installing collected packages: pydub, speechRecognition\n",
            "Successfully installed pydub-0.25.1 speechRecognition-3.10.0\n"
          ]
        }
      ],
      "source": [
        "pip install speechRecognition pydub \n"
      ]
    },
    {
      "cell_type": "code",
      "source": [
        "file = '/content/drive/MyDrive/cn.wav'\n",
        "import speech_recognition as sr \n",
        "r = sr.Recognizer()\n",
        "with sr.AudioFile(file) as source:\n",
        "  data = r.record(source)\n",
        "  text = r.recognize_google(data,language = 'zh')\n",
        "print(text)"
      ],
      "metadata": {
        "colab": {
          "base_uri": "https://localhost:8080/"
        },
        "id": "pEqna39WP576",
        "outputId": "b7a6c20b-765d-4c2a-ec1b-72dfffa46efd"
      },
      "execution_count": 2,
      "outputs": [
        {
          "output_type": "stream",
          "name": "stdout",
          "text": [
            "珠晖区\n"
          ]
        }
      ]
    },
    {
      "cell_type": "code",
      "source": [
        "file = '/content/drive/MyDrive/SOUND(AI)/SOUND/TV.wav'\n",
        "import speech_recognition as sr \n",
        "r = sr.Recognizer()\n",
        "with sr.AudioFile(file) as source:\n",
        "  data1 = r.record(source, offset =10 ,  duration = 90)\n",
        "  text = r.recognize_google(data1, language = 'vi')\n",
        "print(text)"
      ],
      "metadata": {
        "id": "IG0hp88bRHIR"
      },
      "execution_count": null,
      "outputs": []
    }
  ]
}